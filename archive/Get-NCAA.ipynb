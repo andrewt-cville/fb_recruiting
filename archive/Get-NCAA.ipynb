{
 "cells": [
  {
   "cell_type": "code",
   "execution_count": null,
   "metadata": {},
   "outputs": [],
   "source": [
    "from bs4 import BeautifulSoup\n",
    "import requests\n",
    "import lxml\n",
    "import time\n",
    "import json\n",
    "import os.path\n",
    "from os import path\n",
    "import string"
   ]
  },
  {
   "cell_type": "code",
   "execution_count": null,
   "metadata": {},
   "outputs": [],
   "source": [
    "def requestPage (url):\n",
    "    headers={'user-agent':'Mozilla/5.0 (Macintosh; Intel Mac OS X 10_14_2) AppleWebKit/537.36 (KHTML, like Gecko) Chrome/73.0.3683.103 Safari/537.36'}\n",
    "    r = requests.get(url, headers=headers)\n",
    "    request = {}\n",
    "    request['status_code'] = r.status_code\n",
    "    request['reason'] = r.reason\n",
    "    request['text'] = r.text\n",
    "    return request"
   ]
  },
  {
   "cell_type": "code",
   "execution_count": null,
   "metadata": {},
   "outputs": [],
   "source": [
    "#Load NCAA Site Schema\n",
    "schoolsList = json.loads(open('..//config//schools.json', \"r\").read())\n",
    "ncaaDates = json.loads(open('..//config//ncaa_dates.json', \"r\").read())"
   ]
  },
  {
   "cell_type": "markdown",
   "metadata": {},
   "source": []
  },
  {
   "cell_type": "markdown",
   "metadata": {},
   "source": [
    "#"
   ]
  },
  {
   "cell_type": "code",
   "execution_count": null,
   "metadata": {},
   "outputs": [
    {
     "name": "stdout",
     "output_type": "stream",
     "text": [
      "[{'team': 'maryland', 'conference': 'bigten', 'ncaa': 'http://stats.ncaa.org/team/392/roster/'}, {'team': 'illinois', 'conference': 'bigten', 'ncaa': 'http://stats.ncaa.org/team/301/roster/'}, {'team': 'indiana', 'conference': 'bigten', 'ncaa': 'http://stats.ncaa.org/team/306/roster/'}, {'team': 'iowa', 'conference': 'bigten', 'ncaa': 'http://stats.ncaa.org/team/312/roster/'}, {'team': 'michigan', 'conference': 'bigten', 'ncaa': 'http://stats.ncaa.org/team/418/roster/'}, {'team': 'michigan-state', 'conference': 'bigten', 'ncaa': 'http://stats.ncaa.org/team/416/roster/'}, {'team': 'minnesota', 'conference': 'bigten', 'ncaa': 'http://stats.ncaa.org/team/428/roster/'}, {'team': 'northwestern', 'conference': 'bigten', 'ncaa': 'http://stats.ncaa.org/team/463/roster/'}, {'team': 'ohio-state', 'conference': 'bigten', 'ncaa': 'http://stats.ncaa.org/team/518/roster/'}, {'team': 'penn-state', 'conference': 'bigten', 'ncaa': 'http://stats.ncaa.org/team/539/roster/'}, {'team': 'purdue', 'conference': 'bigten', 'ncaa': 'http://stats.ncaa.org/team/559/roster/'}, {'team': 'rutgers', 'conference': 'bigten', 'ncaa': 'http://stats.ncaa.org/team/587/roster/'}, {'team': 'wisconsin', 'conference': 'bigten', 'ncaa': 'http://stats.ncaa.org/team/796/roster/'}, {'team': 'alabama', 'conference': 'sec', 'ncaa': 'http://stats.ncaa.org/team/8/roster/'}, {'team': 'arkansas', 'conference': 'sec', 'ncaa': 'http://stats.ncaa.org/team/31/roster/'}, {'team': 'auburn', 'conference': 'sec', 'ncaa': 'http://stats.ncaa.org/team/37/roster/'}, {'team': 'florida', 'conference': 'sec', 'ncaa': 'http://stats.ncaa.org/team/235/roster/'}, {'team': 'georgia', 'conference': 'sec', 'ncaa': 'http://stats.ncaa.org/team/257/roster/'}, {'team': 'kentucky', 'conference': 'sec', 'ncaa': 'http://stats.ncaa.org/team/334/roster/'}, {'team': 'lsu', 'conference': 'sec', 'ncaa': 'http://stats.ncaa.org/team/365/roster/'}, {'team': 'ole-miss', 'conference': 'sec', 'ncaa': 'http://stats.ncaa.org/team/433/roster/'}, {'team': 'mississippi-state', 'conference': 'sec', 'ncaa': 'http://stats.ncaa.org/team/430/roster/'}, {'team': 'missouri', 'conference': 'sec', 'ncaa': 'http://stats.ncaa.org/team/434/roster/'}, {'team': 'south-carolina', 'conference': 'sec', 'ncaa': 'http://stats.ncaa.org/team/648/roster/'}, {'team': 'tennessee', 'conference': 'sec', 'ncaa': 'http://stats.ncaa.org/team/694/roster/'}, {'team': 'texas-am', 'conference': 'sec', 'ncaa': 'http://stats.ncaa.org/team/697/roster/'}, {'team': 'vanderbilt', 'conference': 'sec', 'ncaa': 'http://stats.ncaa.org/team/736/roster/'}, {'team': 'baylor', 'conference': 'bigtwelve', 'ncaa': 'http://stats.ncaa.org/team/522/roster/'}, {'team': 'iowa-state', 'conference': 'bigtwelve', 'ncaa': 'http://stats.ncaa.org/team/311/roster/'}, {'team': 'kansas', 'conference': 'bigtwelve', 'ncaa': 'http://stats.ncaa.org/team/328/roster/'}, {'team': 'oklahoma', 'conference': 'bigtwelve', 'ncaa': 'http://stats.ncaa.org/team/327/roster/'}, {'team': 'oklahoma-state', 'conference': 'bigtwelve', 'ncaa': 'http://stats.ncaa.org/team/521/roster/'}, {'team': 'tcu', 'conference': 'bigtwelve', 'ncaa': 'http://stats.ncaa.org/team/698/roster/'}, {'team': 'texas', 'conference': 'bigtwelve', 'ncaa': 'http://stats.ncaa.org/team/703/roster/'}, {'team': 'texas-tech', 'conference': 'bigtwelve', 'ncaa': 'http://stats.ncaa.org/team/700/roster/'}, {'team': 'west-virginia', 'conference': 'bigtwelve', 'ncaa': 'http://stats.ncaa.org/team/768/roster/'}, {'team': 'boston-college', 'conference': 'acc', 'ncaa': 'http://stats.ncaa.org/team/67/roster/'}, {'team': 'clemson', 'conference': 'acc', 'ncaa': 'http://stats.ncaa.org/team/147/roster/'}, {'team': 'duke', 'conference': 'acc', 'ncaa': 'http://stats.ncaa.org/team/193/roster/'}, {'team': 'florida-state', 'conference': 'acc', 'ncaa': 'http://stats.ncaa.org/team/234/roster/'}, {'team': 'georgia-tech', 'conference': 'acc', 'ncaa': 'http://stats.ncaa.org/team/255/roster/'}, {'team': 'louisville', 'conference': 'acc', 'ncaa': 'http://stats.ncaa.org/team/67/roster/'}, {'team': 'miami', 'conference': 'acc', 'ncaa': 'http://stats.ncaa.org/team/415/roster/'}, {'team': 'north-carolina-state', 'conference': 'acc', 'ncaa': 'http://stats.ncaa.org/team/490/roster/'}, {'team': 'north-carolina', 'conference': 'acc', 'ncaa': 'http://stats.ncaa.org/team/457/roster/'}, {'team': 'pittsburgh', 'conference': 'acc', 'ncaa': 'http://stats.ncaa.org/team/545/roster/'}, {'team': 'syracuse', 'conference': 'acc', 'ncaa': 'http://stats.ncaa.org/team/688/roster/'}, {'team': 'virginia', 'conference': 'acc', 'ncaa': 'http://stats.ncaa.org/team/746/roster/'}, {'team': 'virginia-tech', 'conference': 'acc', 'ncaa': 'http://stats.ncaa.org/team/742/roster/'}, {'team': 'wake-forest', 'conference': 'acc', 'ncaa': 'http://stats.ncaa.org/team/749/roster/'}, {'team': 'arizona-state', 'conference': 'pactwelve', 'ncaa': 'http://stats.ncaa.org/team/28/roster/'}, {'team': 'arizona', 'conference': 'pactwelve', 'ncaa': 'http://stats.ncaa.org/team/29/roster/'}, {'team': 'california', 'conference': 'pactwelve', 'ncaa': 'http://stats.ncaa.org/team/107/roster/'}, {'team': 'colorado', 'conference': 'pactwelve', 'ncaa': 'http://stats.ncaa.org/team/157/roster/'}, {'team': 'oregon', 'conference': 'pactwelve', 'ncaa': 'http://stats.ncaa.org/team/529/roster/'}, {'team': 'oregon-state', 'conference': 'pactwelve', 'ncaa': 'http://stats.ncaa.org/team/528/roster/'}, {'team': 'stanford', 'conference': 'pactwelve', 'ncaa': 'http://stats.ncaa.org/team/674/roster/'}, {'team': 'ucla', 'conference': 'pactwelve', 'ncaa': 'http://stats.ncaa.org/team/110/roster/'}, {'team': 'usc', 'conference': 'pactwelve', 'ncaa': 'http://stats.ncaa.org/team/657/roster/'}, {'team': 'utah', 'conference': 'pactwelve', 'ncaa': 'http://stats.ncaa.org/team/732/roster/'}, {'team': 'washington', 'conference': 'pactwelve', 'ncaa': 'http://stats.ncaa.org/team/756/roster/'}, {'team': 'washington-state', 'conference': 'pactwelve', 'ncaa': 'http://stats.ncaa.org/team/754/roster/'}]\n"
     ]
    }
   ],
   "source": [
    "urlDict = []\n",
    "for x in schoolsList:\n",
    "    if ('ncaa' in x.keys()):\n",
    "        thisUrl = {}\n",
    "        thisUrl['team'] = x['id']\n",
    "        thisUrl['conference'] = x['conference'][0]\n",
    "        thisUrl['ncaa'] = 'http://stats.ncaa.org/team/' + x['ncaa'] + '/roster/'\n",
    "        urlDict.append(thisUrl)\n",
    "print(urlDict)"
   ]
  },
  {
   "cell_type": "code",
   "execution_count": null,
   "metadata": {},
   "outputs": [
    {
     "name": "stdout",
     "output_type": "stream",
     "text": [
      "maryland 11520:200\n",
      "maryland 11980:200\n",
      "maryland 12240:200\n",
      "maryland 12424:200\n"
     ]
    },
    {
     "ename": "KeyboardInterrupt",
     "evalue": "",
     "output_type": "error",
     "traceback": [
      "\u001b[0;31m---------------------------------------------------------------------------\u001b[0m",
      "\u001b[0;31mKeyboardInterrupt\u001b[0m                         Traceback (most recent call last)",
      "\u001b[0;32m<ipython-input-5-197ceb01d7c4>\u001b[0m in \u001b[0;36m<module>\u001b[0;34m\u001b[0m\n\u001b[1;32m      6\u001b[0m             \u001b[0;32mwith\u001b[0m \u001b[0mopen\u001b[0m\u001b[0;34m(\u001b[0m\u001b[0;34m\"..//html//ncaa//\"\u001b[0m \u001b[0;34m+\u001b[0m \u001b[0mx\u001b[0m\u001b[0;34m[\u001b[0m\u001b[0;34m'conference'\u001b[0m\u001b[0;34m]\u001b[0m \u001b[0;34m+\u001b[0m \u001b[0;34m\"//rosters//\"\u001b[0m \u001b[0;34m+\u001b[0m \u001b[0mx\u001b[0m\u001b[0;34m[\u001b[0m\u001b[0;34m'team'\u001b[0m\u001b[0;34m]\u001b[0m \u001b[0;34m+\u001b[0m \u001b[0;34m\"_\"\u001b[0m \u001b[0;34m+\u001b[0m \u001b[0myear\u001b[0m\u001b[0;34m[\u001b[0m\u001b[0;34m'year'\u001b[0m\u001b[0;34m]\u001b[0m \u001b[0;34m+\u001b[0m \u001b[0;34m\".html\"\u001b[0m\u001b[0;34m,\u001b[0m \u001b[0;34m\"w\"\u001b[0m\u001b[0;34m,\u001b[0m \u001b[0mencoding\u001b[0m\u001b[0;34m=\u001b[0m\u001b[0;34m\"utf-8\"\u001b[0m\u001b[0;34m)\u001b[0m \u001b[0;32mas\u001b[0m \u001b[0mwrite_file\u001b[0m\u001b[0;34m:\u001b[0m\u001b[0;34m\u001b[0m\u001b[0;34m\u001b[0m\u001b[0m\n\u001b[1;32m      7\u001b[0m                 \u001b[0mwrite_file\u001b[0m\u001b[0;34m.\u001b[0m\u001b[0mwrite\u001b[0m\u001b[0;34m(\u001b[0m\u001b[0mrequest\u001b[0m\u001b[0;34m[\u001b[0m\u001b[0;34m'text'\u001b[0m\u001b[0;34m]\u001b[0m\u001b[0;34m)\u001b[0m\u001b[0;34m\u001b[0m\u001b[0;34m\u001b[0m\u001b[0m\n\u001b[0;32m----> 8\u001b[0;31m         \u001b[0mtime\u001b[0m\u001b[0;34m.\u001b[0m\u001b[0msleep\u001b[0m\u001b[0;34m(\u001b[0m\u001b[0;36m6\u001b[0m\u001b[0;34m)\u001b[0m\u001b[0;34m\u001b[0m\u001b[0;34m\u001b[0m\u001b[0m\n\u001b[0m",
      "\u001b[0;31mKeyboardInterrupt\u001b[0m: "
     ]
    }
   ],
   "source": [
    "for x in urlDict:\n",
    "    for year in ncaaDates:\n",
    "        request = requestPage(x['ncaa'] + year['id'])\n",
    "        print(x['team'] + ' ' + year['id'] + ':' + str(request['status_code']))\n",
    "        if (request['status_code'] == 200):\n",
    "            with open(\"..//html//ncaa//\" + x['conference'] + \"//rosters//\" + x['team'] + \"_\" + year['year'] + \".html\", \"w\", encoding=\"utf-8\") as write_file:\n",
    "                write_file.write(request['text'])\n",
    "        time.sleep(6)"
   ]
  },
  {
   "cell_type": "code",
   "execution_count": null,
   "metadata": {},
   "outputs": [],
   "source": []
  }
 ],
 "metadata": {
  "kernelspec": {
   "display_name": "Python 3",
   "language": "python",
   "name": "python3"
  }
 },
 "nbformat": 4,
 "nbformat_minor": 4
}
