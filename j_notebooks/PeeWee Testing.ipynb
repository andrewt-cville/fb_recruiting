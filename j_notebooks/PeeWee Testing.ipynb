{
 "cells": [
  {
   "cell_type": "code",
   "execution_count": 1,
   "id": "4e994467",
   "metadata": {},
   "outputs": [],
   "source": [
    "from peewee import *"
   ]
  },
  {
   "cell_type": "code",
   "execution_count": 2,
   "id": "1400bc37",
   "metadata": {},
   "outputs": [],
   "source": [
    "db = SqliteDatabase('PeeWee.db')"
   ]
  },
  {
   "cell_type": "code",
   "execution_count": null,
   "id": "739cd2e2",
   "metadata": {},
   "outputs": [],
   "source": [
    "class SourcedPlayer247(Model):\n",
    "    name = CharField()\n",
    "    birthday = DateField()\n",
    "\n",
    "    class Meta:\n",
    "        database = db # This model uses the \"people.db\" database."
   ]
  }
 ],
 "metadata": {
  "kernelspec": {
   "display_name": "Python 3 (ipykernel)",
   "language": "python",
   "name": "python3"
  },
  "language_info": {
   "codemirror_mode": {
    "name": "ipython",
    "version": 3
   },
   "file_extension": ".py",
   "mimetype": "text/x-python",
   "name": "python",
   "nbconvert_exporter": "python",
   "pygments_lexer": "ipython3",
   "version": "3.8.16"
  }
 },
 "nbformat": 4,
 "nbformat_minor": 5
}
