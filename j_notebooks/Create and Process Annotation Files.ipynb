{
 "cells": [
  {
   "cell_type": "markdown",
   "metadata": {},
   "source": [
    "# Annotation Files for Manual Linking\n",
    ">This notebook facilitates writing out non-linked players to an annotation file - then handling the write out to annotation files.  The files can then be loaded here to process: https://j535d165.github.io/recordlinkage-annotator/  Finally the result file can be loaded back into the j_notebook directory where it is picked up here and added to the Record Links database table."
   ]
  },
  {
   "cell_type": "code",
   "execution_count": 1,
   "metadata": {},
   "outputs": [],
   "source": [
    "import pandas as pd\n",
    "import recordlinkage as rl\n",
    "from recordlinkage.index import Block\n",
    "import sqlite3 as sql\n",
    "import functions as fx\n",
    "import core_constants as cc"
   ]
  },
  {
   "cell_type": "markdown",
   "metadata": {},
   "source": [
    "## Load Datasets\n",
    "> Load the source and target datasets.  Currently it is only written for 247 and Rivals but needs to be extended"
   ]
  },
  {
   "cell_type": "code",
   "execution_count": 4,
   "metadata": {},
   "outputs": [],
   "source": [
    "dataset_keys = {'sports247': 'Unlinked247', 'rivals': 'UnlinkedRivals'}\n",
    "for key,value in dataset_keys.items():\n",
    "    SQL = \"\"\"SELECT * FROM {}\"\"\".format(value)\n",
    "    vars()[key] = (fx.connDBAndReturnDF(SQL)).set_index('IDYR')\n",
    "    (vars()[key]).index.name = key + '_IDYR'\n",
    "    (vars()[key])['IDYR'] = (vars()[key]).index.get_level_values(0)"
   ]
  },
  {
   "cell_type": "markdown",
   "metadata": {},
   "source": [
    "## Create Blockers\n",
    "> In this case, we are creating blockers on college and year to limit the number of possible matches.\n",
    "\n",
    "#### !!!This should be extended to take into account fuzzy matching confidence level as well!!!"
   ]
  },
  {
   "cell_type": "code",
   "execution_count": 6,
   "metadata": {},
   "outputs": [],
   "source": [
    "indexer = rl.BlockIndex(on=['College', 'Year'])\n",
    "candidate_links = indexer.index(sports247, rivals)"
   ]
  },
  {
   "cell_type": "markdown",
   "metadata": {},
   "source": [
    "## Create Annotation file\n",
    "> This is actually terrible code.  Currently I'm manually updating by length.  Need to loop through.  TODO"
   ]
  },
  {
   "cell_type": "code",
   "execution_count": 42,
   "metadata": {},
   "outputs": [],
   "source": [
    "rl.write_annotation_file(\n",
    "    \"annotate_rivals_14.json\",\n",
    "    candidate_links[7001:7500],\n",
    "    sports247,\n",
    "    rivals,\n",
    "    dataset_a_name=\"247 Sports\",\n",
    "    dataset_b_name=\"Rivals\")"
   ]
  },
  {
   "cell_type": "markdown",
   "metadata": {},
   "source": [
    "## Read in Result\n",
    "> Once you handled the above file in the annotator, the below code will verify that the res"
   ]
  },
  {
   "cell_type": "code",
   "execution_count": 2,
   "metadata": {},
   "outputs": [],
   "source": [
    "annotation = rl.read_annotation_file(\"result_14.json\")\n",
    "annotation_dict = (annotation.links).to_flat_index()"
   ]
  },
  {
   "cell_type": "code",
   "execution_count": 3,
   "metadata": {},
   "outputs": [
    {
     "name": "stdout",
     "output_type": "stream",
     "text": [
      "sethsutton_troy_2005\n"
     ]
    }
   ],
   "source": [
    "print(annotation_dict[0][0])"
   ]
  },
  {
   "cell_type": "code",
   "execution_count": 4,
   "metadata": {},
   "outputs": [],
   "source": [
    "for record in annotation_dict:\n",
    "    Values = [record[0], record[1], 2, 1, 1]\n",
    "    query = '''INSERT INTO RecordLinks(MasterID, TargetID, KeyDataSet, KeyLinkType, LinkConfidence)\n",
    "        VALUES (?,?,?,?,?)'''\n",
    "    \n",
    "    conn = sql.connect(cc.databaseName)\n",
    "    c = conn.cursor()\n",
    "    \n",
    "    c.execute(query, Values)\n",
    "    conn.commit()\n",
    "    \n",
    "conn.close()"
   ]
  },
  {
   "cell_type": "code",
   "execution_count": null,
   "metadata": {},
   "outputs": [],
   "source": []
  }
 ],
 "metadata": {
  "kernelspec": {
   "display_name": "Python 3",
   "language": "python",
   "name": "python3"
  },
  "language_info": {
   "codemirror_mode": {
    "name": "ipython",
    "version": 3
   },
   "file_extension": ".py",
   "mimetype": "text/x-python",
   "name": "python",
   "nbconvert_exporter": "python",
   "pygments_lexer": "ipython3",
   "version": "3.8.3"
  }
 },
 "nbformat": 4,
 "nbformat_minor": 4
}
