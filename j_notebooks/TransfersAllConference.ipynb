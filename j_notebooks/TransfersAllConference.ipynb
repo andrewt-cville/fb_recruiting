{
 "cells": [
  {
   "cell_type": "markdown",
   "id": "b01e97c0",
   "metadata": {},
   "source": [
    "# All Conference Transfers"
   ]
  },
  {
   "cell_type": "code",
   "execution_count": 1,
   "id": "ddc56a97",
   "metadata": {},
   "outputs": [],
   "source": [
    "import json\n",
    "import core_constants as cc\n",
    "import functions as fx\n",
    "import pandas as pd\n",
    "import sqlite3 as sql\n",
    "import recordlinkage\n",
    "from recordlinkage.index import Full\n",
    "import queries"
   ]
  },
  {
   "cell_type": "markdown",
   "id": "d4c67d2a",
   "metadata": {},
   "source": [
    "## Build out DataFrames"
   ]
  },
  {
   "cell_type": "code",
   "execution_count": null,
   "id": "3e74a98f",
   "metadata": {},
   "outputs": [],
   "source": [
    "limit = True\n",
    "ranked = False\n",
    "\n",
    "query = queries.get_query_all247(limit, ranked)\n",
    "df_247 = (fx.connDBAndReturnDF(query)).set_index('IDYR')\n",
    "df_247.index.name = '247_IDYR'\n"
   ]
  },
  {
   "cell_type": "code",
   "execution_count": null,
   "id": "20d33762",
   "metadata": {},
   "outputs": [],
   "source": [
    "limit = False\n",
    "year = '2004'\n",
    "query = queries.get_query_UnlinkedAllConference(limit,year)\n",
    "df_ac = (fx.connDBAndReturnDF(query)).set_index('ID')\n",
    "df_ac.index.name = 'AllConf_ID'"
   ]
  },
  {
   "cell_type": "code",
   "execution_count": null,
   "id": "81454b85",
   "metadata": {},
   "outputs": [],
   "source": [
    "indexer = recordlinkage.Index()\n",
    "indexer = recordlinkage.BlockIndex(on=['KeyPositionGroup'])"
   ]
  },
  {
   "cell_type": "code",
   "execution_count": null,
   "id": "aa9e8eaf",
   "metadata": {},
   "outputs": [],
   "source": [
    "#To avoid the Athlete issue, I'm not doing a full index instead of blocking\n",
    "#indexer = recordlinkage.Index()\n",
    "#indexer.add(Full())"
   ]
  },
  {
   "cell_type": "code",
   "execution_count": null,
   "id": "6ee0870b",
   "metadata": {},
   "outputs": [],
   "source": [
    "pairs = indexer.index(df_ac, df_247)"
   ]
  },
  {
   "cell_type": "code",
   "execution_count": null,
   "id": "fd228f06",
   "metadata": {},
   "outputs": [],
   "source": [
    "from functions import YearOther\n",
    "\n",
    "sumFields = []\n",
    "c = recordlinkage.Compare()\n",
    "c.string('PlayerName', 'PlayerName', method='damerau_levenshtein', label='PlayerName')\n",
    "sumFields.append('PlayerName')\n",
    "c.exact('StandardizedPosition', 'StandardizedPosition', label='StandardizedPosition')\n",
    "sumFields.append('StandardizedPosition')\n",
    "c.exact('KeyPositionGroup', 'KeyPositionGroup', label='KeyPositionGroup')\n",
    "sumFields.append('KeyPositionGroup')\n",
    "c.add(YearOther('Year', 'Year', label='Year'))\n",
    "sumFields.append('Year')"
   ]
  },
  {
   "cell_type": "code",
   "execution_count": null,
   "id": "57a86b44",
   "metadata": {},
   "outputs": [],
   "source": [
    "features = c.compute(pairs, df_ac, df_247)"
   ]
  },
  {
   "cell_type": "code",
   "execution_count": null,
   "id": "5c84d2c8",
   "metadata": {},
   "outputs": [],
   "source": [
    "sum = 0\n",
    "for field in sumFields:\n",
    "    sum = sum + features[field]\n",
    "\n",
    "features['Sum'] = sum / len(sumFields)\n",
    "\n",
    "features = features[features['Year'] == 1.0]\n",
    "\n",
    "features"
   ]
  },
  {
   "cell_type": "code",
   "execution_count": null,
   "id": "967c7dd6",
   "metadata": {},
   "outputs": [],
   "source": [
    "features.insert(0, 'sourceID', features.index.get_level_values(0))\n",
    "features.insert(1, 'targetID', features.index.get_level_values(1))\n",
    "\n",
    "filteredList = []\n",
    "for idx, data in features.groupby(level=0):\n",
    "    data = data.loc[data['Sum'].idxmax()]\n",
    "    #.929\n",
    "    if (data['Sum'] > .8):\n",
    "        filteredList.append(data)\n",
    "dfFinal = pd.DataFrame()\n",
    "dfFinal = dfFinal.append(filteredList)\n",
    "dfFinal.to_csv(\"fuzzy_results.csv\")"
   ]
  },
  {
   "cell_type": "code",
   "execution_count": null,
   "id": "c370c5d7",
   "metadata": {},
   "outputs": [],
   "source": [
    "fx.create_AnnotationFile(dfFinal, df_ac, df_247)"
   ]
  },
  {
   "cell_type": "code",
   "execution_count": 2,
   "id": "35307a39",
   "metadata": {},
   "outputs": [
    {
     "name": "stdout",
     "output_type": "stream",
     "text": [
      "Completed. 11 records written to the database.\n"
     ]
    }
   ],
   "source": [
    "filename = \"..//Annotations//Results/result-ac.json\"\n",
    "keydataset = 4\n",
    "targetkeydataset = 1\n",
    "transfer = 0\n",
    "\n",
    "fx.save_Annotations(filename, keydataset, targetkeydataset, transfer)"
   ]
  },
  {
   "cell_type": "code",
   "execution_count": null,
   "id": "bc493a95",
   "metadata": {},
   "outputs": [],
   "source": []
  }
 ],
 "metadata": {
  "kernelspec": {
   "display_name": "Python 3 (ipykernel)",
   "language": "python",
   "name": "python3"
  },
  "language_info": {
   "codemirror_mode": {
    "name": "ipython",
    "version": 3
   },
   "file_extension": ".py",
   "mimetype": "text/x-python",
   "name": "python",
   "nbconvert_exporter": "python",
   "pygments_lexer": "ipython3",
   "version": "3.8.12"
  }
 },
 "nbformat": 4,
 "nbformat_minor": 5
}
