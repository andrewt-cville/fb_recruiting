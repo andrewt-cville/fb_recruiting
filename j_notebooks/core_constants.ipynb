{
 "cells": [
  {
   "cell_type": "code",
   "execution_count": null,
   "metadata": {},
   "outputs": [],
   "source": [
    "#default_exp core_constants"
   ]
  },
  {
   "cell_type": "code",
   "execution_count": null,
   "metadata": {},
   "outputs": [],
   "source": [
    "import requests\n",
    "import json"
   ]
  },
  {
   "cell_type": "code",
   "execution_count": null,
   "metadata": {},
   "outputs": [],
   "source": [
    "def get_defYears():\n",
    "    return ['2002', '2003', '2004', '2005', '2006', '2007', '2008','2009','2010', '2011', '2012', '2013', '2014', '2015', '2016', '2017', '2018', '2019', '2020']\n",
    "\n",
    "def get_header():\n",
    "    return {'user-agent':'Mozilla/5.0 (Macintosh; Intel Mac OS X 10_14_2) AppleWebKit/537.36 (KHTML, like Gecko) Chrome/73.0.3683.103 Safari/537.36'}\n",
    "\n",
    "def get_schoolsList():\n",
    "    return json.loads(open('..//config//schools.json', \"r\").read())\n",
    "\n",
    "def create_url247(level, school_id, year):\n",
    "    if (level == 'team'):\n",
    "        return 'https://247sports.com/college/{}/Season/{}-Football/Commits/'.format(school_id,year)\n",
    "    else:\n",
    "        print('ERROR: appropriate levels are team, prospect and recruit')\n",
    "\n",
    "def get_htmlDir(source, conference, level):\n",
    "    return \"..//html//{}//{}//{}//\".format(source, conference, level)\n",
    "\n",
    "def get_availableConferences():\n",
    "    print('Available conferences are: bigten, bigtwelve, acc, sec')\n",
    "\n",
    "def save_files(filePath, filePersist):\n",
    "    with open(filePath, \"w\") as write_file:\n",
    "        json.dump(filePersist, write_file)\n",
    "\n",
    "def save_records(folder, filename, listPersist):\n",
    "    with open(\"..//{}//{}.json\".format(folder, filename), \"w\") as write_file:\n",
    "        json.dump(listPersist, write_file)"
   ]
  },
  {
   "cell_type": "code",
   "execution_count": null,
   "metadata": {},
   "outputs": [],
   "source": []
  }
 ],
 "metadata": {
  "kernelspec": {
   "display_name": "Python 3",
   "language": "python",
   "name": "python3"
  }
 },
 "nbformat": 4,
 "nbformat_minor": 4
}
