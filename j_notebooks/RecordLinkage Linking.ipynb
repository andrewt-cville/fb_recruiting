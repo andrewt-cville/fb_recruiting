{
 "cells": [
  {
   "cell_type": "markdown",
   "metadata": {},
   "source": [
    "# RecordLinkage Linking\n",
    "\n",
    "> Leveraging the RL library to determine approximate matching over a range of fields using various methods."
   ]
  },
  {
   "cell_type": "code",
   "execution_count": null,
   "metadata": {},
   "outputs": [],
   "source": [
    "import json\n",
    "import pandas\n",
    "import time\n",
    "import os\n",
    "import recordlinkage\n",
    "import csv\n",
    "import core_constants as cc\n",
    "import functions as fx\n",
    "\n",
    "#not currently using jellyfish\n",
    "import jellyfish as jf"
   ]
  },
  {
   "cell_type": "markdown",
   "metadata": {},
   "source": []
  },
  {
   "cell_type": "code",
   "execution_count": null,
   "metadata": {},
   "outputs": [],
   "source": [
    "outputDir = '..//scrapedData//'\n",
    "field_agg = \"_\"\n",
    "\n",
    "## Load the source file dict\n",
    "sourceFiles = json.loads(open('..//config//sourceFiles.json', \"r\").read())\n",
    "\n",
    "## Load the id config\n",
    "idConfig = json.loads(open('..//config//idConfig.json', \"r\").read())"
   ]
  },
  {
   "cell_type": "code",
   "execution_count": null,
   "metadata": {},
   "outputs": [],
   "source": [
    "## Cycle through all of files per source and drop into a list of dicts\n",
    "## Printing list names for reference sake\n",
    "dfs = []\n",
    "for key in sourceFiles.keys():\n",
    "    vars()[key] = fx.mergeSourceFiles (key, outputDir, sourceFiles)\n",
    "    dfs.append(vars()[key])"
   ]
  },
  {
   "cell_type": "code",
   "execution_count": null,
   "metadata": {},
   "outputs": [],
   "source": [
    "allAmerican"
   ]
  },
  {
   "cell_type": "code",
   "execution_count": null,
   "metadata": {},
   "outputs": [],
   "source": [
    "fx.createNewID(idConfig['sports247'], sports247, field_agg)\n",
    "fx.createNewID(idConfig['rivals'], rivals, field_agg)\n",
    "#createNewID(idConfig['cfbRef'], cfbRef, field_agg)\n",
    "fx.createNewID(idConfig['allConf'], allConf, field_agg)\n",
    "fx.createNewID(idConfig['allAmerican'], allAmerican, field_agg)\n",
    "fx.createNewID(idConfig['nflData'], nflData, field_agg)\n",
    "fx.createNewID(idConfig['ncaa'], ncaa, field_agg, ifAlternate=True)"
   ]
  },
  {
   "cell_type": "code",
   "execution_count": null,
   "metadata": {},
   "outputs": [],
   "source": [
    "df_sports247 = pandas.DataFrame(sports247)\n",
    "df_rivals = pandas.DataFrame(rivals)\n",
    "#df_cfbRef = pandas.DataFrame(cfbRef)\n",
    "df_allConf = pandas.DataFrame(allConf)\n",
    "df_allAmerican = pandas.DataFrame(allAmerican)\n",
    "df_nflData = pandas.DataFrame(nflData)\n",
    "df_ncaa = pandas.DataFrame(ncaa)"
   ]
  },
  {
   "cell_type": "code",
   "execution_count": null,
   "metadata": {},
   "outputs": [],
   "source": [
    "df_rivals.head()"
   ]
  },
  {
   "cell_type": "code",
   "execution_count": null,
   "metadata": {},
   "outputs": [],
   "source": [
    "df_sports247.index.name = '247_index'\n",
    "df_rivals.index.name = 'rivals_index'\n",
    "indexer = recordlinkage.Index()\n",
    "indexer.block('school')\n",
    "indexer.block('year')\n",
    "candidate_links = indexer.index(df_sports247, df_rivals)"
   ]
  },
  {
   "cell_type": "code",
   "execution_count": null,
   "metadata": {},
   "outputs": [],
   "source": [
    "c = recordlinkage.Compare()\n",
    "\n",
    "c.exact('ID', 'ID', label='ID')\n",
    "\n",
    "c.string('playerName', 'playerName', method='damerau_levenshtein', label='playerName')\n",
    "c.string('school', 'school', label='college')\n",
    "c.string('city', 'city', label='city')\n",
    "c.exact('state', 'state', label='state')\n",
    "c.string('highSchool', 'highSchool', label='highSchool')\n",
    "c.exact('position', 'position', label='position')\n",
    "c.exact('year', 'year', label='year')\n",
    "\n",
    "# The comparison vectors\n",
    "features = c.compute(candidate_links, df_sports247, df_rivals)\n",
    "\n",
    "features"
   ]
  },
  {
   "cell_type": "code",
   "execution_count": null,
   "metadata": {},
   "outputs": [],
   "source": [
    "features.to_pickle(\"features.pkl\")"
   ]
  },
  {
   "cell_type": "code",
   "execution_count": null,
   "metadata": {},
   "outputs": [],
   "source": [
    "features = pandas.read_pickle(\"features.pkl\")"
   ]
  },
  {
   "cell_type": "code",
   "execution_count": null,
   "metadata": {},
   "outputs": [],
   "source": [
    "features['sum'] = (features['playerName'] + features['college'] + features['city'] + features['state'] + features['highSchool'] + features['year'] + features['position'])/7\n",
    "features.describe()"
   ]
  },
  {
   "cell_type": "code",
   "execution_count": null,
   "metadata": {},
   "outputs": [],
   "source": [
    "features.boxplot(column=['playerName', 'college', 'city', 'state', 'highSchool', 'position', 'year'])"
   ]
  },
  {
   "cell_type": "code",
   "execution_count": null,
   "metadata": {},
   "outputs": [],
   "source": [
    "not_id = features[features['ID'] != 1]\n",
    "not_id = (not_id.loc[not_id['sum'] > .945])\n",
    "#not_id = (not_id.loc[not_id['sum'] > 6.62])\n",
    "\n",
    "#all_matches = ((features.loc[features['sum'] > 6.62] & features.loc[features['ID'] == 0]) | (features.loc[features['ID'] == 1]))"
   ]
  },
  {
   "cell_type": "code",
   "execution_count": null,
   "metadata": {},
   "outputs": [],
   "source": [
    "not_id.reset_index(inplace=True)"
   ]
  },
  {
   "cell_type": "code",
   "execution_count": null,
   "metadata": {},
   "outputs": [],
   "source": [
    "noIDDict = not_id.to_dict('records')"
   ]
  },
  {
   "cell_type": "code",
   "execution_count": null,
   "metadata": {},
   "outputs": [],
   "source": [
    "## Hey Sober Andrew - this all works now, but you have to clean-up the output\n",
    "## cause there are dueling column names between the two collections.  \n",
    "## Look at the summarize code to figure out how to handle that\n",
    "\n",
    "#Can only include the reset_index the first time\n",
    "df_sports247.reset_index(inplace=True)\n",
    "df_rivals.reset_index(inplace=True)\n",
    "\n",
    "sportDict = df_sports247.to_dict('records')\n",
    "rivalsDict = df_rivals.to_dict('records')\n",
    "\n",
    "finalSet = []\n",
    "#print(df_sports247.to_dict('records'))\n",
    "for record in noIDDict:\n",
    "    finalRecord = {}\n",
    "    for recruit in sportDict:\n",
    "        #print(recruit)\n",
    "        if (recruit['247_index'] == record['247_index']):\n",
    "            for key,value in recruit.items():\n",
    "                finalRecord[key] = value\n",
    "            break\n",
    "    for recruit in rivalsDict:\n",
    "        #print(recruit)\n",
    "        if (recruit['rivals_index'] == record['rivals_index']):\n",
    "            for key,value in recruit.items():\n",
    "                finalRecord[key] = value\n",
    "            break\n",
    "    finalSet.append(finalRecord)\n",
    "print(finalSet)"
   ]
  },
  {
   "cell_type": "code",
   "execution_count": null,
   "metadata": {},
   "outputs": [],
   "source": [
    "#df_sports247.head()\n",
    "df_sports247.iloc[5618, :]"
   ]
  },
  {
   "cell_type": "code",
   "execution_count": null,
   "metadata": {},
   "outputs": [],
   "source": [
    "test = df_rivals.iloc[2673, :]\n",
    "test['year']"
   ]
  },
  {
   "cell_type": "code",
   "execution_count": null,
   "metadata": {},
   "outputs": [],
   "source": [
    "features.iloc[2673, :]"
   ]
  },
  {
   "cell_type": "code",
   "execution_count": null,
   "metadata": {},
   "outputs": [],
   "source": [
    "print(fuzzy_matches)"
   ]
  },
  {
   "cell_type": "code",
   "execution_count": null,
   "metadata": {},
   "outputs": [],
   "source": [
    "ids_to_match = []\n",
    "ids = fuzzy_matches['ID']\n",
    "for key in ids.keys():\n",
    "    i = {}\n",
    "    print(key[0])\n",
    "    i['247'] = key[0]\n",
    "    i['rivals'] = key[1]\n",
    "    ids_to_match.append(i)\n"
   ]
  },
  {
   "cell_type": "code",
   "execution_count": null,
   "metadata": {},
   "outputs": [],
   "source": [
    "fuzzy_list = []\n",
    "for i in ids_to_match:\n",
    "    sports247_dict = pandas.DataFrame(df_sports247.iloc[i['247'], :]).to_dict()\n",
    "    \n",
    "    rivals_dict= pandas.DataFrame(df_rivals.iloc[i['rivals'], :]).to_dict()\n",
    "    for i in rivals_dict:   \n",
    "        sports247_dict.update(i)\n",
    "    fuzzy_list.append(sport247_dict)"
   ]
  },
  {
   "cell_type": "code",
   "execution_count": null,
   "metadata": {},
   "outputs": [],
   "source": [
    "print(fuzzy_list)"
   ]
  },
  {
   "cell_type": "code",
   "execution_count": null,
   "metadata": {},
   "outputs": [],
   "source": [
    "df_rivals"
   ]
  },
  {
   "cell_type": "code",
   "execution_count": null,
   "metadata": {},
   "outputs": [],
   "source": []
  }
 ],
 "metadata": {
  "kernelspec": {
   "display_name": "Python 3",
   "language": "python",
   "name": "python3"
  }
 },
 "nbformat": 4,
 "nbformat_minor": 4
}
