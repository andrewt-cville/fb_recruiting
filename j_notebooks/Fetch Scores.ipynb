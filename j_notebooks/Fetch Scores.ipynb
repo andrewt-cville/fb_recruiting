{
 "cells": [
  {
   "cell_type": "code",
   "execution_count": 5,
   "id": "6960fb7c",
   "metadata": {},
   "outputs": [],
   "source": [
    "import requests\n",
    "from bs4 import BeautifulSoup"
   ]
  },
  {
   "cell_type": "markdown",
   "id": "d3448b83",
   "metadata": {},
   "source": [
    "## Get All Team Pages"
   ]
  },
  {
   "cell_type": "code",
   "execution_count": 7,
   "id": "ee228955",
   "metadata": {},
   "outputs": [],
   "source": [
    "r = requests.get('https://www.jhowell.net/cf/scores/byname.htm')\n",
    "soup = BeautifulSoup(r.text)\n",
    "schoolLinks = soup.find_all('a') "
   ]
  },
  {
   "cell_type": "code",
   "execution_count": null,
   "id": "153e753d",
   "metadata": {},
   "outputs": [],
   "source": [
    "for school in schoolLinks:\n",
    "    filename = school.get('href').split('.')[0]\n",
    "    r = requests.get('https://www.jhowell.net/cf/scores/' + filename + '.htm')\n",
    "    open(filename + '.htm', 'wb').write(r.content)"
   ]
  },
  {
   "cell_type": "markdown",
   "id": "440d6957",
   "metadata": {},
   "source": [
    "## Get All Pages"
   ]
  },
  {
   "cell_type": "code",
   "execution_count": null,
   "id": "cf3c63cb",
   "metadata": {},
   "outputs": [],
   "source": []
  }
 ],
 "metadata": {
  "kernelspec": {
   "display_name": "Python 3 (ipykernel)",
   "language": "python",
   "name": "python3"
  },
  "language_info": {
   "codemirror_mode": {
    "name": "ipython",
    "version": 3
   },
   "file_extension": ".py",
   "mimetype": "text/x-python",
   "name": "python",
   "nbconvert_exporter": "python",
   "pygments_lexer": "ipython3",
   "version": "3.8.16"
  }
 },
 "nbformat": 4,
 "nbformat_minor": 5
}
