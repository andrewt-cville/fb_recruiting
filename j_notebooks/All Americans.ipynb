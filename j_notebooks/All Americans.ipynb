{
 "cells": [
  {
   "cell_type": "markdown",
   "metadata": {},
   "source": [
    "# Source: Wikipedia - All Americans"
   ]
  },
  {
   "cell_type": "code",
   "execution_count": 1,
   "metadata": {},
   "outputs": [],
   "source": [
    "#hide\n",
    "import json\n",
    "import core_constants as cc\n",
    "import functions as fx\n",
    "import pandas as pd\n",
    "import sqlite3 as sql\n",
    "import recordlinkage"
   ]
  },
  {
   "cell_type": "markdown",
   "metadata": {},
   "source": [
    "# Set Notebook Settings"
   ]
  },
  {
   "cell_type": "code",
   "execution_count": 2,
   "metadata": {},
   "outputs": [],
   "source": [
    "years = cc.get_defYears()\n",
    "headers= cc.get_header()\n",
    "dataset = 'AllAmerican'"
   ]
  },
  {
   "cell_type": "markdown",
   "metadata": {},
   "source": [
    "# Get, Process the All American data from Wikipedia\n",
    "#### Source: https://www.pro-football-reference.com/years/2017/draft.htm\n",
    "> This page contains metadata of each draft pick, both in terms of draft position but also current pro stats."
   ]
  },
  {
   "cell_type": "code",
   "execution_count": null,
   "metadata": {},
   "outputs": [],
   "source": [
    "with open(\"..//scrapedData//aaSelections.json\", \"w\", encoding=\"utf-8\") as write_file:\n",
    "                write_file.write(json.dumps(fx.handle_allAmerican(years, headers)))"
   ]
  },
  {
   "cell_type": "markdown",
   "metadata": {},
   "source": [
    "# Clear DB\n",
    "> Useful for a clean start.  This removes all of the records for this dataset from the following structures: SourcedPlayers, RecordLinks.  All of the Views auto-cleanse themselves."
   ]
  },
  {
   "cell_type": "code",
   "execution_count": null,
   "metadata": {},
   "outputs": [],
   "source": [
    "fx.clearDB(dataset)"
   ]
  },
  {
   "cell_type": "markdown",
   "metadata": {},
   "source": [
    "# Save to DB\n",
    "> This saves it to the SourcedPlayers Table"
   ]
  },
  {
   "cell_type": "code",
   "execution_count": null,
   "metadata": {},
   "outputs": [],
   "source": [
    "fx.toDB_AllAmerican()"
   ]
  },
  {
   "cell_type": "markdown",
   "metadata": {},
   "source": [
    "# Strict Matching\n",
    "> This saves it to RecordLinking where ID == ID"
   ]
  },
  {
   "cell_type": "code",
   "execution_count": null,
   "metadata": {},
   "outputs": [],
   "source": [
    "fx.literalLinking(dataset)"
   ]
  },
  {
   "cell_type": "markdown",
   "metadata": {},
   "source": [
    "# Fuzzy Matching w/ Threshold\n",
    "\n",
    "> This is automatically pushing fuzzy matches above a certain threshold into the DB without the need for review"
   ]
  },
  {
   "cell_type": "code",
   "execution_count": 3,
   "metadata": {},
   "outputs": [],
   "source": [
    "fuzzyDF = fx.doFuzzyMatching(dataset, 'Sports247')"
   ]
  },
  {
   "cell_type": "markdown",
   "metadata": {},
   "source": [
    "# Create the Annotation File\n",
    "\n",
    "> This changes the dataframe into a MultiIndex data frame that the annotation function requires"
   ]
  },
  {
   "cell_type": "code",
   "execution_count": 5,
   "metadata": {},
   "outputs": [],
   "source": [
    "conn = sql.connect(cc.databaseName) \n",
    "          \n",
    "sql_query = pd.read_sql_query ('''\n",
    "                               SELECT\n",
    "                               *\n",
    "                               FROM SourcedPlayers\n",
    "                               WHERE KeyDataSet = 1\n",
    "                               ''', conn)\n",
    "\n",
    "df_247 = pd.DataFrame(sql_query, columns = ['IDYR', 'College', 'Year', 'Position'])\n",
    "df_247.set_index('IDYR', append=False, inplace=True)\n",
    "sql_query = pd.read_sql_query ('''\n",
    "                               SELECT\n",
    "                               *\n",
    "                               FROM UnlinkedAllAmerican\n",
    "                               ''', conn)\n",
    "\n",
    "df_AllAmerican = pd.DataFrame(sql_query, columns = ['ID', 'College'])\n",
    "df_AllAmerican.set_index('ID', append=False, inplace=True)\n",
    "\n",
    "fuzzyMI = pd.MultiIndex.from_frame(fuzzyDF)\n",
    "recordlinkage.write_annotation_file(\n",
    "    \"../Annotations/Annotations/annotation_allamerican.json\",\n",
    "    fuzzyMI[0:300],\n",
    "    df_AllAmerican,\n",
    "    df_247,\n",
    "    dataset_a_name=\"AllAmerican\",\n",
    "    dataset_b_name=\"Master\"\n",
    ")"
   ]
  },
  {
   "cell_type": "markdown",
   "metadata": {},
   "source": [
    "# Read in the Annotation File\n",
    "> Take the resulting Annotation file after handling the processing and insert it into the right table"
   ]
  },
  {
   "cell_type": "code",
   "execution_count": 6,
   "metadata": {},
   "outputs": [],
   "source": [
    "annotation = recordlinkage.read_annotation_file(\"..//Annotations//Results//result_ncaa.json\")\n",
    "try:\n",
    "    annotation_dict = (annotation.links).to_flat_index()\n",
    "except Exception as e:\n",
    "    print(e)"
   ]
  },
  {
   "cell_type": "markdown",
   "metadata": {},
   "source": [
    "## Insert Annotations to RecordLinks"
   ]
  },
  {
   "cell_type": "code",
   "execution_count": 7,
   "metadata": {},
   "outputs": [],
   "source": [
    "for record in annotation_dict:\n",
    "    #MAKE SURE YOU UPDATE THE THIRD VALUE TO THE CORRECT KEYDATASET!!\n",
    "    Values = [record[0], record[1], 6, 1, 1]\n",
    "    query = '''INSERT INTO RecordLinks(MasterID, TargetID, KeyDataSet, KeyLinkType, LinkConfidence)\n",
    "        VALUES (?,?,?,?,?)'''\n",
    "    \n",
    "    conn = sql.connect(cc.databaseName)\n",
    "    c = conn.cursor()\n",
    "    \n",
    "    c.execute(query, Values)\n",
    "    conn.commit()\n",
    "    \n",
    "conn.close()"
   ]
  }
 ],
 "metadata": {
  "kernelspec": {
   "display_name": "Python 3 (ipykernel)",
   "language": "python",
   "name": "python3"
  },
  "language_info": {
   "codemirror_mode": {
    "name": "ipython",
    "version": 3
   },
   "file_extension": ".py",
   "mimetype": "text/x-python",
   "name": "python",
   "nbconvert_exporter": "python",
   "pygments_lexer": "ipython3",
   "version": "3.8.12"
  }
 },
 "nbformat": 4,
 "nbformat_minor": 2
}
