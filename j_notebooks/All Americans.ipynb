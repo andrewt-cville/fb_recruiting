{
 "cells": [
  {
   "cell_type": "markdown",
   "metadata": {},
   "source": [
    "# Source: Wikipedia - All Americans"
   ]
  },
  {
   "cell_type": "code",
   "execution_count": 1,
   "metadata": {},
   "outputs": [],
   "source": [
    "#hide\n",
    "import json\n",
    "import core_constants as cc\n",
    "import functions as fx\n",
    "import pandas as pd\n",
    "import sqlite3 as sql"
   ]
  },
  {
   "cell_type": "markdown",
   "metadata": {},
   "source": [
    "# Set Notebook Settings"
   ]
  },
  {
   "cell_type": "code",
   "execution_count": 2,
   "metadata": {},
   "outputs": [],
   "source": [
    "years = cc.get_defYears()\n",
    "headers= cc.get_header()\n",
    "dataset = 'AllAmerican'"
   ]
  },
  {
   "cell_type": "markdown",
   "metadata": {},
   "source": [
    "# Get, Process the All American data from Wikipedia\n",
    "#### Source: https://www.pro-football-reference.com/years/2017/draft.htm\n",
    "> This page contains metadata of each draft pick, both in terms of draft position but also current pro stats."
   ]
  },
  {
   "cell_type": "code",
   "execution_count": null,
   "metadata": {},
   "outputs": [],
   "source": [
    "with open(\"..//scrapedData//aaSelections.json\", \"w\", encoding=\"utf-8\") as write_file:\n",
    "                write_file.write(json.dumps(fx.handle_allAmerican(years, headers)))"
   ]
  },
  {
   "cell_type": "markdown",
   "metadata": {},
   "source": [
    "# Clear DB\n",
    "> Useful for a clean start.  This removes all of the records for this dataset from the following structures: SourcedPlayers, RecordLinks.  All of the Views auto-cleanse themselves."
   ]
  },
  {
   "cell_type": "code",
   "execution_count": null,
   "metadata": {},
   "outputs": [],
   "source": [
    "fx.clearDB(dataset)"
   ]
  },
  {
   "cell_type": "markdown",
   "metadata": {},
   "source": [
    "# Save to DB\n",
    "> This saves it to the SourcedPlayers Table"
   ]
  },
  {
   "cell_type": "code",
   "execution_count": null,
   "metadata": {},
   "outputs": [],
   "source": [
    "fx.toDB_AllAmerican()"
   ]
  },
  {
   "cell_type": "markdown",
   "metadata": {},
   "source": [
    "# Strict Matching\n",
    "> This saves it to RecordLinking where ID == ID"
   ]
  },
  {
   "cell_type": "code",
   "execution_count": null,
   "metadata": {},
   "outputs": [],
   "source": [
    "fx.literalLinking(dataset)"
   ]
  },
  {
   "cell_type": "markdown",
   "metadata": {},
   "source": [
    "# Fuzzy Matching w/ Threshold\n",
    "\n",
    "> This is automatically pushing fuzzy matches above a certain threshold into the DB without the need for review"
   ]
  },
  {
   "cell_type": "code",
   "execution_count": 3,
   "metadata": {},
   "outputs": [
    {
     "data": {
      "text/html": [
       "<div>\n",
       "<style scoped>\n",
       "    .dataframe tbody tr th:only-of-type {\n",
       "        vertical-align: middle;\n",
       "    }\n",
       "\n",
       "    .dataframe tbody tr th {\n",
       "        vertical-align: top;\n",
       "    }\n",
       "\n",
       "    .dataframe thead th {\n",
       "        text-align: right;\n",
       "    }\n",
       "</style>\n",
       "<table border=\"1\" class=\"dataframe\">\n",
       "  <thead>\n",
       "    <tr style=\"text-align: right;\">\n",
       "      <th></th>\n",
       "      <th>sourceID</th>\n",
       "      <th>targetID</th>\n",
       "      <th>ID</th>\n",
       "      <th>PlayerName</th>\n",
       "      <th>sum</th>\n",
       "    </tr>\n",
       "  </thead>\n",
       "  <tbody>\n",
       "    <tr>\n",
       "      <th>(aaroncurry_wakeforest, brandonterry_wakeforest_2010)</th>\n",
       "      <td>aaroncurry_wakeforest</td>\n",
       "      <td>brandonterry_wakeforest_2010</td>\n",
       "      <td>0.739130</td>\n",
       "      <td>0.500000</td>\n",
       "      <td>0.619565</td>\n",
       "    </tr>\n",
       "    <tr>\n",
       "      <th>(adampacmanjones_westvirginia, adamjones_westvirginia_2002)</th>\n",
       "      <td>adampacmanjones_westvirginia</td>\n",
       "      <td>adamjones_westvirginia_2002</td>\n",
       "      <td>0.785714</td>\n",
       "      <td>0.600000</td>\n",
       "      <td>0.692857</td>\n",
       "    </tr>\n",
       "    <tr>\n",
       "      <th>(adamsnyder_oregon, adamstack_oregon_2017)</th>\n",
       "      <td>adamsnyder_oregon</td>\n",
       "      <td>adamstack_oregon_2017</td>\n",
       "      <td>0.705882</td>\n",
       "      <td>0.500000</td>\n",
       "      <td>0.602941</td>\n",
       "    </tr>\n",
       "    <tr>\n",
       "      <th>(aidanschneider_oregon, zacschuller_oregon_2014)</th>\n",
       "      <td>aidanschneider_oregon</td>\n",
       "      <td>zacschuller_oregon_2014</td>\n",
       "      <td>0.619048</td>\n",
       "      <td>0.428571</td>\n",
       "      <td>0.523810</td>\n",
       "    </tr>\n",
       "    <tr>\n",
       "      <th>(alanzemaitis_pennstate, ryanbates_pennstate_2015)</th>\n",
       "      <td>alanzemaitis_pennstate</td>\n",
       "      <td>ryanbates_pennstate_2015</td>\n",
       "      <td>0.681818</td>\n",
       "      <td>0.416667</td>\n",
       "      <td>0.549242</td>\n",
       "    </tr>\n",
       "    <tr>\n",
       "      <th>...</th>\n",
       "      <td>...</td>\n",
       "      <td>...</td>\n",
       "      <td>...</td>\n",
       "      <td>...</td>\n",
       "      <td>...</td>\n",
       "    </tr>\n",
       "    <tr>\n",
       "      <th>(willsnyderwine_duke, willtaylor_duke_2017)</th>\n",
       "      <td>willsnyderwine_duke</td>\n",
       "      <td>willtaylor_duke_2017</td>\n",
       "      <td>0.578947</td>\n",
       "      <td>0.428571</td>\n",
       "      <td>0.503759</td>\n",
       "    </tr>\n",
       "    <tr>\n",
       "      <th>(willsutton_arizonastate, williamsutton_arizonastate_2009)</th>\n",
       "      <td>willsutton_arizonastate</td>\n",
       "      <td>williamsutton_arizonastate_2009</td>\n",
       "      <td>0.884615</td>\n",
       "      <td>0.769231</td>\n",
       "      <td>0.826923</td>\n",
       "    </tr>\n",
       "    <tr>\n",
       "      <th>(zachmiller_arizonastate, brentmiller_arizonastate_2003)</th>\n",
       "      <td>zachmiller_arizonastate</td>\n",
       "      <td>brentmiller_arizonastate_2003</td>\n",
       "      <td>0.791667</td>\n",
       "      <td>0.545455</td>\n",
       "      <td>0.668561</td>\n",
       "    </tr>\n",
       "    <tr>\n",
       "      <th>(zachstrief_northwestern, zackoliver_northwestern_2011)</th>\n",
       "      <td>zachstrief_northwestern</td>\n",
       "      <td>zackoliver_northwestern_2011</td>\n",
       "      <td>0.739130</td>\n",
       "      <td>0.400000</td>\n",
       "      <td>0.569565</td>\n",
       "    </tr>\n",
       "    <tr>\n",
       "      <th>(zachvonrosenberg_lsu, zachmettenberger_lsu_2011)</th>\n",
       "      <td>zachvonrosenberg_lsu</td>\n",
       "      <td>zachmettenberger_lsu_2011</td>\n",
       "      <td>0.600000</td>\n",
       "      <td>0.500000</td>\n",
       "      <td>0.550000</td>\n",
       "    </tr>\n",
       "  </tbody>\n",
       "</table>\n",
       "<p>230 rows × 5 columns</p>\n",
       "</div>"
      ],
      "text/plain": [
       "                                                                        sourceID  \\\n",
       "(aaroncurry_wakeforest, brandonterry_wakeforest...         aaroncurry_wakeforest   \n",
       "(adampacmanjones_westvirginia, adamjones_westvi...  adampacmanjones_westvirginia   \n",
       "(adamsnyder_oregon, adamstack_oregon_2017)                     adamsnyder_oregon   \n",
       "(aidanschneider_oregon, zacschuller_oregon_2014)           aidanschneider_oregon   \n",
       "(alanzemaitis_pennstate, ryanbates_pennstate_2015)        alanzemaitis_pennstate   \n",
       "...                                                                          ...   \n",
       "(willsnyderwine_duke, willtaylor_duke_2017)                  willsnyderwine_duke   \n",
       "(willsutton_arizonastate, williamsutton_arizona...       willsutton_arizonastate   \n",
       "(zachmiller_arizonastate, brentmiller_arizonast...       zachmiller_arizonastate   \n",
       "(zachstrief_northwestern, zackoliver_northweste...       zachstrief_northwestern   \n",
       "(zachvonrosenberg_lsu, zachmettenberger_lsu_2011)           zachvonrosenberg_lsu   \n",
       "\n",
       "                                                                           targetID  \\\n",
       "(aaroncurry_wakeforest, brandonterry_wakeforest...     brandonterry_wakeforest_2010   \n",
       "(adampacmanjones_westvirginia, adamjones_westvi...      adamjones_westvirginia_2002   \n",
       "(adamsnyder_oregon, adamstack_oregon_2017)                    adamstack_oregon_2017   \n",
       "(aidanschneider_oregon, zacschuller_oregon_2014)            zacschuller_oregon_2014   \n",
       "(alanzemaitis_pennstate, ryanbates_pennstate_2015)         ryanbates_pennstate_2015   \n",
       "...                                                                             ...   \n",
       "(willsnyderwine_duke, willtaylor_duke_2017)                    willtaylor_duke_2017   \n",
       "(willsutton_arizonastate, williamsutton_arizona...  williamsutton_arizonastate_2009   \n",
       "(zachmiller_arizonastate, brentmiller_arizonast...    brentmiller_arizonastate_2003   \n",
       "(zachstrief_northwestern, zackoliver_northweste...     zackoliver_northwestern_2011   \n",
       "(zachvonrosenberg_lsu, zachmettenberger_lsu_2011)         zachmettenberger_lsu_2011   \n",
       "\n",
       "                                                          ID  PlayerName  \\\n",
       "(aaroncurry_wakeforest, brandonterry_wakeforest...  0.739130    0.500000   \n",
       "(adampacmanjones_westvirginia, adamjones_westvi...  0.785714    0.600000   \n",
       "(adamsnyder_oregon, adamstack_oregon_2017)          0.705882    0.500000   \n",
       "(aidanschneider_oregon, zacschuller_oregon_2014)    0.619048    0.428571   \n",
       "(alanzemaitis_pennstate, ryanbates_pennstate_2015)  0.681818    0.416667   \n",
       "...                                                      ...         ...   \n",
       "(willsnyderwine_duke, willtaylor_duke_2017)         0.578947    0.428571   \n",
       "(willsutton_arizonastate, williamsutton_arizona...  0.884615    0.769231   \n",
       "(zachmiller_arizonastate, brentmiller_arizonast...  0.791667    0.545455   \n",
       "(zachstrief_northwestern, zackoliver_northweste...  0.739130    0.400000   \n",
       "(zachvonrosenberg_lsu, zachmettenberger_lsu_2011)   0.600000    0.500000   \n",
       "\n",
       "                                                         sum  \n",
       "(aaroncurry_wakeforest, brandonterry_wakeforest...  0.619565  \n",
       "(adampacmanjones_westvirginia, adamjones_westvi...  0.692857  \n",
       "(adamsnyder_oregon, adamstack_oregon_2017)          0.602941  \n",
       "(aidanschneider_oregon, zacschuller_oregon_2014)    0.523810  \n",
       "(alanzemaitis_pennstate, ryanbates_pennstate_2015)  0.549242  \n",
       "...                                                      ...  \n",
       "(willsnyderwine_duke, willtaylor_duke_2017)         0.503759  \n",
       "(willsutton_arizonastate, williamsutton_arizona...  0.826923  \n",
       "(zachmiller_arizonastate, brentmiller_arizonast...  0.668561  \n",
       "(zachstrief_northwestern, zackoliver_northweste...  0.569565  \n",
       "(zachvonrosenberg_lsu, zachmettenberger_lsu_2011)   0.550000  \n",
       "\n",
       "[230 rows x 5 columns]"
      ]
     },
     "execution_count": 3,
     "metadata": {},
     "output_type": "execute_result"
    }
   ],
   "source": [
    "fx.doFuzzyMatching(dataset, 'Sports247')"
   ]
  }
 ],
 "metadata": {
  "kernelspec": {
   "display_name": "Python 3 (ipykernel)",
   "language": "python",
   "name": "python3"
  },
  "language_info": {
   "codemirror_mode": {
    "name": "ipython",
    "version": 3
   },
   "file_extension": ".py",
   "mimetype": "text/x-python",
   "name": "python",
   "nbconvert_exporter": "python",
   "pygments_lexer": "ipython3",
   "version": "3.8.12"
  }
 },
 "nbformat": 4,
 "nbformat_minor": 2
}
