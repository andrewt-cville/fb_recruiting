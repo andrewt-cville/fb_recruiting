{
 "cells": [
  {
   "cell_type": "code",
   "execution_count": 16,
   "id": "2442bd7f",
   "metadata": {},
   "outputs": [],
   "source": [
    "import json\n",
    "import core_constants as cc\n",
    "import functions as fx\n",
    "import pandas as pd\n",
    "import sqlite3 as sql\n",
    "import recordlinkage\n",
    "from recordlinkage.index import Full\n",
    "import queries\n",
    "import csv"
   ]
  },
  {
   "cell_type": "code",
   "execution_count": 2,
   "id": "321669d0",
   "metadata": {},
   "outputs": [
    {
     "name": "stdout",
     "output_type": "stream",
     "text": [
      "['airforce', 'akron', 'alabama', 'alabamabirmingham', 'appalachianstate', 'arizona', 'arizonastate', 'arkansas', 'arkansasstate', 'army', 'auburn', 'ballstate', 'baylor', 'boisestate', 'bostoncollege', 'bowlinggreen', 'buffalo', 'byu', 'california', 'centralflorida', 'centralmichigan', 'charlotte', 'cincinnati', 'clemson', 'coastalcarolina', 'colorado', 'coloradostate', 'duke', 'eastcarolina', 'easternmichigan', 'florida', 'floridaatlantic', 'floridainternational', 'floridastate', 'fresnostate', 'georgia', 'georgiasouthern', 'georgiastate', 'georgiatech', 'hawaii', 'houston', 'illinois', 'indiana', 'iowa', 'iowastate', 'kansas', 'kansasstate', 'kentstate', 'kentucky', 'liberty', 'louisiana', 'louisianamonroe', 'louisianatech', 'louisville', 'lsu', 'marshall', 'maryland', 'massachusetts', 'memphis', 'miami', 'michigan', 'michiganstate', 'middletennesseestate', 'minnesota', 'mississippistate', 'missouri', 'navy', 'nebraska', 'nevada', 'newmexico', 'newmexicostate', 'northcarolina', 'northcarolinastate', 'northernillinois', 'northtexas', 'northwestern', 'notredame', 'ohio', 'ohiostate', 'oklahoma', 'oklahomastate', 'olddominion', 'olemiss', 'oregon', 'oregonstate', 'pennstate', 'pittsburgh', 'purdue', 'rice', 'rutgers', 'sandiegostate', 'sanjosestate', 'smu', 'southalabama', 'southcarolina', 'southernmississippi', 'southflorida', 'stanford', 'syracuse', 'tcu', 'temple', 'tennessee', 'texas', 'texasam', 'texasstate', 'texastech', 'toledo', 'troy', 'tulane', 'tulsa', 'ucla', 'uconn', 'unlv', 'usc', 'utah', 'utahstate', 'utep', 'utsa', 'vanderbilt', 'virginia', 'virginiatech', 'wakeforest', 'washington', 'washingtonstate', 'westernkentucky', 'westernmichigan', 'westvirginia', 'wisconsin', 'wyoming']\n"
     ]
    }
   ],
   "source": [
    "schools = [num for sublist in ((fx.connDBAndReturnDF('''Select id from Schools''')).values.tolist()) for num in sublist]\n",
    "print (schools)"
   ]
  },
  {
   "cell_type": "code",
   "execution_count": null,
   "id": "702bd0ec",
   "metadata": {},
   "outputs": [],
   "source": [
    "all_data = []\n",
    "for i in schools:\n",
    "    school_data = {}\n",
    "    draftedCount = (fx.connDBAndReturnDF(queries.getCountbyStars(i, 2017, 1)).to_dict('records'))\n",
    "    undraftedCount = (fx.connDBAndReturnDF(queries.getCountbyStars(i, 2017, 0)).to_dict('records'))\n",
    "    draftedCountNFLGames = (fx.connDBAndReturnDF(queries.getNFLGamesbyDraftStatus(i, 2017, 1)).values.tolist())\n",
    "    undraftedCountNFLGames = (fx.connDBAndReturnDF(queries.getNFLGamesbyDraftStatus(i, 2017, 0)).values.tolist())\n",
    "    school_data['College'] = i\n",
    "    school_data['DraftedCount'] = {}\n",
    "    school_data['UndraftedCount'] = {}\n",
    "    school_data['DraftedCountNFL'] = draftedCountNFLGames[0][0]\n",
    "    school_data['UndraftedCountNFL'] = undraftedCountNFLGames[0][0]\n",
    "    for x in draftedCount:\n",
    "        school_data['DraftedCount'][x['CompositeStars']] = x['PlayerCount']\n",
    "    for x in undraftedCount:\n",
    "        school_data['UndraftedCount'][x['CompositeStars']] = x['PlayerCount']        \n",
    "    \n",
    "    all_data.append(school_data)\n",
    "\n"
   ]
  },
  {
   "cell_type": "code",
   "execution_count": null,
   "id": "322bb810",
   "metadata": {},
   "outputs": [],
   "source": [
    "print(all_data)\n",
    "\n",
    "\n",
    "\n",
    "\n"
   ]
  },
  {
   "cell_type": "code",
   "execution_count": 19,
   "id": "2379d68f",
   "metadata": {},
   "outputs": [
    {
     "name": "stdout",
     "output_type": "stream",
     "text": [
      "[['college', 'FiveDrafted', 'FourDrafted', 'ThreeDrafted', 'TwoDrafted', 'OneDrafted', 'FiveUndrafted', 'FourUndrafted', 'ThreeUndrafted', 'TwoUndrafted', 'OneUndrafted', 'DraftedCountNFL', 'UndraftedCountNFL'], ['airforce', 0, 0, 0, 0, 1, 0, 0, 6, 73, 216, 1, 1], ['akron', 0, 0, 1, 2, 1, 0, 0, 57, 227, 77, 4, 4], ['alabama', 27, 45, 20, 0, 7, 9, 99, 120, 13, 121, 95, 95], ['alabamabirmingham', 0, 0, 1, 3, 0, 0, 1, 93, 238, 122, 4, 4], ['appalachianstate', 0, 0, 0, 4, 10, 0, 0, 20, 68, 176, 13, 13], ['arizona', 0, 3, 14, 4, 5, 0, 28, 219, 55, 110, 22, 22], ['arizonastate', 0, 5, 21, 2, 4, 1, 40, 224, 33, 97, 29, 29], ['arkansas', 1, 18, 19, 5, 4, 1, 40, 233, 33, 132, 40, 40], ['arkansasstate', 0, 0, 0, 6, 2, 0, 2, 81, 245, 125, 8, 8], ['army', 0, 0, 0, 0, 1, 0, 0, 9, 166, 518, 1, 1], ['auburn', 5, 23, 20, 2, 3, 6, 99, 179, 30, 132, 51, 51], ['ballstate', 0, 0, 2, 2, 1, 0, 0, 47, 200, 86, 3, 3], ['baylor', 0, 7, 14, 4, 6, 2, 13, 205, 75, 188, 25, 25], ['boisestate', 0, 0, 20, 10, 3, 0, 3, 148, 112, 86, 33, 33], ['bostoncollege', 0, 3, 21, 4, 3, 1, 15, 201, 38, 65, 28, 28], ['bowlinggreen', 0, 0, 1, 4, 0, 0, 0, 74, 206, 82, 3, 3], ['buffalo', 0, 0, 0, 6, 3, 0, 1, 38, 208, 76, 9, 9], ['byu', 0, 4, 7, 3, 2, 1, 11, 166, 116, 114, 13, 13], ['california', 3, 13, 19, 4, 9, 1, 49, 172, 19, 139, 42, 42], ['centralflorida', 0, 1, 12, 8, 1, 0, 10, 152, 126, 104, 20, 20], ['centralmichigan', 0, 0, 0, 6, 2, 0, 0, 73, 220, 71, 5, 5], ['charlotte', 0, 0, 0, 2, 2, 0, 0, 16, 49, 123, 3, 3], ['cincinnati', 0, 0, 7, 13, 7, 0, 7, 158, 121, 92, 23, 23], ['clemson', 11, 28, 28, 2, 4, 1, 62, 143, 26, 97, 68, 68], ['coastalcarolina', 0, 0, 0, 0, 7, 0, 0, 5, 16, 189, 7, 7], ['colorado', 1, 2, 14, 3, 4, 1, 24, 211, 61, 87, 20, 20], ['coloradostate', 0, 0, 5, 6, 1, 0, 0, 126, 194, 100, 12, 12], ['duke', 0, 1, 3, 1, 0, 0, 9, 181, 103, 52, 5, 5], ['eastcarolina', 0, 0, 5, 3, 4, 0, 0, 110, 188, 103, 11, 11], ['easternmichigan', 0, 0, 0, 4, 1, 0, 0, 40, 248, 95, 5, 5], ['florida', 24, 39, 22, 0, 7, 13, 103, 113, 6, 92, 85, 85], ['floridaatlantic', 0, 0, 1, 4, 5, 0, 0, 50, 110, 113, 10, 10], ['floridainternational', 0, 0, 1, 6, 2, 0, 1, 61, 183, 91, 7, 7], ['floridastate', 21, 30, 18, 0, 4, 20, 120, 112, 8, 109, 67, 67], ['fresnostate', 0, 1, 7, 7, 6, 0, 2, 103, 151, 105, 19, 19], ['georgia', 19, 35, 20, 1, 4, 9, 104, 135, 10, 69, 69, 69], ['georgiasouthern', 0, 0, 2, 0, 4, 0, 0, 35, 35, 127, 5, 5], ['georgiastate', 0, 0, 0, 1, 1, 0, 0, 14, 74, 128, 2, 2], ['georgiatech', 1, 3, 15, 3, 6, 0, 17, 179, 55, 90, 27, 27], ['hawaii', 0, 0, 4, 7, 8, 0, 3, 94, 183, 93, 14, 14], ['houston', 1, 0, 9, 3, 3, 0, 4, 175, 134, 119, 15, 15], ['illinois', 2, 6, 17, 1, 2, 0, 20, 192, 77, 115, 25, 25], ['indiana', 0, 0, 12, 5, 2, 0, 4, 183, 111, 93, 16, 16], ['iowa', 1, 8, 30, 8, 7, 3, 19, 167, 44, 140, 49, 49], ['iowastate', 0, 0, 9, 3, 0, 0, 8, 226, 96, 131, 9, 9], ['kansas', 0, 0, 8, 3, 2, 0, 5, 225, 70, 106, 12, 12], ['kansasstate', 0, 1, 11, 3, 7, 0, 20, 236, 73, 97, 19, 19], ['kentstate', 0, 0, 1, 5, 0, 0, 0, 52, 226, 79, 6, 6], ['kentucky', 0, 3, 9, 2, 7, 1, 20, 157, 17, 213, 19, 19], ['liberty', 0, 0, 0, 0, 3, 0, 0, 4, 5, 164, 3, 3], ['louisiana', 0, 0, 2, 7, 0, 0, 0, 48, 242, 90, 9, 9], ['louisianamonroe', 0, 0, 0, 0, 0, 0, 0, 30, 285, 70, 0, 0], ['louisianatech', 0, 0, 9, 3, 3, 0, 1, 104, 170, 110, 13, 13], ['louisville', 1, 4, 25, 5, 7, 0, 24, 195, 67, 143, 37, 37], ['lsu', 11, 49, 25, 2, 5, 8, 129, 118, 4, 87, 84, 84], ['marshall', 0, 0, 2, 3, 2, 0, 6, 136, 189, 124, 6, 6], ['maryland', 1, 6, 18, 3, 2, 3, 33, 184, 42, 80, 29, 29], ['massachusetts', 0, 0, 2, 3, 3, 0, 0, 21, 62, 121, 7, 7], ['memphis', 0, 1, 5, 6, 2, 0, 4, 126, 206, 112, 12, 12], ['miami', 7, 34, 19, 0, 12, 11, 89, 151, 12, 108, 70, 70], ['michigan', 7, 39, 13, 0, 4, 5, 103, 131, 6, 81, 59, 59], ['michiganstate', 2, 8, 19, 1, 8, 1, 39, 200, 34, 110, 37, 37], ['middletennesseestate', 0, 0, 2, 4, 0, 0, 2, 83, 237, 81, 4, 4], ['minnesota', 0, 1, 14, 6, 0, 0, 14, 213, 84, 92, 19, 19], ['mississippistate', 3, 10, 18, 1, 1, 3, 40, 218, 58, 87, 30, 30], ['missouri', 3, 6, 21, 4, 4, 0, 28, 229, 34, 88, 33, 33], ['navy', 0, 0, 0, 0, 3, 0, 0, 13, 82, 352, 3, 3], ['nebraska', 0, 11, 23, 0, 11, 1, 58, 201, 27, 71, 41, 41], ['nevada', 0, 0, 4, 8, 2, 0, 2, 75, 213, 134, 14, 14], ['newmexico', 0, 0, 0, 3, 5, 0, 1, 78, 216, 120, 7, 7], ['newmexicostate', 0, 0, 0, 4, 1, 0, 1, 34, 214, 128, 5, 5], ['northcarolina', 1, 12, 24, 2, 5, 1, 45, 199, 36, 108, 40, 40], ['northcarolinastate', 1, 8, 23, 5, 5, 1, 16, 209, 47, 104, 39, 39], ['northernillinois', 0, 0, 2, 6, 2, 0, 0, 69, 235, 79, 8, 8], ['northtexas', 0, 0, 0, 0, 0, 0, 0, 67, 218, 135, 0, 0], ['northwestern', 0, 3, 9, 3, 1, 0, 4, 186, 66, 122, 14, 14], ['notredame', 7, 45, 12, 1, 1, 7, 99, 111, 8, 61, 64, 64], ['ohio', 0, 0, 0, 8, 1, 0, 0, 53, 220, 93, 8, 8], ['ohiostate', 10, 55, 20, 0, 14, 16, 92, 51, 3, 142, 94, 94], ['oklahoma', 4, 37, 23, 0, 10, 14, 101, 142, 9, 105, 68, 68], ['oklahomastate', 0, 8, 13, 3, 2, 1, 35, 250, 39, 97, 23, 23], ['olddominion', 0, 0, 1, 0, 1, 0, 0, 20, 86, 99, 2, 2], ['olemiss', 6, 11, 15, 2, 0, 4, 59, 217, 46, 74, 31, 31], ['oregon', 5, 11, 26, 5, 6, 3, 69, 162, 45, 92, 46, 46], ['oregonstate', 1, 2, 19, 5, 5, 0, 10, 223, 71, 118, 30, 30], ['pennstate', 5, 20, 28, 2, 9, 2, 64, 141, 15, 109, 59, 59], ['pittsburgh', 1, 10, 20, 3, 4, 1, 31, 207, 48, 78, 34, 34], ['purdue', 0, 1, 19, 3, 3, 0, 15, 204, 74, 78, 22, 22], ['rice', 0, 0, 1, 5, 2, 0, 0, 70, 167, 71, 8, 8], ['rutgers', 0, 3, 16, 3, 5, 3, 18, 176, 81, 113, 24, 24], ['sandiegostate', 0, 0, 10, 10, 6, 0, 9, 141, 149, 80, 22, 22], ['sanjosestate', 0, 0, 2, 6, 6, 0, 5, 66, 174, 82, 13, 13], ['smu', 0, 0, 6, 5, 3, 0, 2, 123, 198, 89, 14, 14], ['southalabama', 0, 0, 0, 0, 2, 0, 0, 29, 77, 109, 2, 2], ['southcarolina', 2, 13, 21, 4, 5, 2, 69, 205, 35, 79, 42, 42], ['southernmississippi', 0, 1, 6, 5, 1, 1, 6, 139, 181, 128, 12, 12], ['southflorida', 0, 1, 11, 5, 4, 0, 11, 166, 104, 119, 18, 18], ['stanford', 5, 16, 23, 3, 4, 0, 50, 138, 40, 53, 47, 47], ['syracuse', 0, 1, 6, 7, 9, 0, 9, 179, 96, 100, 21, 21], ['tcu', 0, 5, 18, 12, 4, 0, 17, 183, 66, 83, 34, 34], ['temple', 0, 0, 4, 11, 4, 0, 2, 101, 221, 113, 19, 19], ['tennessee', 4, 24, 13, 0, 2, 9, 99, 174, 7, 89, 40, 40], ['texas', 11, 30, 10, 0, 5, 11, 146, 106, 4, 85, 56, 56], ['texasam', 8, 12, 19, 2, 4, 5, 86, 183, 23, 83, 43, 43], ['texasstate', 0, 0, 0, 1, 2, 0, 0, 22, 64, 196, 3, 3], ['texastech', 0, 3, 18, 0, 1, 0, 29, 226, 47, 134, 18, 18], ['toledo', 0, 0, 4, 3, 2, 0, 2, 94, 196, 93, 9, 9], ['troy', 0, 0, 3, 4, 2, 0, 1, 76, 259, 122, 8, 8], ['tulane', 0, 0, 4, 5, 3, 0, 0, 103, 197, 66, 9, 9], ['tulsa', 0, 0, 3, 2, 0, 0, 3, 121, 183, 91, 5, 5], ['ucla', 4, 22, 15, 1, 5, 4, 89, 150, 21, 124, 42, 42], ['uconn', 0, 0, 10, 13, 2, 0, 1, 114, 155, 77, 23, 23], ['unlv', 0, 0, 2, 2, 1, 0, 2, 78, 230, 87, 5, 5], ['usc', 27, 39, 13, 0, 8, 20, 107, 79, 9, 89, 81, 81], ['utah', 0, 5, 21, 12, 4, 0, 12, 158, 74, 157, 38, 38], ['utahstate', 0, 0, 3, 9, 2, 0, 1, 50, 233, 115, 14, 14], ['utep', 0, 0, 1, 2, 5, 0, 0, 38, 171, 174, 8, 8], ['utsa', 0, 0, 0, 1, 1, 0, 0, 24, 52, 145, 2, 2], ['vanderbilt', 0, 2, 13, 3, 2, 0, 11, 172, 100, 55, 19, 19], ['virginia', 2, 7, 18, 1, 3, 3, 28, 202, 33, 111, 29, 29], ['virginiatech', 2, 13, 21, 2, 13, 1, 36, 205, 28, 84, 44, 44], ['wakeforest', 0, 0, 17, 2, 4, 0, 2, 161, 68, 89, 23, 23], ['washington', 1, 12, 22, 1, 1, 2, 46, 194, 46, 51, 34, 34], ['washingtonstate', 0, 0, 0, 0, 15, 0, 0, 0, 0, 414, 12, 12], ['westernkentucky', 0, 0, 1, 5, 2, 0, 0, 38, 95, 150, 7, 7], ['westernmichigan', 0, 0, 6, 4, 4, 0, 0, 103, 211, 104, 13, 13], ['westvirginia', 0, 7, 20, 5, 7, 2, 21, 220, 74, 100, 37, 37], ['wisconsin', 0, 8, 29, 3, 13, 2, 20, 190, 55, 95, 52, 52], ['wyoming', 0, 0, 2, 8, 1, 0, 1, 59, 222, 135, 11, 11]]\n"
     ]
    }
   ],
   "source": [
    "csv_data = []\n",
    "headers = ['college', 'FiveDrafted', 'FourDrafted', 'ThreeDrafted', 'TwoDrafted', 'OneDrafted', 'FiveUndrafted', 'FourUndrafted', 'ThreeUndrafted', 'TwoUndrafted', 'OneUndrafted', 'DraftedCountNFL', 'UndraftedCountNFL']\n",
    "csv_data.append(headers)\n",
    "for d in all_data:\n",
    "    school = []\n",
    "    school.append(d['College'])\n",
    "    \n",
    "    if 5 in d['DraftedCount'].keys():\n",
    "        school.append(d['DraftedCount'][5])\n",
    "    else:\n",
    "        school.append(0)\n",
    "        \n",
    "    if 4 in d['DraftedCount'].keys():\n",
    "        school.append(d['DraftedCount'][4])\n",
    "    else:\n",
    "        school.append(0)\n",
    "        \n",
    "    if 3 in d['DraftedCount'].keys():\n",
    "        school.append(d['DraftedCount'][3])\n",
    "    else:\n",
    "        school.append(0)\n",
    "        \n",
    "    if 2 in d['DraftedCount'].keys():\n",
    "        school.append(d['DraftedCount'][2])\n",
    "    else:\n",
    "        school.append(0)\n",
    "        \n",
    "    if 1 in d['DraftedCount'].keys():\n",
    "        school.append(d['DraftedCount'][1])\n",
    "    else:\n",
    "        school.append(0)\n",
    "        \n",
    "    if 5 in d['UndraftedCount'].keys():\n",
    "        school.append(d['UndraftedCount'][5])\n",
    "    else:\n",
    "        school.append(0)\n",
    "        \n",
    "    if 4 in d['UndraftedCount'].keys():\n",
    "        school.append(d['UndraftedCount'][4])\n",
    "    else:\n",
    "        school.append(0)\n",
    "        \n",
    "    if 3 in d['UndraftedCount'].keys():\n",
    "        school.append(d['UndraftedCount'][3])\n",
    "    else:\n",
    "        school.append(0)\n",
    "        \n",
    "    if 2 in d['UndraftedCount'].keys():\n",
    "        school.append(d['UndraftedCount'][2])\n",
    "    else:\n",
    "        school.append(0)\n",
    "        \n",
    "    if 1 in d['UndraftedCount'].keys():\n",
    "        school.append(d['UndraftedCount'][1])\n",
    "    else:\n",
    "        school.append(0)\n",
    "        \n",
    "    school.append(d['DraftedCountNFL'])\n",
    "    school.append(d['UndraftedCountNFL'])\n",
    "    csv_data.append(school)\n",
    "\n",
    "print(csv_data)\n",
    "\n",
    "\n"
   ]
  },
  {
   "cell_type": "code",
   "execution_count": 20,
   "id": "d1878435",
   "metadata": {},
   "outputs": [],
   "source": [
    "with open('sankey_output.csv', 'w', newline='') as csvfile:\n",
    "    writer = csv.writer(csvfile)\n",
    "    writer.writerows(csv_data)"
   ]
  },
  {
   "cell_type": "code",
   "execution_count": null,
   "id": "59a1988a",
   "metadata": {},
   "outputs": [],
   "source": []
  }
 ],
 "metadata": {
  "kernelspec": {
   "display_name": "Python 3 (ipykernel)",
   "language": "python",
   "name": "python3"
  },
  "language_info": {
   "codemirror_mode": {
    "name": "ipython",
    "version": 3
   },
   "file_extension": ".py",
   "mimetype": "text/x-python",
   "name": "python",
   "nbconvert_exporter": "python",
   "pygments_lexer": "ipython3",
   "version": "3.8.12"
  }
 },
 "nbformat": 4,
 "nbformat_minor": 5
}
