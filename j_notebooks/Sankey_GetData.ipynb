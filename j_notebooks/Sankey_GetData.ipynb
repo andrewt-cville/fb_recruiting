{
 "cells": [
  {
   "cell_type": "code",
   "execution_count": 16,
   "id": "5b3a36b1",
   "metadata": {},
   "outputs": [],
   "source": [
    "import json\n",
    "import core_constants as cc\n",
    "import functions as fx\n",
    "import pandas as pd\n",
    "import sqlite3 as sql\n",
    "import recordlinkage\n",
    "from recordlinkage.index import Full\n",
    "import queries\n",
    "import csv"
   ]
  },
  {
   "cell_type": "code",
   "execution_count": 2,
   "id": "2784433f",
   "metadata": {},
   "outputs": [
    {
     "name": "stdout",
     "output_type": "stream",
     "text": [
      "['airforce', 'akron', 'alabama', 'alabamabirmingham', 'appalachianstate', 'arizona', 'arizonastate', 'arkansas', 'arkansasstate', 'army', 'auburn', 'ballstate', 'baylor', 'boisestate', 'bostoncollege', 'bowlinggreen', 'buffalo', 'byu', 'california', 'centralflorida', 'centralmichigan', 'charlotte', 'cincinnati', 'clemson', 'coastalcarolina', 'colorado', 'coloradostate', 'duke', 'eastcarolina', 'easternmichigan', 'florida', 'floridaatlantic', 'floridainternational', 'floridastate', 'fresnostate', 'georgia', 'georgiasouthern', 'georgiastate', 'georgiatech', 'hawaii', 'houston', 'illinois', 'indiana', 'iowa', 'iowastate', 'kansas', 'kansasstate', 'kentstate', 'kentucky', 'liberty', 'louisiana', 'louisianamonroe', 'louisianatech', 'louisville', 'lsu', 'marshall', 'maryland', 'massachusetts', 'memphis', 'miami', 'michigan', 'michiganstate', 'middletennesseestate', 'minnesota', 'mississippistate', 'missouri', 'navy', 'nebraska', 'nevada', 'newmexico', 'newmexicostate', 'northcarolina', 'northcarolinastate', 'northernillinois', 'northtexas', 'northwestern', 'notredame', 'ohio', 'ohiostate', 'oklahoma', 'oklahomastate', 'olddominion', 'olemiss', 'oregon', 'oregonstate', 'pennstate', 'pittsburgh', 'purdue', 'rice', 'rutgers', 'sandiegostate', 'sanjosestate', 'smu', 'southalabama', 'southcarolina', 'southernmississippi', 'southflorida', 'stanford', 'syracuse', 'tcu', 'temple', 'tennessee', 'texas', 'texasam', 'texasstate', 'texastech', 'toledo', 'troy', 'tulane', 'tulsa', 'ucla', 'uconn', 'unlv', 'usc', 'utah', 'utahstate', 'utep', 'utsa', 'vanderbilt', 'virginia', 'virginiatech', 'wakeforest', 'washington', 'washingtonstate', 'westernkentucky', 'westernmichigan', 'westvirginia', 'wisconsin', 'wyoming']\n"
     ]
    }
   ],
   "source": [
    "schools = [num for sublist in ((fx.connDBAndReturnDF('''Select id from Schools''')).values.tolist()) for num in sublist]\n",
    "print (schools)"
   ]
  },
  {
   "cell_type": "code",
   "execution_count": 21,
   "id": "e5658151",
   "metadata": {},
   "outputs": [],
   "source": [
    "all_data = []\n",
    "for i in schools:\n",
    "    school_data = {}\n",
    "    draftedCount = (fx.connDBAndReturnDF(queries.getCountbyStars(i, 2017, 1)).to_dict('records'))\n",
    "    undraftedCount = (fx.connDBAndReturnDF(queries.getCountbyStars(i, 2017, 0)).to_dict('records'))\n",
    "    draftedCountNFLGames = (fx.connDBAndReturnDF(queries.getNFLGamesbyDraftStatus(i, 2017, 1)).values.tolist())\n",
    "    undraftedCountNFLGames = (fx.connDBAndReturnDF(queries.getNFLGamesbyDraftStatus(i, 2017, 0)).values.tolist())\n",
    "    school_data['College'] = i\n",
    "    school_data['DraftedCount'] = {}\n",
    "    school_data['UndraftedCount'] = {}\n",
    "    school_data['DraftedCountNFL'] = draftedCountNFLGames[0][0]\n",
    "    school_data['UndraftedCountNFL'] = undraftedCountNFLGames[0][0]\n",
    "    for x in draftedCount:\n",
    "        school_data['DraftedCount'][x['CompositeStars']] = x['PlayerCount']\n",
    "    for x in undraftedCount:\n",
    "        school_data['UndraftedCount'][x['CompositeStars']] = x['PlayerCount']        \n",
    "    \n",
    "    all_data.append(school_data)\n",
    "\n"
   ]
  },
  {
   "cell_type": "code",
   "execution_count": 22,
   "id": "82aabe67",
   "metadata": {},
   "outputs": [
    {
     "name": "stdout",
     "output_type": "stream",
     "text": [
      "[{'College': 'airforce', 'DraftedCount': {1: 1}, 'UndraftedCount': {1: 216, 2: 73, 3: 6}, 'DraftedCountNFL': 1, 'UndraftedCountNFL': 0}, {'College': 'akron', 'DraftedCount': {1: 1, 2: 2, 3: 1}, 'UndraftedCount': {1: 77, 2: 227, 3: 57}, 'DraftedCountNFL': 4, 'UndraftedCountNFL': 0}, {'College': 'alabama', 'DraftedCount': {1: 7, 3: 20, 4: 45, 5: 27}, 'UndraftedCount': {1: 121, 2: 13, 3: 120, 4: 99, 5: 9}, 'DraftedCountNFL': 95, 'UndraftedCountNFL': 0}, {'College': 'alabamabirmingham', 'DraftedCount': {2: 3, 3: 1}, 'UndraftedCount': {1: 122, 2: 238, 3: 93, 4: 1}, 'DraftedCountNFL': 4, 'UndraftedCountNFL': 0}, {'College': 'appalachianstate', 'DraftedCount': {1: 10, 2: 4}, 'UndraftedCount': {1: 176, 2: 68, 3: 20}, 'DraftedCountNFL': 13, 'UndraftedCountNFL': 0}, {'College': 'arizona', 'DraftedCount': {1: 5, 2: 4, 3: 14, 4: 3}, 'UndraftedCount': {1: 110, 2: 55, 3: 219, 4: 28}, 'DraftedCountNFL': 22, 'UndraftedCountNFL': 0}, {'College': 'arizonastate', 'DraftedCount': {1: 4, 2: 2, 3: 21, 4: 5}, 'UndraftedCount': {1: 97, 2: 33, 3: 224, 4: 40, 5: 1}, 'DraftedCountNFL': 29, 'UndraftedCountNFL': 0}, {'College': 'arkansas', 'DraftedCount': {1: 4, 2: 5, 3: 19, 4: 18, 5: 1}, 'UndraftedCount': {1: 132, 2: 33, 3: 233, 4: 40, 5: 1}, 'DraftedCountNFL': 40, 'UndraftedCountNFL': 0}, {'College': 'arkansasstate', 'DraftedCount': {1: 2, 2: 6}, 'UndraftedCount': {1: 125, 2: 245, 3: 81, 4: 2}, 'DraftedCountNFL': 8, 'UndraftedCountNFL': 0}, {'College': 'army', 'DraftedCount': {1: 1}, 'UndraftedCount': {1: 518, 2: 166, 3: 9}, 'DraftedCountNFL': 1, 'UndraftedCountNFL': 0}, {'College': 'auburn', 'DraftedCount': {1: 3, 2: 2, 3: 20, 4: 23, 5: 5}, 'UndraftedCount': {1: 132, 2: 30, 3: 179, 4: 99, 5: 6}, 'DraftedCountNFL': 51, 'UndraftedCountNFL': 0}, {'College': 'ballstate', 'DraftedCount': {1: 1, 2: 2, 3: 2}, 'UndraftedCount': {1: 86, 2: 200, 3: 47}, 'DraftedCountNFL': 3, 'UndraftedCountNFL': 0}, {'College': 'baylor', 'DraftedCount': {1: 6, 2: 4, 3: 14, 4: 7}, 'UndraftedCount': {1: 188, 2: 75, 3: 205, 4: 13, 5: 2}, 'DraftedCountNFL': 25, 'UndraftedCountNFL': 0}, {'College': 'boisestate', 'DraftedCount': {1: 3, 2: 10, 3: 20}, 'UndraftedCount': {1: 86, 2: 112, 3: 148, 4: 3}, 'DraftedCountNFL': 33, 'UndraftedCountNFL': 0}, {'College': 'bostoncollege', 'DraftedCount': {1: 3, 2: 4, 3: 21, 4: 3}, 'UndraftedCount': {1: 65, 2: 38, 3: 201, 4: 15, 5: 1}, 'DraftedCountNFL': 28, 'UndraftedCountNFL': 0}, {'College': 'bowlinggreen', 'DraftedCount': {2: 4, 3: 1}, 'UndraftedCount': {1: 82, 2: 206, 3: 74}, 'DraftedCountNFL': 3, 'UndraftedCountNFL': 0}, {'College': 'buffalo', 'DraftedCount': {1: 3, 2: 6}, 'UndraftedCount': {1: 76, 2: 208, 3: 38, 4: 1}, 'DraftedCountNFL': 9, 'UndraftedCountNFL': 0}, {'College': 'byu', 'DraftedCount': {1: 2, 2: 3, 3: 7, 4: 4}, 'UndraftedCount': {1: 114, 2: 116, 3: 166, 4: 11, 5: 1}, 'DraftedCountNFL': 13, 'UndraftedCountNFL': 0}, {'College': 'california', 'DraftedCount': {1: 9, 2: 4, 3: 19, 4: 13, 5: 3}, 'UndraftedCount': {1: 139, 2: 19, 3: 172, 4: 49, 5: 1}, 'DraftedCountNFL': 42, 'UndraftedCountNFL': 0}, {'College': 'centralflorida', 'DraftedCount': {1: 1, 2: 8, 3: 12, 4: 1}, 'UndraftedCount': {1: 104, 2: 126, 3: 152, 4: 10}, 'DraftedCountNFL': 20, 'UndraftedCountNFL': 0}, {'College': 'centralmichigan', 'DraftedCount': {1: 2, 2: 6}, 'UndraftedCount': {1: 71, 2: 220, 3: 73}, 'DraftedCountNFL': 5, 'UndraftedCountNFL': 0}, {'College': 'charlotte', 'DraftedCount': {1: 2, 2: 2}, 'UndraftedCount': {1: 123, 2: 49, 3: 16}, 'DraftedCountNFL': 3, 'UndraftedCountNFL': 0}, {'College': 'cincinnati', 'DraftedCount': {1: 7, 2: 13, 3: 7}, 'UndraftedCount': {1: 92, 2: 121, 3: 158, 4: 7}, 'DraftedCountNFL': 23, 'UndraftedCountNFL': 0}, {'College': 'clemson', 'DraftedCount': {1: 4, 2: 2, 3: 28, 4: 28, 5: 11}, 'UndraftedCount': {1: 97, 2: 26, 3: 143, 4: 62, 5: 1}, 'DraftedCountNFL': 68, 'UndraftedCountNFL': 0}, {'College': 'coastalcarolina', 'DraftedCount': {1: 7}, 'UndraftedCount': {1: 189, 2: 16, 3: 5}, 'DraftedCountNFL': 7, 'UndraftedCountNFL': 0}, {'College': 'colorado', 'DraftedCount': {1: 4, 2: 3, 3: 14, 4: 2, 5: 1}, 'UndraftedCount': {1: 87, 2: 61, 3: 211, 4: 24, 5: 1}, 'DraftedCountNFL': 20, 'UndraftedCountNFL': 0}, {'College': 'coloradostate', 'DraftedCount': {1: 1, 2: 6, 3: 5}, 'UndraftedCount': {1: 100, 2: 194, 3: 126}, 'DraftedCountNFL': 12, 'UndraftedCountNFL': 0}, {'College': 'duke', 'DraftedCount': {2: 1, 3: 3, 4: 1}, 'UndraftedCount': {1: 52, 2: 103, 3: 181, 4: 9}, 'DraftedCountNFL': 5, 'UndraftedCountNFL': 0}, {'College': 'eastcarolina', 'DraftedCount': {1: 4, 2: 3, 3: 5}, 'UndraftedCount': {1: 103, 2: 188, 3: 110}, 'DraftedCountNFL': 11, 'UndraftedCountNFL': 0}, {'College': 'easternmichigan', 'DraftedCount': {1: 1, 2: 4}, 'UndraftedCount': {1: 95, 2: 248, 3: 40}, 'DraftedCountNFL': 5, 'UndraftedCountNFL': 0}, {'College': 'florida', 'DraftedCount': {1: 7, 3: 22, 4: 39, 5: 24}, 'UndraftedCount': {1: 92, 2: 6, 3: 113, 4: 103, 5: 13}, 'DraftedCountNFL': 85, 'UndraftedCountNFL': 0}, {'College': 'floridaatlantic', 'DraftedCount': {1: 5, 2: 4, 3: 1}, 'UndraftedCount': {1: 113, 2: 110, 3: 50}, 'DraftedCountNFL': 10, 'UndraftedCountNFL': 0}, {'College': 'floridainternational', 'DraftedCount': {1: 2, 2: 6, 3: 1}, 'UndraftedCount': {1: 91, 2: 183, 3: 61, 4: 1}, 'DraftedCountNFL': 7, 'UndraftedCountNFL': 0}, {'College': 'floridastate', 'DraftedCount': {1: 4, 3: 18, 4: 30, 5: 21}, 'UndraftedCount': {1: 109, 2: 8, 3: 112, 4: 120, 5: 20}, 'DraftedCountNFL': 67, 'UndraftedCountNFL': 0}, {'College': 'fresnostate', 'DraftedCount': {1: 6, 2: 7, 3: 7, 4: 1}, 'UndraftedCount': {1: 105, 2: 151, 3: 103, 4: 2}, 'DraftedCountNFL': 19, 'UndraftedCountNFL': 0}, {'College': 'georgia', 'DraftedCount': {1: 4, 2: 1, 3: 20, 4: 35, 5: 19}, 'UndraftedCount': {1: 69, 2: 10, 3: 135, 4: 104, 5: 9}, 'DraftedCountNFL': 69, 'UndraftedCountNFL': 0}, {'College': 'georgiasouthern', 'DraftedCount': {1: 4, 3: 2}, 'UndraftedCount': {1: 127, 2: 35, 3: 35}, 'DraftedCountNFL': 5, 'UndraftedCountNFL': 0}, {'College': 'georgiastate', 'DraftedCount': {1: 1, 2: 1}, 'UndraftedCount': {1: 128, 2: 74, 3: 14}, 'DraftedCountNFL': 2, 'UndraftedCountNFL': 0}, {'College': 'georgiatech', 'DraftedCount': {1: 6, 2: 3, 3: 15, 4: 3, 5: 1}, 'UndraftedCount': {1: 90, 2: 55, 3: 179, 4: 17}, 'DraftedCountNFL': 27, 'UndraftedCountNFL': 0}, {'College': 'hawaii', 'DraftedCount': {1: 8, 2: 7, 3: 4}, 'UndraftedCount': {1: 93, 2: 183, 3: 94, 4: 3}, 'DraftedCountNFL': 14, 'UndraftedCountNFL': 0}, {'College': 'houston', 'DraftedCount': {1: 3, 2: 3, 3: 9, 5: 1}, 'UndraftedCount': {1: 119, 2: 134, 3: 175, 4: 4}, 'DraftedCountNFL': 15, 'UndraftedCountNFL': 0}, {'College': 'illinois', 'DraftedCount': {1: 2, 2: 1, 3: 17, 4: 6, 5: 2}, 'UndraftedCount': {1: 115, 2: 77, 3: 192, 4: 20}, 'DraftedCountNFL': 25, 'UndraftedCountNFL': 0}, {'College': 'indiana', 'DraftedCount': {1: 2, 2: 5, 3: 12}, 'UndraftedCount': {1: 93, 2: 111, 3: 183, 4: 4}, 'DraftedCountNFL': 16, 'UndraftedCountNFL': 0}, {'College': 'iowa', 'DraftedCount': {1: 7, 2: 8, 3: 30, 4: 8, 5: 1}, 'UndraftedCount': {1: 140, 2: 44, 3: 167, 4: 19, 5: 3}, 'DraftedCountNFL': 49, 'UndraftedCountNFL': 0}, {'College': 'iowastate', 'DraftedCount': {2: 3, 3: 9}, 'UndraftedCount': {1: 131, 2: 96, 3: 226, 4: 8}, 'DraftedCountNFL': 9, 'UndraftedCountNFL': 0}, {'College': 'kansas', 'DraftedCount': {1: 2, 2: 3, 3: 8}, 'UndraftedCount': {1: 106, 2: 70, 3: 225, 4: 5}, 'DraftedCountNFL': 12, 'UndraftedCountNFL': 0}, {'College': 'kansasstate', 'DraftedCount': {1: 7, 2: 3, 3: 11, 4: 1}, 'UndraftedCount': {1: 97, 2: 73, 3: 236, 4: 20}, 'DraftedCountNFL': 19, 'UndraftedCountNFL': 0}, {'College': 'kentstate', 'DraftedCount': {2: 5, 3: 1}, 'UndraftedCount': {1: 79, 2: 226, 3: 52}, 'DraftedCountNFL': 6, 'UndraftedCountNFL': 0}, {'College': 'kentucky', 'DraftedCount': {1: 7, 2: 2, 3: 9, 4: 3}, 'UndraftedCount': {1: 213, 2: 17, 3: 157, 4: 20, 5: 1}, 'DraftedCountNFL': 19, 'UndraftedCountNFL': 0}, {'College': 'liberty', 'DraftedCount': {1: 3}, 'UndraftedCount': {1: 164, 2: 5, 3: 4}, 'DraftedCountNFL': 3, 'UndraftedCountNFL': 0}, {'College': 'louisiana', 'DraftedCount': {2: 7, 3: 2}, 'UndraftedCount': {1: 90, 2: 242, 3: 48}, 'DraftedCountNFL': 9, 'UndraftedCountNFL': 0}, {'College': 'louisianamonroe', 'DraftedCount': {}, 'UndraftedCount': {1: 70, 2: 285, 3: 30}, 'DraftedCountNFL': 0, 'UndraftedCountNFL': 0}, {'College': 'louisianatech', 'DraftedCount': {1: 3, 2: 3, 3: 9}, 'UndraftedCount': {1: 110, 2: 170, 3: 104, 4: 1}, 'DraftedCountNFL': 13, 'UndraftedCountNFL': 0}, {'College': 'louisville', 'DraftedCount': {1: 7, 2: 5, 3: 25, 4: 4, 5: 1}, 'UndraftedCount': {1: 143, 2: 67, 3: 195, 4: 24}, 'DraftedCountNFL': 37, 'UndraftedCountNFL': 0}, {'College': 'lsu', 'DraftedCount': {1: 5, 2: 2, 3: 25, 4: 49, 5: 11}, 'UndraftedCount': {1: 87, 2: 4, 3: 118, 4: 129, 5: 8}, 'DraftedCountNFL': 84, 'UndraftedCountNFL': 0}, {'College': 'marshall', 'DraftedCount': {1: 2, 2: 3, 3: 2}, 'UndraftedCount': {1: 124, 2: 189, 3: 136, 4: 6}, 'DraftedCountNFL': 6, 'UndraftedCountNFL': 0}, {'College': 'maryland', 'DraftedCount': {1: 2, 2: 3, 3: 18, 4: 6, 5: 1}, 'UndraftedCount': {1: 80, 2: 42, 3: 184, 4: 33, 5: 3}, 'DraftedCountNFL': 29, 'UndraftedCountNFL': 0}, {'College': 'massachusetts', 'DraftedCount': {1: 3, 2: 3, 3: 2}, 'UndraftedCount': {1: 121, 2: 62, 3: 21}, 'DraftedCountNFL': 7, 'UndraftedCountNFL': 0}, {'College': 'memphis', 'DraftedCount': {1: 2, 2: 6, 3: 5, 4: 1}, 'UndraftedCount': {1: 112, 2: 206, 3: 126, 4: 4}, 'DraftedCountNFL': 12, 'UndraftedCountNFL': 0}, {'College': 'miami', 'DraftedCount': {1: 12, 3: 19, 4: 34, 5: 7}, 'UndraftedCount': {1: 108, 2: 12, 3: 151, 4: 89, 5: 11}, 'DraftedCountNFL': 70, 'UndraftedCountNFL': 0}, {'College': 'michigan', 'DraftedCount': {1: 4, 3: 13, 4: 39, 5: 7}, 'UndraftedCount': {1: 81, 2: 6, 3: 131, 4: 103, 5: 5}, 'DraftedCountNFL': 59, 'UndraftedCountNFL': 0}, {'College': 'michiganstate', 'DraftedCount': {1: 8, 2: 1, 3: 19, 4: 8, 5: 2}, 'UndraftedCount': {1: 110, 2: 34, 3: 200, 4: 39, 5: 1}, 'DraftedCountNFL': 37, 'UndraftedCountNFL': 0}, {'College': 'middletennesseestate', 'DraftedCount': {2: 4, 3: 2}, 'UndraftedCount': {1: 81, 2: 237, 3: 83, 4: 2}, 'DraftedCountNFL': 4, 'UndraftedCountNFL': 0}, {'College': 'minnesota', 'DraftedCount': {2: 6, 3: 14, 4: 1}, 'UndraftedCount': {1: 92, 2: 84, 3: 213, 4: 14}, 'DraftedCountNFL': 19, 'UndraftedCountNFL': 0}, {'College': 'mississippistate', 'DraftedCount': {1: 1, 2: 1, 3: 18, 4: 10, 5: 3}, 'UndraftedCount': {1: 87, 2: 58, 3: 218, 4: 40, 5: 3}, 'DraftedCountNFL': 30, 'UndraftedCountNFL': 0}, {'College': 'missouri', 'DraftedCount': {1: 4, 2: 4, 3: 21, 4: 6, 5: 3}, 'UndraftedCount': {1: 88, 2: 34, 3: 229, 4: 28}, 'DraftedCountNFL': 33, 'UndraftedCountNFL': 0}, {'College': 'navy', 'DraftedCount': {1: 3}, 'UndraftedCount': {1: 352, 2: 82, 3: 13}, 'DraftedCountNFL': 3, 'UndraftedCountNFL': 0}, {'College': 'nebraska', 'DraftedCount': {1: 11, 3: 23, 4: 11}, 'UndraftedCount': {1: 71, 2: 27, 3: 201, 4: 58, 5: 1}, 'DraftedCountNFL': 41, 'UndraftedCountNFL': 0}, {'College': 'nevada', 'DraftedCount': {1: 2, 2: 8, 3: 4}, 'UndraftedCount': {1: 134, 2: 213, 3: 75, 4: 2}, 'DraftedCountNFL': 14, 'UndraftedCountNFL': 0}, {'College': 'newmexico', 'DraftedCount': {1: 5, 2: 3}, 'UndraftedCount': {1: 120, 2: 216, 3: 78, 4: 1}, 'DraftedCountNFL': 7, 'UndraftedCountNFL': 0}, {'College': 'newmexicostate', 'DraftedCount': {1: 1, 2: 4}, 'UndraftedCount': {1: 128, 2: 214, 3: 34, 4: 1}, 'DraftedCountNFL': 5, 'UndraftedCountNFL': 0}, {'College': 'northcarolina', 'DraftedCount': {1: 5, 2: 2, 3: 24, 4: 12, 5: 1}, 'UndraftedCount': {1: 108, 2: 36, 3: 199, 4: 45, 5: 1}, 'DraftedCountNFL': 40, 'UndraftedCountNFL': 0}, {'College': 'northcarolinastate', 'DraftedCount': {1: 5, 2: 5, 3: 23, 4: 8, 5: 1}, 'UndraftedCount': {1: 104, 2: 47, 3: 209, 4: 16, 5: 1}, 'DraftedCountNFL': 39, 'UndraftedCountNFL': 0}, {'College': 'northernillinois', 'DraftedCount': {1: 2, 2: 6, 3: 2}, 'UndraftedCount': {1: 79, 2: 235, 3: 69}, 'DraftedCountNFL': 8, 'UndraftedCountNFL': 0}, {'College': 'northtexas', 'DraftedCount': {}, 'UndraftedCount': {1: 135, 2: 218, 3: 67}, 'DraftedCountNFL': 0, 'UndraftedCountNFL': 0}, {'College': 'northwestern', 'DraftedCount': {1: 1, 2: 3, 3: 9, 4: 3}, 'UndraftedCount': {1: 122, 2: 66, 3: 186, 4: 4}, 'DraftedCountNFL': 14, 'UndraftedCountNFL': 0}, {'College': 'notredame', 'DraftedCount': {1: 1, 2: 1, 3: 12, 4: 45, 5: 7}, 'UndraftedCount': {1: 61, 2: 8, 3: 111, 4: 99, 5: 7}, 'DraftedCountNFL': 64, 'UndraftedCountNFL': 0}, {'College': 'ohio', 'DraftedCount': {1: 1, 2: 8}, 'UndraftedCount': {1: 93, 2: 220, 3: 53}, 'DraftedCountNFL': 8, 'UndraftedCountNFL': 0}, {'College': 'ohiostate', 'DraftedCount': {1: 14, 3: 20, 4: 55, 5: 10}, 'UndraftedCount': {1: 142, 2: 3, 3: 51, 4: 92, 5: 16}, 'DraftedCountNFL': 94, 'UndraftedCountNFL': 0}, {'College': 'oklahoma', 'DraftedCount': {1: 10, 3: 23, 4: 37, 5: 4}, 'UndraftedCount': {1: 105, 2: 9, 3: 142, 4: 101, 5: 14}, 'DraftedCountNFL': 68, 'UndraftedCountNFL': 0}, {'College': 'oklahomastate', 'DraftedCount': {1: 2, 2: 3, 3: 13, 4: 8}, 'UndraftedCount': {1: 97, 2: 39, 3: 250, 4: 35, 5: 1}, 'DraftedCountNFL': 23, 'UndraftedCountNFL': 0}, {'College': 'olddominion', 'DraftedCount': {1: 1, 3: 1}, 'UndraftedCount': {1: 99, 2: 86, 3: 20}, 'DraftedCountNFL': 2, 'UndraftedCountNFL': 0}, {'College': 'olemiss', 'DraftedCount': {2: 2, 3: 15, 4: 11, 5: 6}, 'UndraftedCount': {1: 74, 2: 46, 3: 217, 4: 59, 5: 4}, 'DraftedCountNFL': 31, 'UndraftedCountNFL': 0}, {'College': 'oregon', 'DraftedCount': {1: 6, 2: 5, 3: 26, 4: 11, 5: 5}, 'UndraftedCount': {1: 92, 2: 45, 3: 162, 4: 69, 5: 3}, 'DraftedCountNFL': 46, 'UndraftedCountNFL': 0}, {'College': 'oregonstate', 'DraftedCount': {1: 5, 2: 5, 3: 19, 4: 2, 5: 1}, 'UndraftedCount': {1: 118, 2: 71, 3: 223, 4: 10}, 'DraftedCountNFL': 30, 'UndraftedCountNFL': 0}, {'College': 'pennstate', 'DraftedCount': {1: 9, 2: 2, 3: 28, 4: 20, 5: 5}, 'UndraftedCount': {1: 109, 2: 15, 3: 141, 4: 64, 5: 2}, 'DraftedCountNFL': 59, 'UndraftedCountNFL': 0}, {'College': 'pittsburgh', 'DraftedCount': {1: 4, 2: 3, 3: 20, 4: 10, 5: 1}, 'UndraftedCount': {1: 78, 2: 48, 3: 207, 4: 31, 5: 1}, 'DraftedCountNFL': 34, 'UndraftedCountNFL': 0}, {'College': 'purdue', 'DraftedCount': {1: 3, 2: 3, 3: 19, 4: 1}, 'UndraftedCount': {1: 78, 2: 74, 3: 204, 4: 15}, 'DraftedCountNFL': 22, 'UndraftedCountNFL': 0}, {'College': 'rice', 'DraftedCount': {1: 2, 2: 5, 3: 1}, 'UndraftedCount': {1: 71, 2: 167, 3: 70}, 'DraftedCountNFL': 8, 'UndraftedCountNFL': 0}, {'College': 'rutgers', 'DraftedCount': {1: 5, 2: 3, 3: 16, 4: 3}, 'UndraftedCount': {1: 113, 2: 81, 3: 176, 4: 18, 5: 3}, 'DraftedCountNFL': 24, 'UndraftedCountNFL': 0}, {'College': 'sandiegostate', 'DraftedCount': {1: 6, 2: 10, 3: 10}, 'UndraftedCount': {1: 80, 2: 149, 3: 141, 4: 9}, 'DraftedCountNFL': 22, 'UndraftedCountNFL': 0}, {'College': 'sanjosestate', 'DraftedCount': {1: 6, 2: 6, 3: 2}, 'UndraftedCount': {1: 82, 2: 174, 3: 66, 4: 5}, 'DraftedCountNFL': 13, 'UndraftedCountNFL': 0}, {'College': 'smu', 'DraftedCount': {1: 3, 2: 5, 3: 6}, 'UndraftedCount': {1: 89, 2: 198, 3: 123, 4: 2}, 'DraftedCountNFL': 14, 'UndraftedCountNFL': 0}, {'College': 'southalabama', 'DraftedCount': {1: 2}, 'UndraftedCount': {1: 109, 2: 77, 3: 29}, 'DraftedCountNFL': 2, 'UndraftedCountNFL': 0}, {'College': 'southcarolina', 'DraftedCount': {1: 5, 2: 4, 3: 21, 4: 13, 5: 2}, 'UndraftedCount': {1: 79, 2: 35, 3: 205, 4: 69, 5: 2}, 'DraftedCountNFL': 42, 'UndraftedCountNFL': 0}, {'College': 'southernmississippi', 'DraftedCount': {1: 1, 2: 5, 3: 6, 4: 1}, 'UndraftedCount': {1: 128, 2: 181, 3: 139, 4: 6, 5: 1}, 'DraftedCountNFL': 12, 'UndraftedCountNFL': 0}, {'College': 'southflorida', 'DraftedCount': {1: 4, 2: 5, 3: 11, 4: 1}, 'UndraftedCount': {1: 119, 2: 104, 3: 166, 4: 11}, 'DraftedCountNFL': 18, 'UndraftedCountNFL': 0}, {'College': 'stanford', 'DraftedCount': {1: 4, 2: 3, 3: 23, 4: 16, 5: 5}, 'UndraftedCount': {1: 53, 2: 40, 3: 138, 4: 50}, 'DraftedCountNFL': 47, 'UndraftedCountNFL': 0}, {'College': 'syracuse', 'DraftedCount': {1: 9, 2: 7, 3: 6, 4: 1}, 'UndraftedCount': {1: 100, 2: 96, 3: 179, 4: 9}, 'DraftedCountNFL': 21, 'UndraftedCountNFL': 0}, {'College': 'tcu', 'DraftedCount': {1: 4, 2: 12, 3: 18, 4: 5}, 'UndraftedCount': {1: 83, 2: 66, 3: 183, 4: 17}, 'DraftedCountNFL': 34, 'UndraftedCountNFL': 0}, {'College': 'temple', 'DraftedCount': {1: 4, 2: 11, 3: 4}, 'UndraftedCount': {1: 113, 2: 221, 3: 101, 4: 2}, 'DraftedCountNFL': 19, 'UndraftedCountNFL': 0}, {'College': 'tennessee', 'DraftedCount': {1: 2, 3: 13, 4: 24, 5: 4}, 'UndraftedCount': {1: 89, 2: 7, 3: 174, 4: 99, 5: 9}, 'DraftedCountNFL': 40, 'UndraftedCountNFL': 0}, {'College': 'texas', 'DraftedCount': {1: 5, 3: 10, 4: 30, 5: 11}, 'UndraftedCount': {1: 85, 2: 4, 3: 106, 4: 146, 5: 11}, 'DraftedCountNFL': 56, 'UndraftedCountNFL': 0}, {'College': 'texasam', 'DraftedCount': {1: 4, 2: 2, 3: 19, 4: 12, 5: 8}, 'UndraftedCount': {1: 83, 2: 23, 3: 183, 4: 86, 5: 5}, 'DraftedCountNFL': 43, 'UndraftedCountNFL': 0}, {'College': 'texasstate', 'DraftedCount': {1: 2, 2: 1}, 'UndraftedCount': {1: 196, 2: 64, 3: 22}, 'DraftedCountNFL': 3, 'UndraftedCountNFL': 0}, {'College': 'texastech', 'DraftedCount': {1: 1, 3: 18, 4: 3}, 'UndraftedCount': {1: 134, 2: 47, 3: 226, 4: 29}, 'DraftedCountNFL': 18, 'UndraftedCountNFL': 0}, {'College': 'toledo', 'DraftedCount': {1: 2, 2: 3, 3: 4}, 'UndraftedCount': {1: 93, 2: 196, 3: 94, 4: 2}, 'DraftedCountNFL': 9, 'UndraftedCountNFL': 0}, {'College': 'troy', 'DraftedCount': {1: 2, 2: 4, 3: 3}, 'UndraftedCount': {1: 122, 2: 259, 3: 76, 4: 1}, 'DraftedCountNFL': 8, 'UndraftedCountNFL': 0}, {'College': 'tulane', 'DraftedCount': {1: 3, 2: 5, 3: 4}, 'UndraftedCount': {1: 66, 2: 197, 3: 103}, 'DraftedCountNFL': 9, 'UndraftedCountNFL': 0}, {'College': 'tulsa', 'DraftedCount': {2: 2, 3: 3}, 'UndraftedCount': {1: 91, 2: 183, 3: 121, 4: 3}, 'DraftedCountNFL': 5, 'UndraftedCountNFL': 0}, {'College': 'ucla', 'DraftedCount': {1: 5, 2: 1, 3: 15, 4: 22, 5: 4}, 'UndraftedCount': {1: 124, 2: 21, 3: 150, 4: 89, 5: 4}, 'DraftedCountNFL': 42, 'UndraftedCountNFL': 0}, {'College': 'uconn', 'DraftedCount': {1: 2, 2: 13, 3: 10}, 'UndraftedCount': {1: 77, 2: 155, 3: 114, 4: 1}, 'DraftedCountNFL': 23, 'UndraftedCountNFL': 0}, {'College': 'unlv', 'DraftedCount': {1: 1, 2: 2, 3: 2}, 'UndraftedCount': {1: 87, 2: 230, 3: 78, 4: 2}, 'DraftedCountNFL': 5, 'UndraftedCountNFL': 0}, {'College': 'usc', 'DraftedCount': {1: 8, 3: 13, 4: 39, 5: 27}, 'UndraftedCount': {1: 89, 2: 9, 3: 79, 4: 107, 5: 20}, 'DraftedCountNFL': 81, 'UndraftedCountNFL': 0}, {'College': 'utah', 'DraftedCount': {1: 4, 2: 12, 3: 21, 4: 5}, 'UndraftedCount': {1: 157, 2: 74, 3: 158, 4: 12}, 'DraftedCountNFL': 38, 'UndraftedCountNFL': 0}, {'College': 'utahstate', 'DraftedCount': {1: 2, 2: 9, 3: 3}, 'UndraftedCount': {1: 115, 2: 233, 3: 50, 4: 1}, 'DraftedCountNFL': 14, 'UndraftedCountNFL': 0}, {'College': 'utep', 'DraftedCount': {1: 5, 2: 2, 3: 1}, 'UndraftedCount': {1: 174, 2: 171, 3: 38}, 'DraftedCountNFL': 8, 'UndraftedCountNFL': 0}, {'College': 'utsa', 'DraftedCount': {1: 1, 2: 1}, 'UndraftedCount': {1: 145, 2: 52, 3: 24}, 'DraftedCountNFL': 2, 'UndraftedCountNFL': 0}, {'College': 'vanderbilt', 'DraftedCount': {1: 2, 2: 3, 3: 13, 4: 2}, 'UndraftedCount': {1: 55, 2: 100, 3: 172, 4: 11}, 'DraftedCountNFL': 19, 'UndraftedCountNFL': 0}, {'College': 'virginia', 'DraftedCount': {1: 3, 2: 1, 3: 18, 4: 7, 5: 2}, 'UndraftedCount': {1: 111, 2: 33, 3: 202, 4: 28, 5: 3}, 'DraftedCountNFL': 29, 'UndraftedCountNFL': 0}, {'College': 'virginiatech', 'DraftedCount': {1: 13, 2: 2, 3: 21, 4: 13, 5: 2}, 'UndraftedCount': {1: 84, 2: 28, 3: 205, 4: 36, 5: 1}, 'DraftedCountNFL': 44, 'UndraftedCountNFL': 0}, {'College': 'wakeforest', 'DraftedCount': {1: 4, 2: 2, 3: 17}, 'UndraftedCount': {1: 89, 2: 68, 3: 161, 4: 2}, 'DraftedCountNFL': 23, 'UndraftedCountNFL': 0}, {'College': 'washington', 'DraftedCount': {1: 1, 2: 1, 3: 22, 4: 12, 5: 1}, 'UndraftedCount': {1: 51, 2: 46, 3: 194, 4: 46, 5: 2}, 'DraftedCountNFL': 34, 'UndraftedCountNFL': 0}, {'College': 'washingtonstate', 'DraftedCount': {1: 15}, 'UndraftedCount': {1: 414}, 'DraftedCountNFL': 12, 'UndraftedCountNFL': 0}, {'College': 'westernkentucky', 'DraftedCount': {1: 2, 2: 5, 3: 1}, 'UndraftedCount': {1: 150, 2: 95, 3: 38}, 'DraftedCountNFL': 7, 'UndraftedCountNFL': 0}, {'College': 'westernmichigan', 'DraftedCount': {1: 4, 2: 4, 3: 6}, 'UndraftedCount': {1: 104, 2: 211, 3: 103}, 'DraftedCountNFL': 13, 'UndraftedCountNFL': 0}, {'College': 'westvirginia', 'DraftedCount': {1: 7, 2: 5, 3: 20, 4: 7}, 'UndraftedCount': {1: 100, 2: 74, 3: 220, 4: 21, 5: 2}, 'DraftedCountNFL': 37, 'UndraftedCountNFL': 0}, {'College': 'wisconsin', 'DraftedCount': {1: 13, 2: 3, 3: 29, 4: 8}, 'UndraftedCount': {1: 95, 2: 55, 3: 190, 4: 20, 5: 2}, 'DraftedCountNFL': 52, 'UndraftedCountNFL': 0}, {'College': 'wyoming', 'DraftedCount': {1: 1, 2: 8, 3: 2}, 'UndraftedCount': {1: 135, 2: 222, 3: 59, 4: 1}, 'DraftedCountNFL': 11, 'UndraftedCountNFL': 0}]\n"
     ]
    }
   ],
   "source": [
    "print(all_data)\n",
    "\n",
    "\n",
    "\n",
    "\n"
   ]
  },
  {
   "cell_type": "code",
   "execution_count": 23,
   "id": "22f3a49e",
   "metadata": {},
   "outputs": [
    {
     "name": "stdout",
     "output_type": "stream",
     "text": [
      "[['college', 'FiveDrafted', 'FourDrafted', 'ThreeDrafted', 'TwoDrafted', 'OneDrafted', 'FiveUndrafted', 'FourUndrafted', 'ThreeUndrafted', 'TwoUndrafted', 'OneUndrafted', 'DraftedCountNFL', 'UndraftedCountNFL'], ['airforce', 0, 0, 0, 0, 1, 0, 0, 6, 73, 216, 1, 0], ['akron', 0, 0, 1, 2, 1, 0, 0, 57, 227, 77, 4, 0], ['alabama', 27, 45, 20, 0, 7, 9, 99, 120, 13, 121, 95, 0], ['alabamabirmingham', 0, 0, 1, 3, 0, 0, 1, 93, 238, 122, 4, 0], ['appalachianstate', 0, 0, 0, 4, 10, 0, 0, 20, 68, 176, 13, 0], ['arizona', 0, 3, 14, 4, 5, 0, 28, 219, 55, 110, 22, 0], ['arizonastate', 0, 5, 21, 2, 4, 1, 40, 224, 33, 97, 29, 0], ['arkansas', 1, 18, 19, 5, 4, 1, 40, 233, 33, 132, 40, 0], ['arkansasstate', 0, 0, 0, 6, 2, 0, 2, 81, 245, 125, 8, 0], ['army', 0, 0, 0, 0, 1, 0, 0, 9, 166, 518, 1, 0], ['auburn', 5, 23, 20, 2, 3, 6, 99, 179, 30, 132, 51, 0], ['ballstate', 0, 0, 2, 2, 1, 0, 0, 47, 200, 86, 3, 0], ['baylor', 0, 7, 14, 4, 6, 2, 13, 205, 75, 188, 25, 0], ['boisestate', 0, 0, 20, 10, 3, 0, 3, 148, 112, 86, 33, 0], ['bostoncollege', 0, 3, 21, 4, 3, 1, 15, 201, 38, 65, 28, 0], ['bowlinggreen', 0, 0, 1, 4, 0, 0, 0, 74, 206, 82, 3, 0], ['buffalo', 0, 0, 0, 6, 3, 0, 1, 38, 208, 76, 9, 0], ['byu', 0, 4, 7, 3, 2, 1, 11, 166, 116, 114, 13, 0], ['california', 3, 13, 19, 4, 9, 1, 49, 172, 19, 139, 42, 0], ['centralflorida', 0, 1, 12, 8, 1, 0, 10, 152, 126, 104, 20, 0], ['centralmichigan', 0, 0, 0, 6, 2, 0, 0, 73, 220, 71, 5, 0], ['charlotte', 0, 0, 0, 2, 2, 0, 0, 16, 49, 123, 3, 0], ['cincinnati', 0, 0, 7, 13, 7, 0, 7, 158, 121, 92, 23, 0], ['clemson', 11, 28, 28, 2, 4, 1, 62, 143, 26, 97, 68, 0], ['coastalcarolina', 0, 0, 0, 0, 7, 0, 0, 5, 16, 189, 7, 0], ['colorado', 1, 2, 14, 3, 4, 1, 24, 211, 61, 87, 20, 0], ['coloradostate', 0, 0, 5, 6, 1, 0, 0, 126, 194, 100, 12, 0], ['duke', 0, 1, 3, 1, 0, 0, 9, 181, 103, 52, 5, 0], ['eastcarolina', 0, 0, 5, 3, 4, 0, 0, 110, 188, 103, 11, 0], ['easternmichigan', 0, 0, 0, 4, 1, 0, 0, 40, 248, 95, 5, 0], ['florida', 24, 39, 22, 0, 7, 13, 103, 113, 6, 92, 85, 0], ['floridaatlantic', 0, 0, 1, 4, 5, 0, 0, 50, 110, 113, 10, 0], ['floridainternational', 0, 0, 1, 6, 2, 0, 1, 61, 183, 91, 7, 0], ['floridastate', 21, 30, 18, 0, 4, 20, 120, 112, 8, 109, 67, 0], ['fresnostate', 0, 1, 7, 7, 6, 0, 2, 103, 151, 105, 19, 0], ['georgia', 19, 35, 20, 1, 4, 9, 104, 135, 10, 69, 69, 0], ['georgiasouthern', 0, 0, 2, 0, 4, 0, 0, 35, 35, 127, 5, 0], ['georgiastate', 0, 0, 0, 1, 1, 0, 0, 14, 74, 128, 2, 0], ['georgiatech', 1, 3, 15, 3, 6, 0, 17, 179, 55, 90, 27, 0], ['hawaii', 0, 0, 4, 7, 8, 0, 3, 94, 183, 93, 14, 0], ['houston', 1, 0, 9, 3, 3, 0, 4, 175, 134, 119, 15, 0], ['illinois', 2, 6, 17, 1, 2, 0, 20, 192, 77, 115, 25, 0], ['indiana', 0, 0, 12, 5, 2, 0, 4, 183, 111, 93, 16, 0], ['iowa', 1, 8, 30, 8, 7, 3, 19, 167, 44, 140, 49, 0], ['iowastate', 0, 0, 9, 3, 0, 0, 8, 226, 96, 131, 9, 0], ['kansas', 0, 0, 8, 3, 2, 0, 5, 225, 70, 106, 12, 0], ['kansasstate', 0, 1, 11, 3, 7, 0, 20, 236, 73, 97, 19, 0], ['kentstate', 0, 0, 1, 5, 0, 0, 0, 52, 226, 79, 6, 0], ['kentucky', 0, 3, 9, 2, 7, 1, 20, 157, 17, 213, 19, 0], ['liberty', 0, 0, 0, 0, 3, 0, 0, 4, 5, 164, 3, 0], ['louisiana', 0, 0, 2, 7, 0, 0, 0, 48, 242, 90, 9, 0], ['louisianamonroe', 0, 0, 0, 0, 0, 0, 0, 30, 285, 70, 0, 0], ['louisianatech', 0, 0, 9, 3, 3, 0, 1, 104, 170, 110, 13, 0], ['louisville', 1, 4, 25, 5, 7, 0, 24, 195, 67, 143, 37, 0], ['lsu', 11, 49, 25, 2, 5, 8, 129, 118, 4, 87, 84, 0], ['marshall', 0, 0, 2, 3, 2, 0, 6, 136, 189, 124, 6, 0], ['maryland', 1, 6, 18, 3, 2, 3, 33, 184, 42, 80, 29, 0], ['massachusetts', 0, 0, 2, 3, 3, 0, 0, 21, 62, 121, 7, 0], ['memphis', 0, 1, 5, 6, 2, 0, 4, 126, 206, 112, 12, 0], ['miami', 7, 34, 19, 0, 12, 11, 89, 151, 12, 108, 70, 0], ['michigan', 7, 39, 13, 0, 4, 5, 103, 131, 6, 81, 59, 0], ['michiganstate', 2, 8, 19, 1, 8, 1, 39, 200, 34, 110, 37, 0], ['middletennesseestate', 0, 0, 2, 4, 0, 0, 2, 83, 237, 81, 4, 0], ['minnesota', 0, 1, 14, 6, 0, 0, 14, 213, 84, 92, 19, 0], ['mississippistate', 3, 10, 18, 1, 1, 3, 40, 218, 58, 87, 30, 0], ['missouri', 3, 6, 21, 4, 4, 0, 28, 229, 34, 88, 33, 0], ['navy', 0, 0, 0, 0, 3, 0, 0, 13, 82, 352, 3, 0], ['nebraska', 0, 11, 23, 0, 11, 1, 58, 201, 27, 71, 41, 0], ['nevada', 0, 0, 4, 8, 2, 0, 2, 75, 213, 134, 14, 0], ['newmexico', 0, 0, 0, 3, 5, 0, 1, 78, 216, 120, 7, 0], ['newmexicostate', 0, 0, 0, 4, 1, 0, 1, 34, 214, 128, 5, 0], ['northcarolina', 1, 12, 24, 2, 5, 1, 45, 199, 36, 108, 40, 0], ['northcarolinastate', 1, 8, 23, 5, 5, 1, 16, 209, 47, 104, 39, 0], ['northernillinois', 0, 0, 2, 6, 2, 0, 0, 69, 235, 79, 8, 0], ['northtexas', 0, 0, 0, 0, 0, 0, 0, 67, 218, 135, 0, 0], ['northwestern', 0, 3, 9, 3, 1, 0, 4, 186, 66, 122, 14, 0], ['notredame', 7, 45, 12, 1, 1, 7, 99, 111, 8, 61, 64, 0], ['ohio', 0, 0, 0, 8, 1, 0, 0, 53, 220, 93, 8, 0], ['ohiostate', 10, 55, 20, 0, 14, 16, 92, 51, 3, 142, 94, 0], ['oklahoma', 4, 37, 23, 0, 10, 14, 101, 142, 9, 105, 68, 0], ['oklahomastate', 0, 8, 13, 3, 2, 1, 35, 250, 39, 97, 23, 0], ['olddominion', 0, 0, 1, 0, 1, 0, 0, 20, 86, 99, 2, 0], ['olemiss', 6, 11, 15, 2, 0, 4, 59, 217, 46, 74, 31, 0], ['oregon', 5, 11, 26, 5, 6, 3, 69, 162, 45, 92, 46, 0], ['oregonstate', 1, 2, 19, 5, 5, 0, 10, 223, 71, 118, 30, 0], ['pennstate', 5, 20, 28, 2, 9, 2, 64, 141, 15, 109, 59, 0], ['pittsburgh', 1, 10, 20, 3, 4, 1, 31, 207, 48, 78, 34, 0], ['purdue', 0, 1, 19, 3, 3, 0, 15, 204, 74, 78, 22, 0], ['rice', 0, 0, 1, 5, 2, 0, 0, 70, 167, 71, 8, 0], ['rutgers', 0, 3, 16, 3, 5, 3, 18, 176, 81, 113, 24, 0], ['sandiegostate', 0, 0, 10, 10, 6, 0, 9, 141, 149, 80, 22, 0], ['sanjosestate', 0, 0, 2, 6, 6, 0, 5, 66, 174, 82, 13, 0], ['smu', 0, 0, 6, 5, 3, 0, 2, 123, 198, 89, 14, 0], ['southalabama', 0, 0, 0, 0, 2, 0, 0, 29, 77, 109, 2, 0], ['southcarolina', 2, 13, 21, 4, 5, 2, 69, 205, 35, 79, 42, 0], ['southernmississippi', 0, 1, 6, 5, 1, 1, 6, 139, 181, 128, 12, 0], ['southflorida', 0, 1, 11, 5, 4, 0, 11, 166, 104, 119, 18, 0], ['stanford', 5, 16, 23, 3, 4, 0, 50, 138, 40, 53, 47, 0], ['syracuse', 0, 1, 6, 7, 9, 0, 9, 179, 96, 100, 21, 0], ['tcu', 0, 5, 18, 12, 4, 0, 17, 183, 66, 83, 34, 0], ['temple', 0, 0, 4, 11, 4, 0, 2, 101, 221, 113, 19, 0], ['tennessee', 4, 24, 13, 0, 2, 9, 99, 174, 7, 89, 40, 0], ['texas', 11, 30, 10, 0, 5, 11, 146, 106, 4, 85, 56, 0], ['texasam', 8, 12, 19, 2, 4, 5, 86, 183, 23, 83, 43, 0], ['texasstate', 0, 0, 0, 1, 2, 0, 0, 22, 64, 196, 3, 0], ['texastech', 0, 3, 18, 0, 1, 0, 29, 226, 47, 134, 18, 0], ['toledo', 0, 0, 4, 3, 2, 0, 2, 94, 196, 93, 9, 0], ['troy', 0, 0, 3, 4, 2, 0, 1, 76, 259, 122, 8, 0], ['tulane', 0, 0, 4, 5, 3, 0, 0, 103, 197, 66, 9, 0], ['tulsa', 0, 0, 3, 2, 0, 0, 3, 121, 183, 91, 5, 0], ['ucla', 4, 22, 15, 1, 5, 4, 89, 150, 21, 124, 42, 0], ['uconn', 0, 0, 10, 13, 2, 0, 1, 114, 155, 77, 23, 0], ['unlv', 0, 0, 2, 2, 1, 0, 2, 78, 230, 87, 5, 0], ['usc', 27, 39, 13, 0, 8, 20, 107, 79, 9, 89, 81, 0], ['utah', 0, 5, 21, 12, 4, 0, 12, 158, 74, 157, 38, 0], ['utahstate', 0, 0, 3, 9, 2, 0, 1, 50, 233, 115, 14, 0], ['utep', 0, 0, 1, 2, 5, 0, 0, 38, 171, 174, 8, 0], ['utsa', 0, 0, 0, 1, 1, 0, 0, 24, 52, 145, 2, 0], ['vanderbilt', 0, 2, 13, 3, 2, 0, 11, 172, 100, 55, 19, 0], ['virginia', 2, 7, 18, 1, 3, 3, 28, 202, 33, 111, 29, 0], ['virginiatech', 2, 13, 21, 2, 13, 1, 36, 205, 28, 84, 44, 0], ['wakeforest', 0, 0, 17, 2, 4, 0, 2, 161, 68, 89, 23, 0], ['washington', 1, 12, 22, 1, 1, 2, 46, 194, 46, 51, 34, 0], ['washingtonstate', 0, 0, 0, 0, 15, 0, 0, 0, 0, 414, 12, 0], ['westernkentucky', 0, 0, 1, 5, 2, 0, 0, 38, 95, 150, 7, 0], ['westernmichigan', 0, 0, 6, 4, 4, 0, 0, 103, 211, 104, 13, 0], ['westvirginia', 0, 7, 20, 5, 7, 2, 21, 220, 74, 100, 37, 0], ['wisconsin', 0, 8, 29, 3, 13, 2, 20, 190, 55, 95, 52, 0], ['wyoming', 0, 0, 2, 8, 1, 0, 1, 59, 222, 135, 11, 0]]\n"
     ]
    }
   ],
   "source": [
    "csv_data = []\n",
    "headers = ['college', 'FiveDrafted', 'FourDrafted', 'ThreeDrafted', 'TwoDrafted', 'OneDrafted', 'FiveUndrafted', 'FourUndrafted', 'ThreeUndrafted', 'TwoUndrafted', 'OneUndrafted', 'DraftedCountNFL', 'UndraftedCountNFL']\n",
    "csv_data.append(headers)\n",
    "for d in all_data:\n",
    "    school = []\n",
    "    school.append(d['College'])\n",
    "    \n",
    "    if 5 in d['DraftedCount'].keys():\n",
    "        school.append(d['DraftedCount'][5])\n",
    "    else:\n",
    "        school.append(0)\n",
    "        \n",
    "    if 4 in d['DraftedCount'].keys():\n",
    "        school.append(d['DraftedCount'][4])\n",
    "    else:\n",
    "        school.append(0)\n",
    "        \n",
    "    if 3 in d['DraftedCount'].keys():\n",
    "        school.append(d['DraftedCount'][3])\n",
    "    else:\n",
    "        school.append(0)\n",
    "        \n",
    "    if 2 in d['DraftedCount'].keys():\n",
    "        school.append(d['DraftedCount'][2])\n",
    "    else:\n",
    "        school.append(0)\n",
    "        \n",
    "    if 1 in d['DraftedCount'].keys():\n",
    "        school.append(d['DraftedCount'][1])\n",
    "    else:\n",
    "        school.append(0)\n",
    "        \n",
    "    if 5 in d['UndraftedCount'].keys():\n",
    "        school.append(d['UndraftedCount'][5])\n",
    "    else:\n",
    "        school.append(0)\n",
    "        \n",
    "    if 4 in d['UndraftedCount'].keys():\n",
    "        school.append(d['UndraftedCount'][4])\n",
    "    else:\n",
    "        school.append(0)\n",
    "        \n",
    "    if 3 in d['UndraftedCount'].keys():\n",
    "        school.append(d['UndraftedCount'][3])\n",
    "    else:\n",
    "        school.append(0)\n",
    "        \n",
    "    if 2 in d['UndraftedCount'].keys():\n",
    "        school.append(d['UndraftedCount'][2])\n",
    "    else:\n",
    "        school.append(0)\n",
    "        \n",
    "    if 1 in d['UndraftedCount'].keys():\n",
    "        school.append(d['UndraftedCount'][1])\n",
    "    else:\n",
    "        school.append(0)\n",
    "        \n",
    "    school.append(d['DraftedCountNFL'])\n",
    "    school.append(d['UndraftedCountNFL'])\n",
    "    csv_data.append(school)\n",
    "\n",
    "print(csv_data)\n",
    "\n",
    "\n"
   ]
  },
  {
   "cell_type": "code",
   "execution_count": 24,
   "id": "e6d9930d",
   "metadata": {},
   "outputs": [],
   "source": [
    "with open('sankey_output.csv', 'w', newline='') as csvfile:\n",
    "    writer = csv.writer(csvfile)\n",
    "    writer.writerows(csv_data)"
   ]
  },
  {
   "cell_type": "code",
   "execution_count": null,
   "id": "4207bb9f",
   "metadata": {},
   "outputs": [],
   "source": []
  }
 ],
 "metadata": {
  "kernelspec": {
   "display_name": "Python 3 (ipykernel)",
   "language": "python",
   "name": "python3"
  },
  "language_info": {
   "codemirror_mode": {
    "name": "ipython",
    "version": 3
   },
   "file_extension": ".py",
   "mimetype": "text/x-python",
   "name": "python",
   "nbconvert_exporter": "python",
   "pygments_lexer": "ipython3",
   "version": "3.8.12"
  }
 },
 "nbformat": 4,
 "nbformat_minor": 5
}
