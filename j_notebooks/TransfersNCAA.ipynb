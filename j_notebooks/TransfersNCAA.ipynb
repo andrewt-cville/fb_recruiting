{
 "cells": [
  {
   "cell_type": "code",
   "execution_count": null,
   "id": "ddc56a97",
   "metadata": {},
   "outputs": [],
   "source": [
    "import json\n",
    "import core_constants as cc\n",
    "import functions as fx\n",
    "import pandas as pd\n",
    "import sqlite3 as sql\n",
    "import recordlinkage\n",
    "import queries"
   ]
  },
  {
   "cell_type": "markdown",
   "id": "8350a902",
   "metadata": {},
   "source": [
    "## Building out the Dataframes"
   ]
  },
  {
   "cell_type": "code",
   "execution_count": null,
   "id": "3e74a98f",
   "metadata": {},
   "outputs": [],
   "source": [
    "limit = True\n",
    "ranked = True\n",
    "query = queries.get_query_all247(limit, ranked)\n",
    "df_247 = (fx.connDBAndReturnDF(query)).set_index('IDYR')\n",
    "df_247.index.name = '247_IDYR'\n",
    "df_247"
   ]
  },
  {
   "cell_type": "code",
   "execution_count": null,
   "id": "20d33762",
   "metadata": {},
   "outputs": [],
   "source": [
    "fuzzy = False\n",
    "query = queries.get_query_UnlinkedNCAA(fuzzy)\n",
    "df_ncaa = (fx.connDBAndReturnDF(query)).set_index('ID')\n",
    "df_ncaa.index.name = 'NCAA_ID'\n",
    "df_ncaa"
   ]
  },
  {
   "cell_type": "code",
   "execution_count": null,
   "id": "81454b85",
   "metadata": {},
   "outputs": [],
   "source": [
    "indexer = recordlinkage.Index()\n",
    "indexer = recordlinkage.BlockIndex(on=['KeyPositionGroup'])\n"
   ]
  },
  {
   "cell_type": "code",
   "execution_count": null,
   "id": "6ee0870b",
   "metadata": {},
   "outputs": [],
   "source": [
    "pairs = indexer.index(df_ncaa, df_247)"
   ]
  },
  {
   "cell_type": "code",
   "execution_count": null,
   "id": "fd228f06",
   "metadata": {},
   "outputs": [],
   "source": [
    "from functions import YearOther\n",
    "\n",
    "sumFields = []\n",
    "c = recordlinkage.Compare()\n",
    "c.string('PlayerName', 'PlayerName', method='damerau_levenshtein', label='PlayerName')\n",
    "sumFields.append('PlayerName')\n",
    "c.exact('StandardizedPosition', 'StandardizedPosition', label='StandardizedPosition')\n",
    "sumFields.append('StandardizedPosition')\n",
    "c.exact('KeyPositionGroup', 'KeyPositionGroup', label='KeyPositionGroup')\n",
    "sumFields.append('KeyPositionGroup')\n",
    "c.add(YearOther('Year', 'Year', label='Year'))\n",
    "sumFields.append('Year')\n"
   ]
  },
  {
   "cell_type": "code",
   "execution_count": null,
   "id": "57a86b44",
   "metadata": {},
   "outputs": [],
   "source": [
    "features = c.compute(pairs, df_ncaa, df_247)"
   ]
  },
  {
   "cell_type": "code",
   "execution_count": null,
   "id": "5c84d2c8",
   "metadata": {},
   "outputs": [],
   "source": [
    "sum = 0\n",
    "for field in sumFields:\n",
    "    sum = sum + features[field]\n",
    "\n",
    "features['sum'] = sum / len(sumFields)\n",
    "\n",
    "features = features[features['Year'] == 1.0]\n",
    "\n",
    "features"
   ]
  },
  {
   "cell_type": "code",
   "execution_count": null,
   "id": "967c7dd6",
   "metadata": {},
   "outputs": [],
   "source": [
    "features.insert(0, 'sourceID', features.index.get_level_values(0))\n",
    "features.insert(1, 'targetID', features.index.get_level_values(1))\n",
    "\n",
    "filteredList = []\n",
    "for idx, data in features.groupby(level=0):\n",
    "    data = data.loc[data['sum'].idxmax()]\n",
    "    if (data['sum'] > .96):\n",
    "        filteredList.append(data)\n",
    "dfFinal = pd.DataFrame()\n",
    "dfFinal = dfFinal.append(filteredList)\n",
    "dfFinal.to_csv(\"resultsNCAATransfer.csv\")"
   ]
  },
  {
   "cell_type": "code",
   "execution_count": null,
   "id": "a18cd9fa",
   "metadata": {},
   "outputs": [],
   "source": [
    "links = dfFinal.values.tolist()\n",
    "recordCount = 0\n",
    "\n",
    "for record in links:\n",
    "    values = [record[0], record[1], 5, 3, record[5], 1]\n",
    "    query = '''INSERT INTO RecordLinks(MasterID, TargetID, KeyDataSet, KeyLinkType, LinkConfidence, Transfer)\n",
    "        VALUES (?,?,?,?,?,?)'''\n",
    "    \n",
    "    try:\n",
    "        conn = sql.connect(cc.databaseName)\n",
    "        c = conn.cursor()\n",
    "\n",
    "        c.execute(query, values)\n",
    "        conn.commit()\n",
    "        recordCount = recordCount + 1\n",
    "    except Exception as e:\n",
    "        print('Database Commit Failure')\n",
    "        print(e)\n",
    "\n",
    "print('Database write of ' + str(recordCount) + ' records successful')\n",
    "\n"
   ]
  },
  {
   "cell_type": "markdown",
   "id": "ff499b65",
   "metadata": {},
   "source": [
    "## Below is to create and save annotations"
   ]
  },
  {
   "cell_type": "code",
   "execution_count": null,
   "id": "70bf70b6",
   "metadata": {},
   "outputs": [],
   "source": [
    "fx.create_AnnotationFile(dfFinal, df_ncaa, df_247)"
   ]
  },
  {
   "cell_type": "code",
   "execution_count": null,
   "id": "352249da",
   "metadata": {},
   "outputs": [],
   "source": [
    "filename = \"..//Annotations//Results/result.json\"\n",
    "keydataset = 5\n",
    "targetkeydataset = 1\n",
    "transfer = 1\n",
    "\n",
    "fx.save_Annotations(filename, keydataset, targetkeydataset, transfer)"
   ]
  },
  {
   "cell_type": "code",
   "execution_count": null,
   "id": "c2d3dd38",
   "metadata": {},
   "outputs": [],
   "source": []
  }
 ],
 "metadata": {
  "kernelspec": {
   "display_name": "Python 3 (ipykernel)",
   "language": "python",
   "name": "python3"
  },
  "language_info": {
   "codemirror_mode": {
    "name": "ipython",
    "version": 3
   },
   "file_extension": ".py",
   "mimetype": "text/x-python",
   "name": "python",
   "nbconvert_exporter": "python",
   "pygments_lexer": "ipython3",
   "version": "3.8.12"
  }
 },
 "nbformat": 4,
 "nbformat_minor": 5
}
