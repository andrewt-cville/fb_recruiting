{
 "cells": [
  {
   "cell_type": "code",
   "execution_count": null,
   "id": "ddc56a97",
   "metadata": {},
   "outputs": [],
   "source": [
    "import json\n",
    "import core_constants as cc\n",
    "import functions as fx\n",
    "import pandas as pd\n",
    "import sqlite3 as sql\n",
    "import recordlinkage"
   ]
  },
  {
   "cell_type": "code",
   "execution_count": null,
   "id": "3e74a98f",
   "metadata": {},
   "outputs": [],
   "source": [
    "SQL = '''SELECT * from Transfers247'''\n",
    "df_247 = (fx.connDBAndReturnDF(SQL)).set_index('IDYR')\n",
    "df_247.index.name = '247_IDYR'\n",
    "df_247"
   ]
  },
  {
   "cell_type": "code",
   "execution_count": null,
   "id": "20d33762",
   "metadata": {},
   "outputs": [],
   "source": [
    "SQL = '''SELECT * from UnlinkedNCAA'''\n",
    "df_ncaa = (fx.connDBAndReturnDF(SQL)).set_index('ID')\n",
    "df_ncaa.index.name = 'NCAA_ID'\n",
    "df_ncaa"
   ]
  },
  {
   "cell_type": "code",
   "execution_count": null,
   "id": "2eee2f9a",
   "metadata": {},
   "outputs": [],
   "source": [
    "from recordlinkage.base import BaseIndexAlgorithm\n",
    "\n",
    "class BlockNCAA(BaseIndexAlgorithm):\n",
    "    \"\"\"Make candidate record pairs that agree on one or more variables.\n",
    "    Returns all record pairs that agree on the given variable(s). This\n",
    "    method is known as *blocking*. Blocking is an effective way to make a\n",
    "    subset of the record space (A * B).\n",
    "    Parameters\n",
    "    ----------\n",
    "    left_on : label, optional\n",
    "        A column name or a list of column names of dataframe A. These\n",
    "        columns are used to block on.\n",
    "    right_on : label, optional\n",
    "        A column name or a list of column names of dataframe B. These\n",
    "        columns are used to block on. If 'right_on' is None, the `left_on`\n",
    "        value is used. Default None.\n",
    "    **kwargs :\n",
    "        Additional keyword arguments to pass to\n",
    "        :class:`recordlinkage.base.BaseIndexAlgorithm`.\n",
    "    Examples\n",
    "    --------\n",
    "    In the following example, the record pairs are made for two historical\n",
    "    datasets with census data. The datasets are named ``census_data_1980``\n",
    "    and ``census_data_1990``.\n",
    "    >>> indexer = recordlinkage.BlockIndex(on='first_name')\n",
    "    >>> indexer.index(census_data_1980, census_data_1990)\n",
    "    \"\"\"\n",
    "\n",
    "    def __init__(self, left_on=None, right_on=None, **kwargs):\n",
    "        on = kwargs.pop('on', None)\n",
    "        super(Block, self).__init__(**kwargs)\n",
    "\n",
    "        # variables to block on\n",
    "        self.left_on = left_on\n",
    "        self.right_on = right_on\n",
    "\n",
    "        if on is not None:\n",
    "            warnings.warn(\n",
    "                \"The argument 'on' is deprecated. Use 'left_on=...' and \"\n",
    "                \"'right_on=None' to simulate the behaviour of 'on'.\",\n",
    "                DeprecationWarning,\n",
    "                stacklevel=2)\n",
    "            self.left_on, self.right_on = on, on\n",
    "\n",
    "    def __repr__(self):\n",
    "\n",
    "        class_name = self.__class__.__name__\n",
    "        left_on, right_on = self._get_left_and_right_on()\n",
    "\n",
    "        return \"<{} left_on={!r}, right_on={!r}>\".format(\n",
    "            class_name, left_on, right_on)\n",
    "\n",
    "    def _get_left_and_right_on(self):\n",
    "\n",
    "        if self.right_on is None:\n",
    "            return (self.left_on, self.left_on)\n",
    "        else:\n",
    "            return (self.left_on, self.right_on)\n",
    "\n",
    "    def _link_index(self, df_a, df_b):\n",
    "\n",
    "        left_on, right_on = self._get_left_and_right_on()\n",
    "        left_on = listify(left_on)\n",
    "        right_on = listify(right_on)\n",
    "\n",
    "        blocking_keys = [\"blocking_key_%d\" % i for i, v in enumerate(left_on)]\n",
    "\n",
    "        # make a dataset for the data on the left\n",
    "        # 1. make a dataframe\n",
    "        # 2. rename columns\n",
    "        # 3. add index col\n",
    "        # 4. drop na (last step to presever index)\n",
    "        data_left = pandas.DataFrame(df_a[left_on], copy=False)\n",
    "        data_left.columns = blocking_keys\n",
    "        data_left['index_x'] = numpy.arange(len(df_a))\n",
    "        data_left.dropna(axis=0, how='any', subset=blocking_keys, inplace=True)\n",
    "\n",
    "        # make a dataset for the data on the right\n",
    "        data_right = pandas.DataFrame(df_b[right_on], copy=False)\n",
    "        data_right.columns = blocking_keys\n",
    "        data_right['index_y'] = numpy.arange(len(df_b))\n",
    "        data_right.dropna(axis=0,\n",
    "                          how='any',\n",
    "                          subset=blocking_keys,\n",
    "                          inplace=True)\n",
    "\n",
    "        # merge the dataframes\n",
    "        pairs_df = data_left.merge(data_right, how='inner', on=blocking_keys)\n",
    "\n",
    "        return pandas.MultiIndex(\n",
    "            levels=[df_a.index.values, df_b.index.values],\n",
    "            codes=[pairs_df['index_x'].values, pairs_df['index_y'].values],\n",
    "            verify_integrity=False)"
   ]
  },
  {
   "cell_type": "code",
   "execution_count": null,
   "id": "a642e903",
   "metadata": {},
   "outputs": [],
   "source": [
    "from recordlinkage.base import BaseCompareFeature\n",
    "\n",
    "class Year(BaseCompareFeature):\n",
    "\n",
    "    def _compute_vectorized(self, s1, s2):\n",
    "        \"\"\"Compare years\n",
    "\n",
    "        If the target year is within 5, but (probably not equal) then return true\n",
    "        \"\"\"\n",
    "        sim = ((s2 == s1) | (s2 == s1[0] + 1) | (s2 == s1[0] + 2 | (s2 == s1[0] + 3 | (s2 == s1[0] + 4)))).astype(float)\n",
    "\n",
    "        return sim"
   ]
  },
  {
   "cell_type": "code",
   "execution_count": null,
   "id": "81454b85",
   "metadata": {},
   "outputs": [],
   "source": [
    "indexer = recordlinkage.Index()\n",
    "indexer = recordlinkage.BlockIndex(on=['KeyPositionGroup'])\n"
   ]
  },
  {
   "cell_type": "code",
   "execution_count": null,
   "id": "6ee0870b",
   "metadata": {},
   "outputs": [],
   "source": [
    "pairs = indexer.index(df_247, df_ncaa)"
   ]
  },
  {
   "cell_type": "code",
   "execution_count": null,
   "id": "fd228f06",
   "metadata": {},
   "outputs": [],
   "source": [
    "sumFields = []\n",
    "c = recordlinkage.Compare()\n",
    "c.string('PlayerName', 'PlayerName', method='damerau_levenshtein', label='PlayerName')\n",
    "sumFields.append('PlayerName')\n",
    "c.exact('StandardizedPosition', 'StandardizedPosition', label='StandardizedPosition')\n",
    "sumFields.append('StandardizedPosition')\n",
    "c.exact('KeyPositionGroup', 'KeyPositionGroup', label='KeyPositionGroup')\n",
    "sumFields.append('KeyPositionGroup')\n",
    "c.add(Year('Year', 'Year', label='Year'))\n",
    "sumFields.append('Year')\n",
    "\n",
    "\n"
   ]
  },
  {
   "cell_type": "code",
   "execution_count": null,
   "id": "57a86b44",
   "metadata": {},
   "outputs": [],
   "source": [
    "features = c.compute(pairs, df_247, df_ncaa)"
   ]
  },
  {
   "cell_type": "code",
   "execution_count": null,
   "id": "5c84d2c8",
   "metadata": {},
   "outputs": [],
   "source": [
    "sum = 0\n",
    "for field in sumFields:\n",
    "    sum = sum + features[field]\n",
    "\n",
    "features['sum'] = sum / len(sumFields)\n",
    "\n",
    "features = features[features['Year'] == 1.0]\n",
    "\n",
    "features"
   ]
  },
  {
   "cell_type": "code",
   "execution_count": null,
   "id": "967c7dd6",
   "metadata": {},
   "outputs": [],
   "source": []
  }
 ],
 "metadata": {
  "kernelspec": {
   "display_name": "Python 3 (ipykernel)",
   "language": "python",
   "name": "python3"
  },
  "language_info": {
   "codemirror_mode": {
    "name": "ipython",
    "version": 3
   },
   "file_extension": ".py",
   "mimetype": "text/x-python",
   "name": "python",
   "nbconvert_exporter": "python",
   "pygments_lexer": "ipython3",
   "version": "3.8.12"
  }
 },
 "nbformat": 4,
 "nbformat_minor": 5
}
