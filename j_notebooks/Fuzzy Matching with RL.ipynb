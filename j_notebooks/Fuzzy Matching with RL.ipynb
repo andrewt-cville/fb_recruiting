{
 "cells": [
  {
   "cell_type": "markdown",
   "metadata": {},
   "source": [
    "# Fuzzy Matching with RL - 247 & Rivals\n",
    "\n",
    "> Leveraging the RL library to determine approximate matching over a range of fields using various string methods methods.  This specifically focuses on 247 & Rivals first."
   ]
  },
  {
   "cell_type": "code",
   "execution_count": 1,
   "metadata": {},
   "outputs": [],
   "source": [
    "import json\n",
    "import pandas\n",
    "import time\n",
    "import os\n",
    "import recordlinkage\n",
    "import csv\n",
    "import core_constants as cc\n",
    "import functions as fx\n",
    "import sqlite3 as sql\n",
    "\n",
    "#not currently using jellyfish\n",
    "import jellyfish as jf"
   ]
  },
  {
   "cell_type": "markdown",
   "metadata": {},
   "source": [
    "## Load and Merge Source Files Then Create a List of Dicts for each Dataset\n",
    "> This was originally set up for all of the keys in the sourcefiles.json config.  Since this file is currently only going to serve 247 & Rivals, I've hardcoded the keys to fetch"
   ]
  },
  {
   "cell_type": "code",
   "execution_count": 2,
   "metadata": {
    "scrolled": false
   },
   "outputs": [
    {
     "data": {
      "text/html": [
       "<div>\n",
       "<style scoped>\n",
       "    .dataframe tbody tr th:only-of-type {\n",
       "        vertical-align: middle;\n",
       "    }\n",
       "\n",
       "    .dataframe tbody tr th {\n",
       "        vertical-align: top;\n",
       "    }\n",
       "\n",
       "    .dataframe thead th {\n",
       "        text-align: right;\n",
       "    }\n",
       "</style>\n",
       "<table border=\"1\" class=\"dataframe\">\n",
       "  <thead>\n",
       "    <tr style=\"text-align: right;\">\n",
       "      <th></th>\n",
       "      <th>sourceID</th>\n",
       "      <th>targetID</th>\n",
       "      <th>ID</th>\n",
       "      <th>PlayerName</th>\n",
       "      <th>Position</th>\n",
       "      <th>sum</th>\n",
       "    </tr>\n",
       "  </thead>\n",
       "  <tbody>\n",
       "    <tr>\n",
       "      <th>(aaroncurry_wakeforest, brandonterry_wakeforest_2010)</th>\n",
       "      <td>aaroncurry_wakeforest</td>\n",
       "      <td>brandonterry_wakeforest_2010</td>\n",
       "      <td>0.739130</td>\n",
       "      <td>0.500000</td>\n",
       "      <td>0.0</td>\n",
       "      <td>0.413043</td>\n",
       "    </tr>\n",
       "    <tr>\n",
       "      <th>(aaronlynch_southflorida, aaronharris_southflorida_2006)</th>\n",
       "      <td>aaronlynch_southflorida</td>\n",
       "      <td>aaronharris_southflorida_2006</td>\n",
       "      <td>0.750000</td>\n",
       "      <td>0.454545</td>\n",
       "      <td>0.0</td>\n",
       "      <td>0.401515</td>\n",
       "    </tr>\n",
       "    <tr>\n",
       "      <th>(aaronmerz_california, aaronrodgers_california_2003)</th>\n",
       "      <td>aaronmerz_california</td>\n",
       "      <td>aaronrodgers_california_2003</td>\n",
       "      <td>0.782609</td>\n",
       "      <td>0.583333</td>\n",
       "      <td>0.0</td>\n",
       "      <td>0.455314</td>\n",
       "    </tr>\n",
       "    <tr>\n",
       "      <th>(aaronripkowski_oklahoma, aaronfranklin_oklahoma_2010)</th>\n",
       "      <td>aaronripkowski_oklahoma</td>\n",
       "      <td>aaronfranklin_oklahoma_2010</td>\n",
       "      <td>0.652174</td>\n",
       "      <td>0.428571</td>\n",
       "      <td>0.0</td>\n",
       "      <td>0.360248</td>\n",
       "    </tr>\n",
       "    <tr>\n",
       "      <th>(abdulhodge_iowa, akrumwadley_iowa_2013)</th>\n",
       "      <td>abdulhodge_iowa</td>\n",
       "      <td>akrumwadley_iowa_2013</td>\n",
       "      <td>0.562500</td>\n",
       "      <td>0.363636</td>\n",
       "      <td>0.0</td>\n",
       "      <td>0.308712</td>\n",
       "    </tr>\n",
       "  </tbody>\n",
       "</table>\n",
       "</div>"
      ],
      "text/plain": [
       "                                                                   sourceID  \\\n",
       "(aaroncurry_wakeforest, brandonterry_wakeforest...    aaroncurry_wakeforest   \n",
       "(aaronlynch_southflorida, aaronharris_southflor...  aaronlynch_southflorida   \n",
       "(aaronmerz_california, aaronrodgers_california_...     aaronmerz_california   \n",
       "(aaronripkowski_oklahoma, aaronfranklin_oklahom...  aaronripkowski_oklahoma   \n",
       "(abdulhodge_iowa, akrumwadley_iowa_2013)                    abdulhodge_iowa   \n",
       "\n",
       "                                                                         targetID  \\\n",
       "(aaroncurry_wakeforest, brandonterry_wakeforest...   brandonterry_wakeforest_2010   \n",
       "(aaronlynch_southflorida, aaronharris_southflor...  aaronharris_southflorida_2006   \n",
       "(aaronmerz_california, aaronrodgers_california_...   aaronrodgers_california_2003   \n",
       "(aaronripkowski_oklahoma, aaronfranklin_oklahom...    aaronfranklin_oklahoma_2010   \n",
       "(abdulhodge_iowa, akrumwadley_iowa_2013)                    akrumwadley_iowa_2013   \n",
       "\n",
       "                                                          ID  PlayerName  \\\n",
       "(aaroncurry_wakeforest, brandonterry_wakeforest...  0.739130    0.500000   \n",
       "(aaronlynch_southflorida, aaronharris_southflor...  0.750000    0.454545   \n",
       "(aaronmerz_california, aaronrodgers_california_...  0.782609    0.583333   \n",
       "(aaronripkowski_oklahoma, aaronfranklin_oklahom...  0.652174    0.428571   \n",
       "(abdulhodge_iowa, akrumwadley_iowa_2013)            0.562500    0.363636   \n",
       "\n",
       "                                                    Position       sum  \n",
       "(aaroncurry_wakeforest, brandonterry_wakeforest...       0.0  0.413043  \n",
       "(aaronlynch_southflorida, aaronharris_southflor...       0.0  0.401515  \n",
       "(aaronmerz_california, aaronrodgers_california_...       0.0  0.455314  \n",
       "(aaronripkowski_oklahoma, aaronfranklin_oklahom...       0.0  0.360248  \n",
       "(abdulhodge_iowa, akrumwadley_iowa_2013)                 0.0  0.308712  "
      ]
     },
     "execution_count": 2,
     "metadata": {},
     "output_type": "execute_result"
    }
   ],
   "source": [
    "dfFinal = fx.doFuzzyMatching('NFL', 'Sports247')\n",
    "dfFinal.head()"
   ]
  },
  {
   "cell_type": "code",
   "execution_count": 3,
   "metadata": {},
   "outputs": [
    {
     "data": {
      "text/html": [
       "<div>\n",
       "<style scoped>\n",
       "    .dataframe tbody tr th:only-of-type {\n",
       "        vertical-align: middle;\n",
       "    }\n",
       "\n",
       "    .dataframe tbody tr th {\n",
       "        vertical-align: top;\n",
       "    }\n",
       "\n",
       "    .dataframe thead th {\n",
       "        text-align: right;\n",
       "    }\n",
       "</style>\n",
       "<table border=\"1\" class=\"dataframe\">\n",
       "  <thead>\n",
       "    <tr style=\"text-align: right;\">\n",
       "      <th></th>\n",
       "      <th>sourceID</th>\n",
       "      <th>targetID</th>\n",
       "      <th>ID</th>\n",
       "      <th>PlayerName</th>\n",
       "      <th>Position</th>\n",
       "      <th>sum</th>\n",
       "    </tr>\n",
       "  </thead>\n",
       "  <tbody>\n",
       "    <tr>\n",
       "      <th>(aaroncurry_wakeforest, brandonterry_wakeforest_2010)</th>\n",
       "      <td>aaroncurry_wakeforest</td>\n",
       "      <td>brandonterry_wakeforest_2010</td>\n",
       "      <td>0.739130</td>\n",
       "      <td>0.500000</td>\n",
       "      <td>0.0</td>\n",
       "      <td>0.413043</td>\n",
       "    </tr>\n",
       "    <tr>\n",
       "      <th>(aaronlynch_southflorida, aaronharris_southflorida_2006)</th>\n",
       "      <td>aaronlynch_southflorida</td>\n",
       "      <td>aaronharris_southflorida_2006</td>\n",
       "      <td>0.750000</td>\n",
       "      <td>0.454545</td>\n",
       "      <td>0.0</td>\n",
       "      <td>0.401515</td>\n",
       "    </tr>\n",
       "    <tr>\n",
       "      <th>(aaronmerz_california, aaronrodgers_california_2003)</th>\n",
       "      <td>aaronmerz_california</td>\n",
       "      <td>aaronrodgers_california_2003</td>\n",
       "      <td>0.782609</td>\n",
       "      <td>0.583333</td>\n",
       "      <td>0.0</td>\n",
       "      <td>0.455314</td>\n",
       "    </tr>\n",
       "    <tr>\n",
       "      <th>(aaronripkowski_oklahoma, aaronfranklin_oklahoma_2010)</th>\n",
       "      <td>aaronripkowski_oklahoma</td>\n",
       "      <td>aaronfranklin_oklahoma_2010</td>\n",
       "      <td>0.652174</td>\n",
       "      <td>0.428571</td>\n",
       "      <td>0.0</td>\n",
       "      <td>0.360248</td>\n",
       "    </tr>\n",
       "    <tr>\n",
       "      <th>(abdulhodge_iowa, akrumwadley_iowa_2013)</th>\n",
       "      <td>abdulhodge_iowa</td>\n",
       "      <td>akrumwadley_iowa_2013</td>\n",
       "      <td>0.562500</td>\n",
       "      <td>0.363636</td>\n",
       "      <td>0.0</td>\n",
       "      <td>0.308712</td>\n",
       "    </tr>\n",
       "  </tbody>\n",
       "</table>\n",
       "</div>"
      ],
      "text/plain": [
       "                                                                   sourceID  \\\n",
       "(aaroncurry_wakeforest, brandonterry_wakeforest...    aaroncurry_wakeforest   \n",
       "(aaronlynch_southflorida, aaronharris_southflor...  aaronlynch_southflorida   \n",
       "(aaronmerz_california, aaronrodgers_california_...     aaronmerz_california   \n",
       "(aaronripkowski_oklahoma, aaronfranklin_oklahom...  aaronripkowski_oklahoma   \n",
       "(abdulhodge_iowa, akrumwadley_iowa_2013)                    abdulhodge_iowa   \n",
       "\n",
       "                                                                         targetID  \\\n",
       "(aaroncurry_wakeforest, brandonterry_wakeforest...   brandonterry_wakeforest_2010   \n",
       "(aaronlynch_southflorida, aaronharris_southflor...  aaronharris_southflorida_2006   \n",
       "(aaronmerz_california, aaronrodgers_california_...   aaronrodgers_california_2003   \n",
       "(aaronripkowski_oklahoma, aaronfranklin_oklahom...    aaronfranklin_oklahoma_2010   \n",
       "(abdulhodge_iowa, akrumwadley_iowa_2013)                    akrumwadley_iowa_2013   \n",
       "\n",
       "                                                          ID  PlayerName  \\\n",
       "(aaroncurry_wakeforest, brandonterry_wakeforest...  0.739130    0.500000   \n",
       "(aaronlynch_southflorida, aaronharris_southflor...  0.750000    0.454545   \n",
       "(aaronmerz_california, aaronrodgers_california_...  0.782609    0.583333   \n",
       "(aaronripkowski_oklahoma, aaronfranklin_oklahom...  0.652174    0.428571   \n",
       "(abdulhodge_iowa, akrumwadley_iowa_2013)            0.562500    0.363636   \n",
       "\n",
       "                                                    Position       sum  \n",
       "(aaroncurry_wakeforest, brandonterry_wakeforest...       0.0  0.413043  \n",
       "(aaronlynch_southflorida, aaronharris_southflor...       0.0  0.401515  \n",
       "(aaronmerz_california, aaronrodgers_california_...       0.0  0.455314  \n",
       "(aaronripkowski_oklahoma, aaronfranklin_oklahom...       0.0  0.360248  \n",
       "(abdulhodge_iowa, akrumwadley_iowa_2013)                 0.0  0.308712  "
      ]
     },
     "execution_count": 3,
     "metadata": {},
     "output_type": "execute_result"
    }
   ],
   "source": [
    "conn = sql.connect(cc.databaseName) \n",
    "          \n",
    "sql_query = pandas.read_sql_query ('''\n",
    "                               SELECT\n",
    "                               *\n",
    "                               FROM SourcedPlayers\n",
    "                               WHERE KeyDataSet = 1\n",
    "                               ''', conn)\n",
    "\n",
    "df_247 = pandas.DataFrame(sql_query, columns = ['IDYR', 'College', 'Year'])\n",
    "df_247.set_index('IDYR', append=False, inplace=True)\n",
    "sql_query = pandas.read_sql_query ('''\n",
    "                               SELECT\n",
    "                               *\n",
    "                               FROM SourcedPlayers\n",
    "                               WHERE KeyDataSet = 3\n",
    "                               ''', conn)\n",
    "\n",
    "df_NFL = pandas.DataFrame(sql_query, columns = ['ID', 'College', 'Year'])\n",
    "df_NFL.set_index('ID', append=False, inplace=True)\n",
    "\n",
    "#dfFinal.reset_index(drop=True, inplace=True)\n",
    "#dfFinal.set_index(['sourceID', 'targetID'], append=False, inplace=True)\n",
    "\n",
    "dfFinal.head()"
   ]
  },
  {
   "cell_type": "code",
   "execution_count": 4,
   "metadata": {},
   "outputs": [
    {
     "data": {
      "text/plain": [
       "MultiIndex([(         'aaroncurry_wakeforest', ...),\n",
       "            (       'aaronlynch_southflorida', ...),\n",
       "            (          'aaronmerz_california', ...),\n",
       "            (       'aaronripkowski_oklahoma', ...),\n",
       "            (               'abdulhodge_iowa', ...),\n",
       "            (      'adamjennings_fresnostate', ...),\n",
       "            (     'adamkieft_centralmichigan', ...),\n",
       "            (               'adamseward_unlv', ...),\n",
       "            (             'adamsnyder_oregon', ...),\n",
       "            (            'adamterry_syracuse', ...),\n",
       "            ...\n",
       "            (       'williereid_floridastate', ...),\n",
       "            (   'willmontgomery_virginiatech', ...),\n",
       "            (       'willsutton_arizonastate', ...),\n",
       "            (           'willsvitek_stanford', ...),\n",
       "            (  'willwhitticker_michiganstate', ...),\n",
       "            ('xaviercrawford_centralmichigan', ...),\n",
       "            (         'zachdiles_kansasstate', ...),\n",
       "            (       'zachmiller_arizonastate', ...),\n",
       "            (       'zachstrief_northwestern', ...),\n",
       "            (        'zackarybowman_nebraska', ...)],\n",
       "           names=['sourceID', 'targetID', 'ID', 'PlayerName', 'Position', 'sum'], length=703)"
      ]
     },
     "execution_count": 4,
     "metadata": {},
     "output_type": "execute_result"
    }
   ],
   "source": [
    "miFinal = pandas.MultiIndex.from_frame(dfFinal)\n",
    "miFinal"
   ]
  },
  {
   "cell_type": "code",
   "execution_count": 5,
   "metadata": {},
   "outputs": [],
   "source": [
    "recordlinkage.write_annotation_file(\n",
    "    \"annotation_nfl.json\",\n",
    "    miFinal[0:1100],\n",
    "    df_NFL,\n",
    "    df_247,\n",
    "    dataset_a_name=\"NFL\",\n",
    "    dataset_b_name=\"Master\"\n",
    ")"
   ]
  },
  {
   "cell_type": "code",
   "execution_count": null,
   "metadata": {},
   "outputs": [],
   "source": [
    "dfFinal.head()"
   ]
  },
  {
   "cell_type": "markdown",
   "metadata": {},
   "source": [
    "## Create Blockers\n",
    "> I swear this isn't working.  And honestly I guess I'm ok with it not working since I'm doing string operations later on this script.  This used to take longer than 20 minutes but has been fixed."
   ]
  },
  {
   "cell_type": "code",
   "execution_count": null,
   "metadata": {},
   "outputs": [],
   "source": [
    "indexer = recordlinkage.BlockIndex(on=['College', 'Year'])\n",
    "candidate_links = indexer.index(sports247, rivals)"
   ]
  },
  {
   "cell_type": "markdown",
   "metadata": {},
   "source": [
    "## Define Features & Generate Comparison Vector Set\n",
    "\n",
    "> These are all pretty straightforward.  The toughest one to assess is position - since the services don't always categorize players in the same way or have the same abbreviation for a single position.  Since this is often only a 2 or 3 letter string, I decided to do an exact match."
   ]
  },
  {
   "cell_type": "code",
   "execution_count": null,
   "metadata": {},
   "outputs": [],
   "source": [
    "c = recordlinkage.Compare()\n",
    "\n",
    "c.exact('IDYR', 'IDYR', label='IDYR')\n",
    "c.string('PlayerName', 'PlayerName', method='damerau_levenshtein', label='PlayerName')\n",
    "c.string('City', 'City', label='City')\n",
    "c.exact('State', 'State', label='State')\n",
    "c.string('HighSchool', 'HighSchool', label='HighSchool')\n",
    "c.exact('Position', 'Position', label='Position')\n",
    "\n",
    "try:\n",
    "    features = c.compute(candidate_links, sports247, rivals)\n",
    "except KeyError as e:\n",
    "    print(e)"
   ]
  },
  {
   "cell_type": "markdown",
   "metadata": {},
   "source": [
    "## Create Sum\n",
    "> Final value will be between 0 and 1.  Sum represents a %confidence% level during fuzzy matching. Since an exact match on ID dictates a 100% confident match, I've removed that column from the sum."
   ]
  },
  {
   "cell_type": "code",
   "execution_count": null,
   "metadata": {},
   "outputs": [],
   "source": [
    "features['Sum'] = (features['PlayerName'] + features['City'] + features['State'] + features['HighSchool']  + features['Position'])/5"
   ]
  },
  {
   "cell_type": "code",
   "execution_count": null,
   "metadata": {},
   "outputs": [],
   "source": [
    "features.head()"
   ]
  },
  {
   "cell_type": "markdown",
   "metadata": {},
   "source": [
    "## Filter by Threshold\n",
    "\n",
    "> Agreed upon confidence level for 247 & Rivals is .6943.  This takes longer than expected.  "
   ]
  },
  {
   "cell_type": "code",
   "execution_count": null,
   "metadata": {},
   "outputs": [],
   "source": [
    "count = 0\n",
    "filteredList = []\n",
    "noMatch = []\n",
    "\n",
    "features['sports247_IDYR'] = features.index.get_level_values(0)\n",
    "features['rivals_IDYR'] = features.index.get_level_values(1)\n",
    "\n",
    "for idx, data in features.groupby(level=0):\n",
    "    data = data.loc[data['Sum'].idxmax()]\n",
    "    if (data['IDYR'] == 1):\n",
    "        filteredList.append(data)\n",
    "    elif (data['IDYR'] != 1 and data['Sum'] > .6943):\n",
    "        filteredList.append(data)\n",
    "    else:\n",
    "        noMatch.append(data)"
   ]
  },
  {
   "cell_type": "markdown",
   "metadata": {},
   "source": [
    "## Convert Series to Dataframe\n",
    "> output of the above is a Pandas Series and needs to be pushed to a dataframe to be accessible"
   ]
  },
  {
   "cell_type": "code",
   "execution_count": null,
   "metadata": {},
   "outputs": [],
   "source": [
    "dfFinal = pandas.DataFrame()\n",
    "dfFinal = dfFinal.append(filteredList)\n",
    "dfFinal.sort_values(by='SUM')"
   ]
  },
  {
   "cell_type": "code",
   "execution_count": null,
   "metadata": {},
   "outputs": [],
   "source": [
    "dict_dfFinal = dfFinal.to_dict('records')"
   ]
  },
  {
   "cell_type": "code",
   "execution_count": null,
   "metadata": {},
   "outputs": [],
   "source": [
    "dict_dfFinal[0]"
   ]
  },
  {
   "cell_type": "code",
   "execution_count": null,
   "metadata": {},
   "outputs": [],
   "source": [
    "for record in dict_dfFinal:\n",
    "    Values = [record['sports247_IDYR'], record['rivals_IDYR'], 2, 3, record['Sum']]\n",
    "    query = '''INSERT INTO RecordLinks(MasterID, TargetID, KeyDataSet, KeyLinkType, LinkConfidence)\n",
    "        VALUES (?,?,?,?,?)'''\n",
    "    \n",
    "    conn = sql.connect(cc.databaseName)\n",
    "    c = conn.cursor()\n",
    "    \n",
    "    c.execute(query, Values)\n",
    "    conn.commit()\n",
    "    \n",
    "conn.close()"
   ]
  }
 ],
 "metadata": {
  "kernelspec": {
   "display_name": "Python 3 (ipykernel)",
   "language": "python",
   "name": "python3"
  },
  "language_info": {
   "codemirror_mode": {
    "name": "ipython",
    "version": 3
   },
   "file_extension": ".py",
   "mimetype": "text/x-python",
   "name": "python",
   "nbconvert_exporter": "python",
   "pygments_lexer": "ipython3",
   "version": "3.8.12"
  }
 },
 "nbformat": 4,
 "nbformat_minor": 4
}
