{
 "cells": [
  {
   "cell_type": "markdown",
   "metadata": {},
   "source": [
    "# Fuzzy Matching with RL - 247 & Rivals\n",
    "\n",
    "> Leveraging the RL library to determine approximate matching over a range of fields using various string methods methods.  This specifically focuses on 247 & Rivals first."
   ]
  },
  {
   "cell_type": "code",
   "execution_count": 3,
   "metadata": {},
   "outputs": [],
   "source": [
    "import json\n",
    "import pandas\n",
    "import time\n",
    "import os\n",
    "import recordlinkage\n",
    "import csv\n",
    "import core_constants as cc\n",
    "import functions as fx\n",
    "import sqlite3 as sql\n",
    "\n",
    "#not currently using jellyfish\n",
    "import jellyfish as jf"
   ]
  },
  {
   "cell_type": "markdown",
   "metadata": {},
   "source": [
    "## Load and Merge Source Files Then Create a List of Dicts for each Dataset\n",
    "> This was originally set up for all of the keys in the sourcefiles.json config.  Since this file is currently only going to serve 247 & Rivals, I've hardcoded the keys to fetch"
   ]
  },
  {
   "cell_type": "code",
   "execution_count": 4,
   "metadata": {
    "scrolled": false
   },
   "outputs": [
    {
     "data": {
      "text/plain": [
       "(1095, 5)"
      ]
     },
     "execution_count": 4,
     "metadata": {},
     "output_type": "execute_result"
    }
   ],
   "source": [
    "dfFinal = fx.doFuzzyMatching('NFL', 'Sports247')\n",
    "dfFinal.shape"
   ]
  },
  {
   "cell_type": "markdown",
   "metadata": {},
   "source": [
    "## Create Blockers\n",
    "> I swear this isn't working.  And honestly I guess I'm ok with it not working since I'm doing string operations later on this script.  This used to take longer than 20 minutes but has been fixed."
   ]
  },
  {
   "cell_type": "code",
   "execution_count": null,
   "metadata": {},
   "outputs": [],
   "source": [
    "indexer = recordlinkage.BlockIndex(on=['College', 'Year'])\n",
    "candidate_links = indexer.index(sports247, rivals)"
   ]
  },
  {
   "cell_type": "markdown",
   "metadata": {},
   "source": [
    "## Define Features & Generate Comparison Vector Set\n",
    "\n",
    "> These are all pretty straightforward.  The toughest one to assess is position - since the services don't always categorize players in the same way or have the same abbreviation for a single position.  Since this is often only a 2 or 3 letter string, I decided to do an exact match."
   ]
  },
  {
   "cell_type": "code",
   "execution_count": null,
   "metadata": {},
   "outputs": [],
   "source": [
    "c = recordlinkage.Compare()\n",
    "\n",
    "c.exact('IDYR', 'IDYR', label='IDYR')\n",
    "c.string('PlayerName', 'PlayerName', method='damerau_levenshtein', label='PlayerName')\n",
    "c.string('City', 'City', label='City')\n",
    "c.exact('State', 'State', label='State')\n",
    "c.string('HighSchool', 'HighSchool', label='HighSchool')\n",
    "c.exact('Position', 'Position', label='Position')\n",
    "\n",
    "try:\n",
    "    features = c.compute(candidate_links, sports247, rivals)\n",
    "except KeyError as e:\n",
    "    print(e)"
   ]
  },
  {
   "cell_type": "markdown",
   "metadata": {},
   "source": [
    "## Create Sum\n",
    "> Final value will be between 0 and 1.  Sum represents a %confidence% level during fuzzy matching. Since an exact match on ID dictates a 100% confident match, I've removed that column from the sum."
   ]
  },
  {
   "cell_type": "code",
   "execution_count": null,
   "metadata": {},
   "outputs": [],
   "source": [
    "features['Sum'] = (features['PlayerName'] + features['City'] + features['State'] + features['HighSchool']  + features['Position'])/5"
   ]
  },
  {
   "cell_type": "code",
   "execution_count": null,
   "metadata": {},
   "outputs": [],
   "source": [
    "features.head()"
   ]
  },
  {
   "cell_type": "markdown",
   "metadata": {},
   "source": [
    "## Filter by Threshold\n",
    "\n",
    "> Agreed upon confidence level for 247 & Rivals is .6943.  This takes longer than expected.  "
   ]
  },
  {
   "cell_type": "code",
   "execution_count": null,
   "metadata": {},
   "outputs": [],
   "source": [
    "count = 0\n",
    "filteredList = []\n",
    "noMatch = []\n",
    "\n",
    "features['sports247_IDYR'] = features.index.get_level_values(0)\n",
    "features['rivals_IDYR'] = features.index.get_level_values(1)\n",
    "\n",
    "for idx, data in features.groupby(level=0):\n",
    "    data = data.loc[data['Sum'].idxmax()]\n",
    "    if (data['IDYR'] == 1):\n",
    "        filteredList.append(data)\n",
    "    elif (data['IDYR'] != 1 and data['Sum'] > .6943):\n",
    "        filteredList.append(data)\n",
    "    else:\n",
    "        noMatch.append(data)"
   ]
  },
  {
   "cell_type": "markdown",
   "metadata": {},
   "source": [
    "## Convert Series to Dataframe\n",
    "> output of the above is a Pandas Series and needs to be pushed to a dataframe to be accessible"
   ]
  },
  {
   "cell_type": "code",
   "execution_count": null,
   "metadata": {},
   "outputs": [],
   "source": [
    "dfFinal = pandas.DataFrame()\n",
    "dfFinal = dfFinal.append(filteredList)\n",
    "dfFinal.sort_values(by='SUM')"
   ]
  },
  {
   "cell_type": "code",
   "execution_count": null,
   "metadata": {},
   "outputs": [],
   "source": [
    "dict_dfFinal = dfFinal.to_dict('records')"
   ]
  },
  {
   "cell_type": "code",
   "execution_count": null,
   "metadata": {},
   "outputs": [],
   "source": [
    "dict_dfFinal[0]"
   ]
  },
  {
   "cell_type": "code",
   "execution_count": null,
   "metadata": {},
   "outputs": [],
   "source": [
    "for record in dict_dfFinal:\n",
    "    Values = [record['sports247_IDYR'], record['rivals_IDYR'], 2, 3, record['Sum']]\n",
    "    query = '''INSERT INTO RecordLinks(MasterID, TargetID, KeyDataSet, KeyLinkType, LinkConfidence)\n",
    "        VALUES (?,?,?,?,?)'''\n",
    "    \n",
    "    conn = sql.connect(cc.databaseName)\n",
    "    c = conn.cursor()\n",
    "    \n",
    "    c.execute(query, Values)\n",
    "    conn.commit()\n",
    "    \n",
    "conn.close()"
   ]
  }
 ],
 "metadata": {
  "kernelspec": {
   "display_name": "Python 3 (ipykernel)",
   "language": "python",
   "name": "python3"
  },
  "language_info": {
   "codemirror_mode": {
    "name": "ipython",
    "version": 3
   },
   "file_extension": ".py",
   "mimetype": "text/x-python",
   "name": "python",
   "nbconvert_exporter": "python",
   "pygments_lexer": "ipython3",
   "version": "3.8.12"
  }
 },
 "nbformat": 4,
 "nbformat_minor": 4
}
