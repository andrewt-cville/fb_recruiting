{
 "cells": [
  {
   "cell_type": "markdown",
   "metadata": {},
   "source": [
    "# Fuzzy Matching with RL - 247 & Rivals\n",
    "\n",
    "> Leveraging the RL library to determine approximate matching over a range of fields using various string methods methods.  This specifically focuses on 247 & Rivals first."
   ]
  },
  {
   "cell_type": "code",
   "execution_count": 1,
   "metadata": {},
   "outputs": [],
   "source": [
    "import json\n",
    "import pandas\n",
    "import time\n",
    "import os\n",
    "import recordlinkage\n",
    "import csv\n",
    "import core_constants as cc\n",
    "import functions as fx\n",
    "import sqlite3 as sql\n",
    "\n",
    "#not currently using jellyfish\n",
    "import jellyfish as jf"
   ]
  },
  {
   "cell_type": "markdown",
   "metadata": {},
   "source": [
    "## Load and Merge Source Files Then Create a List of Dicts for each Dataset\n",
    "> This was originally set up for all of the keys in the sourcefiles.json config.  Since this file is currently only going to serve 247 & Rivals, I've hardcoded the keys to fetch"
   ]
  },
  {
   "cell_type": "code",
   "execution_count": null,
   "metadata": {},
   "outputs": [],
   "source": [
    "dataset_keys = {'sports247': 1, 'rivals': 2}\n",
    "for key,value in dataset_keys.items():\n",
    "    SQL = \"\"\"SELECT IDYR, College, Year, PlayerName, HighSchool, City, State, Position FROM SourcedPlayers WHERE KeyDataset = {}\"\"\".format(value)\n",
    "    vars()[key] = (fx.connDBAndReturnDF(SQL)).set_index('IDYR')\n",
    "    (vars()[key]).index.name = key + '_IDYR'\n",
    "    (vars()[key])['IDYR'] = (vars()[key]).index.get_level_values(0)"
   ]
  },
  {
   "cell_type": "code",
   "execution_count": 2,
   "metadata": {
    "scrolled": false
   },
   "outputs": [
    {
     "data": {
      "text/html": [
       "<div>\n",
       "<style scoped>\n",
       "    .dataframe tbody tr th:only-of-type {\n",
       "        vertical-align: middle;\n",
       "    }\n",
       "\n",
       "    .dataframe tbody tr th {\n",
       "        vertical-align: top;\n",
       "    }\n",
       "\n",
       "    .dataframe thead th {\n",
       "        text-align: right;\n",
       "    }\n",
       "</style>\n",
       "<table border=\"1\" class=\"dataframe\">\n",
       "  <thead>\n",
       "    <tr style=\"text-align: right;\">\n",
       "      <th></th>\n",
       "      <th>ID</th>\n",
       "      <th>PlayerName</th>\n",
       "      <th>Position</th>\n",
       "      <th>sum</th>\n",
       "      <th>sourceID</th>\n",
       "      <th>targetID</th>\n",
       "    </tr>\n",
       "  </thead>\n",
       "  <tbody>\n",
       "    <tr>\n",
       "      <th>(aaironsavage_auburn_2005, carltondavis_auburn)</th>\n",
       "      <td>0.578947</td>\n",
       "      <td>0.333333</td>\n",
       "      <td>1</td>\n",
       "      <td>0.637427</td>\n",
       "      <td>aaironsavage_auburn_2005</td>\n",
       "      <td>carltondavis_auburn</td>\n",
       "    </tr>\n",
       "    <tr>\n",
       "      <th>(aaronbaltazar_colorado_2015, chrisbrown_colorado)</th>\n",
       "      <td>0.500000</td>\n",
       "      <td>0.153846</td>\n",
       "      <td>1</td>\n",
       "      <td>0.551282</td>\n",
       "      <td>aaronbaltazar_colorado_2015</td>\n",
       "      <td>chrisbrown_colorado</td>\n",
       "    </tr>\n",
       "    <tr>\n",
       "      <th>(aaronbedgood_coastalcarolina_2019, jeromesimpson_coastalcarolina)</th>\n",
       "      <td>0.655172</td>\n",
       "      <td>0.230769</td>\n",
       "      <td>1</td>\n",
       "      <td>0.628647</td>\n",
       "      <td>aaronbedgood_coastalcarolina_2019</td>\n",
       "      <td>jeromesimpson_coastalcarolina</td>\n",
       "    </tr>\n",
       "    <tr>\n",
       "      <th>(aaronbenson_texas_2010, malikjefferson_texas)</th>\n",
       "      <td>0.550000</td>\n",
       "      <td>0.357143</td>\n",
       "      <td>1</td>\n",
       "      <td>0.635714</td>\n",
       "      <td>aaronbenson_texas_2010</td>\n",
       "      <td>malikjefferson_texas</td>\n",
       "    </tr>\n",
       "    <tr>\n",
       "      <th>(aaronbentley_memphis_2003, clintonmcdonald_memphis)</th>\n",
       "      <td>0.478261</td>\n",
       "      <td>0.200000</td>\n",
       "      <td>1</td>\n",
       "      <td>0.559420</td>\n",
       "      <td>aaronbentley_memphis_2003</td>\n",
       "      <td>clintonmcdonald_memphis</td>\n",
       "    </tr>\n",
       "  </tbody>\n",
       "</table>\n",
       "</div>"
      ],
      "text/plain": [
       "                                                          ID  PlayerName  \\\n",
       "(aaironsavage_auburn_2005, carltondavis_auburn)     0.578947    0.333333   \n",
       "(aaronbaltazar_colorado_2015, chrisbrown_colorado)  0.500000    0.153846   \n",
       "(aaronbedgood_coastalcarolina_2019, jeromesimps...  0.655172    0.230769   \n",
       "(aaronbenson_texas_2010, malikjefferson_texas)      0.550000    0.357143   \n",
       "(aaronbentley_memphis_2003, clintonmcdonald_mem...  0.478261    0.200000   \n",
       "\n",
       "                                                    Position       sum  \\\n",
       "(aaironsavage_auburn_2005, carltondavis_auburn)            1  0.637427   \n",
       "(aaronbaltazar_colorado_2015, chrisbrown_colorado)         1  0.551282   \n",
       "(aaronbedgood_coastalcarolina_2019, jeromesimps...         1  0.628647   \n",
       "(aaronbenson_texas_2010, malikjefferson_texas)             1  0.635714   \n",
       "(aaronbentley_memphis_2003, clintonmcdonald_mem...         1  0.559420   \n",
       "\n",
       "                                                                             sourceID  \\\n",
       "(aaironsavage_auburn_2005, carltondavis_auburn)              aaironsavage_auburn_2005   \n",
       "(aaronbaltazar_colorado_2015, chrisbrown_colorado)        aaronbaltazar_colorado_2015   \n",
       "(aaronbedgood_coastalcarolina_2019, jeromesimps...  aaronbedgood_coastalcarolina_2019   \n",
       "(aaronbenson_texas_2010, malikjefferson_texas)                 aaronbenson_texas_2010   \n",
       "(aaronbentley_memphis_2003, clintonmcdonald_mem...          aaronbentley_memphis_2003   \n",
       "\n",
       "                                                                         targetID  \n",
       "(aaironsavage_auburn_2005, carltondavis_auburn)               carltondavis_auburn  \n",
       "(aaronbaltazar_colorado_2015, chrisbrown_colorado)            chrisbrown_colorado  \n",
       "(aaronbedgood_coastalcarolina_2019, jeromesimps...  jeromesimpson_coastalcarolina  \n",
       "(aaronbenson_texas_2010, malikjefferson_texas)               malikjefferson_texas  \n",
       "(aaronbentley_memphis_2003, clintonmcdonald_mem...        clintonmcdonald_memphis  "
      ]
     },
     "execution_count": 2,
     "metadata": {},
     "output_type": "execute_result"
    }
   ],
   "source": [
    "dfFinal = fx.doFuzzyMatching('Sports247', 'NFL')\n",
    "dfFinal.head()"
   ]
  },
  {
   "cell_type": "markdown",
   "metadata": {},
   "source": [
    "## Create Blockers\n",
    "> I swear this isn't working.  And honestly I guess I'm ok with it not working since I'm doing string operations later on this script.  This used to take longer than 20 minutes but has been fixed."
   ]
  },
  {
   "cell_type": "code",
   "execution_count": null,
   "metadata": {},
   "outputs": [],
   "source": [
    "indexer = recordlinkage.BlockIndex(on=['College', 'Year'])\n",
    "candidate_links = indexer.index(sports247, rivals)"
   ]
  },
  {
   "cell_type": "markdown",
   "metadata": {},
   "source": [
    "## Define Features & Generate Comparison Vector Set\n",
    "\n",
    "> These are all pretty straightforward.  The toughest one to assess is position - since the services don't always categorize players in the same way or have the same abbreviation for a single position.  Since this is often only a 2 or 3 letter string, I decided to do an exact match."
   ]
  },
  {
   "cell_type": "code",
   "execution_count": null,
   "metadata": {},
   "outputs": [],
   "source": [
    "c = recordlinkage.Compare()\n",
    "\n",
    "c.exact('IDYR', 'IDYR', label='IDYR')\n",
    "c.string('PlayerName', 'PlayerName', method='damerau_levenshtein', label='PlayerName')\n",
    "c.string('City', 'City', label='City')\n",
    "c.exact('State', 'State', label='State')\n",
    "c.string('HighSchool', 'HighSchool', label='HighSchool')\n",
    "c.exact('Position', 'Position', label='Position')\n",
    "\n",
    "try:\n",
    "    features = c.compute(candidate_links, sports247, rivals)\n",
    "except KeyError as e:\n",
    "    print(e)"
   ]
  },
  {
   "cell_type": "markdown",
   "metadata": {},
   "source": [
    "## Create Sum\n",
    "> Final value will be between 0 and 1.  Sum represents a %confidence% level during fuzzy matching. Since an exact match on ID dictates a 100% confident match, I've removed that column from the sum."
   ]
  },
  {
   "cell_type": "code",
   "execution_count": null,
   "metadata": {},
   "outputs": [],
   "source": [
    "features['Sum'] = (features['PlayerName'] + features['City'] + features['State'] + features['HighSchool']  + features['Position'])/5"
   ]
  },
  {
   "cell_type": "code",
   "execution_count": null,
   "metadata": {},
   "outputs": [],
   "source": [
    "features.head()"
   ]
  },
  {
   "cell_type": "markdown",
   "metadata": {},
   "source": [
    "## Filter by Threshold\n",
    "\n",
    "> Agreed upon confidence level for 247 & Rivals is .6943.  This takes longer than expected.  "
   ]
  },
  {
   "cell_type": "code",
   "execution_count": null,
   "metadata": {},
   "outputs": [],
   "source": [
    "count = 0\n",
    "filteredList = []\n",
    "noMatch = []\n",
    "\n",
    "features['sports247_IDYR'] = features.index.get_level_values(0)\n",
    "features['rivals_IDYR'] = features.index.get_level_values(1)\n",
    "\n",
    "for idx, data in features.groupby(level=0):\n",
    "    data = data.loc[data['Sum'].idxmax()]\n",
    "    if (data['IDYR'] == 1):\n",
    "        filteredList.append(data)\n",
    "    elif (data['IDYR'] != 1 and data['Sum'] > .6943):\n",
    "        filteredList.append(data)\n",
    "    else:\n",
    "        noMatch.append(data)"
   ]
  },
  {
   "cell_type": "markdown",
   "metadata": {},
   "source": [
    "## Convert Series to Dataframe\n",
    "> output of the above is a Pandas Series and needs to be pushed to a dataframe to be accessible"
   ]
  },
  {
   "cell_type": "code",
   "execution_count": 1,
   "metadata": {},
   "outputs": [
    {
     "ename": "NameError",
     "evalue": "name 'pandas' is not defined",
     "output_type": "error",
     "traceback": [
      "\u001b[0;31m---------------------------------------------------------------------------\u001b[0m",
      "\u001b[0;31mNameError\u001b[0m                                 Traceback (most recent call last)",
      "\u001b[0;32m/var/folders/2m/km0nycs128lb7lhq3l_z9cq00000gn/T/ipykernel_57863/3373806807.py\u001b[0m in \u001b[0;36m<module>\u001b[0;34m\u001b[0m\n\u001b[0;32m----> 1\u001b[0;31m \u001b[0mdfFinal\u001b[0m \u001b[0;34m=\u001b[0m \u001b[0mpandas\u001b[0m\u001b[0;34m.\u001b[0m\u001b[0mDataFrame\u001b[0m\u001b[0;34m(\u001b[0m\u001b[0;34m)\u001b[0m\u001b[0;34m\u001b[0m\u001b[0;34m\u001b[0m\u001b[0m\n\u001b[0m\u001b[1;32m      2\u001b[0m \u001b[0mdfFinal\u001b[0m \u001b[0;34m=\u001b[0m \u001b[0mdfFinal\u001b[0m\u001b[0;34m.\u001b[0m\u001b[0mappend\u001b[0m\u001b[0;34m(\u001b[0m\u001b[0mfilteredList\u001b[0m\u001b[0;34m)\u001b[0m\u001b[0;34m\u001b[0m\u001b[0;34m\u001b[0m\u001b[0m\n\u001b[1;32m      3\u001b[0m \u001b[0mdfFinal\u001b[0m\u001b[0;34m.\u001b[0m\u001b[0msort_values\u001b[0m\u001b[0;34m(\u001b[0m\u001b[0mby\u001b[0m\u001b[0;34m=\u001b[0m\u001b[0;34m'SUM'\u001b[0m\u001b[0;34m)\u001b[0m\u001b[0;34m\u001b[0m\u001b[0;34m\u001b[0m\u001b[0m\n",
      "\u001b[0;31mNameError\u001b[0m: name 'pandas' is not defined"
     ]
    }
   ],
   "source": [
    "dfFinal = pandas.DataFrame()\n",
    "dfFinal = dfFinal.append(filteredList)\n",
    "dfFinal.sort_values(by='SUM')"
   ]
  },
  {
   "cell_type": "code",
   "execution_count": null,
   "metadata": {},
   "outputs": [],
   "source": [
    "dict_dfFinal = dfFinal.to_dict('records')"
   ]
  },
  {
   "cell_type": "code",
   "execution_count": null,
   "metadata": {},
   "outputs": [],
   "source": [
    "dict_dfFinal[0]"
   ]
  },
  {
   "cell_type": "code",
   "execution_count": null,
   "metadata": {},
   "outputs": [],
   "source": [
    "for record in dict_dfFinal:\n",
    "    Values = [record['sports247_IDYR'], record['rivals_IDYR'], 2, 3, record['Sum']]\n",
    "    query = '''INSERT INTO RecordLinks(MasterID, TargetID, KeyDataSet, KeyLinkType, LinkConfidence)\n",
    "        VALUES (?,?,?,?,?)'''\n",
    "    \n",
    "    conn = sql.connect(cc.databaseName)\n",
    "    c = conn.cursor()\n",
    "    \n",
    "    c.execute(query, Values)\n",
    "    conn.commit()\n",
    "    \n",
    "conn.close()"
   ]
  }
 ],
 "metadata": {
  "kernelspec": {
   "display_name": "Python 3 (ipykernel)",
   "language": "python",
   "name": "python3"
  },
  "language_info": {
   "codemirror_mode": {
    "name": "ipython",
    "version": 3
   },
   "file_extension": ".py",
   "mimetype": "text/x-python",
   "name": "python",
   "nbconvert_exporter": "python",
   "pygments_lexer": "ipython3",
   "version": "3.8.12"
  }
 },
 "nbformat": 4,
 "nbformat_minor": 4
}
