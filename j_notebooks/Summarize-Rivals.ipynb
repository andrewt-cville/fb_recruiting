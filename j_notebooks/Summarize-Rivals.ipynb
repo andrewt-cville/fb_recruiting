{
 "cells": [
  {
   "cell_type": "code",
   "execution_count": null,
   "metadata": {},
   "outputs": [],
   "source": [
    "import json\n",
    "import pandas\n",
    "import time\n",
    "import os\n",
    "import csv\n",
    "from functools import reduce"
   ]
  },
  {
   "cell_type": "code",
   "execution_count": null,
   "metadata": {},
   "outputs": [],
   "source": [
    "inputDir = '..//scrapedData//'\n",
    "outputDir = '..//summarizedData//'\n",
    "dataset = 'rivals'\n",
    "\n",
    "## Load the id config\n",
    "idConfig = json.loads(open('..//config//idConfig.json', \"r\").read())\n",
    "\n",
    "## Load the source file dict\n",
    "sourceFiles = json.loads(open('..//config//sourceFiles.json', \"r\").read())"
   ]
  },
  {
   "cell_type": "code",
   "execution_count": null,
   "metadata": {},
   "outputs": [],
   "source": [
    "## If there are multiple files for any given dataset, then this function will combine all of those\n",
    "## records into a single dicti\n",
    "def mergeSourceFiles (source, outputDir, sourceFiles):\n",
    "    recordList = []\n",
    "    for file in sourceFiles[source]:  \n",
    "        file = json.loads(open(outputDir + file, \"r\", encoding=\"utf-8\").read())\n",
    "        for record in file:\n",
    "            recordList.append(record)\n",
    "    return recordList"
   ]
  },
  {
   "cell_type": "code",
   "execution_count": null,
   "metadata": {},
   "outputs": [],
   "source": [
    "rivalsData = mergeSourceFiles(dataset, inputDir, sourceFiles)"
   ]
  },
  {
   "cell_type": "code",
   "execution_count": null,
   "metadata": {},
   "outputs": [],
   "source": [
    "## Clean up dirty names\n",
    "def mungeID(playerString):\n",
    "    if (playerString is not None):\n",
    "        return ''.join(e for e in playerString if e.isalnum()).lower().replace(\"jr.\", \"\").replace(\"st.\", \"state\") \n",
    "    else:\n",
    "        return 'ERROR'"
   ]
  },
  {
   "cell_type": "code",
   "execution_count": null,
   "metadata": {},
   "outputs": [],
   "source": [
    "def createNewID (fieldList, thisDict, fieldAgg):\n",
    "    finalID= ''\n",
    "    for i in thisDict:\n",
    "        for idx, val in enumerate(fieldList):\n",
    "            if (type(i[val]) is list):\n",
    "                i[val]= mungeID(i[val][0])\n",
    "                if (len(fieldList) -1 == idx):\n",
    "                    finalID += str(i[val]).strip('[]').strip(\"''\")\n",
    "            elif (type(val) is not list):\n",
    "                i[val] = mungeID(i[val])\n",
    "                if (len(fieldList) - 1 == idx):\n",
    "                    finalID += i[val]\n",
    "                else:\n",
    "                    finalID = i[val] + fieldAgg\n",
    "        i['ID'] = finalID\n",
    "        finalID=''"
   ]
  },
  {
   "cell_type": "code",
   "execution_count": null,
   "metadata": {},
   "outputs": [],
   "source": [
    "createNewID(idConfig[dataset], rivalsData, '_')\n",
    "df = pandas.DataFrame(rivalsData)\n",
    "df.head()"
   ]
  },
  {
   "cell_type": "code",
   "execution_count": null,
   "metadata": {},
   "outputs": [],
   "source": [
    "##With this - since I only want to keep 4 columns I'm going to create a new list of dicts\n",
    "finalRivals = []\n",
    "for record in rivalsData:\n",
    "    finalRecord = {}\n",
    "    finalRecord['ID'] = record['ID']\n",
    "    finalRecord['rivals_stars'] = record['stars']\n",
    "    finalRecord['rivals_natlRank'] = record['nationalRank']\n",
    "    finalRecord['rivals_posRank'] = record['positionRank']\n",
    "    finalRecord['rivals_stateRank'] = record['stateRank']\n",
    "    finalRivals.append(finalRecord)\n",
    "print(finalRivals)"
   ]
  },
  {
   "cell_type": "code",
   "execution_count": null,
   "metadata": {},
   "outputs": [],
   "source": [
    "with open(outputDir + dataset + \"data.json\", \"w\", encoding=\"utf-8\") as write_file:\n",
    "                write_file.write(json.dumps(finalRivals))"
   ]
  },
  {
   "cell_type": "code",
   "execution_count": null,
   "metadata": {},
   "outputs": [],
   "source": []
  }
 ],
 "metadata": {
  "kernelspec": {
   "display_name": "Python 3",
   "language": "python",
   "name": "python3"
  }
 },
 "nbformat": 4,
 "nbformat_minor": 4
}
