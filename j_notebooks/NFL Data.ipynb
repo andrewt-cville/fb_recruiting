{
 "cells": [
  {
   "cell_type": "markdown",
   "metadata": {},
   "source": [
    "# Source: Sports Reference - NFL Data"
   ]
  },
  {
   "cell_type": "code",
   "execution_count": 1,
   "metadata": {},
   "outputs": [],
   "source": [
    "#hide\n",
    "import json\n",
    "import core_constants as cc\n",
    "import functions as fx\n",
    "import pandas as pd\n",
    "import sqlite3 as sql"
   ]
  },
  {
   "cell_type": "markdown",
   "metadata": {},
   "source": [
    "## Set Notebook Settings"
   ]
  },
  {
   "cell_type": "code",
   "execution_count": 2,
   "metadata": {},
   "outputs": [],
   "source": [
    "years = cc.get_defYears()\n",
    "headers= cc.get_header()\n",
    "schoolsList = cc.get_schoolsList()"
   ]
  },
  {
   "cell_type": "markdown",
   "metadata": {},
   "source": [
    "## Get, Process the NFL draft data from SR\n",
    "#### Source: https://www.pro-football-reference.com/years/2017/draft.htm\n",
    "> This page contains metadata of each draft pick, both in terms of draft position but also current pro stats."
   ]
  },
  {
   "cell_type": "code",
   "execution_count": 3,
   "metadata": {},
   "outputs": [],
   "source": [
    "with open(\"..//scrapedData//nfldraft.json\", \"w\", encoding=\"utf-8\") as write_file:\n",
    "                write_file.write(json.dumps(fx.handle_nflData(years, headers, schoolsList)))"
   ]
  },
  {
   "cell_type": "markdown",
   "metadata": {},
   "source": [
    "## Save to DB"
   ]
  },
  {
   "cell_type": "code",
   "execution_count": 4,
   "metadata": {},
   "outputs": [
    {
     "data": {
      "text/plain": [
       "'DB Write is done'"
      ]
     },
     "execution_count": 4,
     "metadata": {},
     "output_type": "execute_result"
    }
   ],
   "source": [
    "fx.toDB_NFLDraft()"
   ]
  },
  {
   "cell_type": "code",
   "execution_count": 7,
   "metadata": {},
   "outputs": [
    {
     "name": "stdout",
     "output_type": "stream",
     "text": [
      "air-force\n",
      "akron\n",
      "alabama\n",
      "alabama-birmingham\n",
      "appalachian-state\n",
      "arizona\n",
      "arizona-state\n",
      "arkansas\n",
      "arkansas-state\n",
      "army\n",
      "auburn\n",
      "ball-state\n",
      "baylor\n",
      "boise-state\n",
      "boston-college\n",
      "bowling-green\n",
      "buffalo\n",
      "byu\n",
      "california\n",
      "central-florida\n",
      "central-michigan\n",
      "charlotte\n",
      "cincinnati\n",
      "clemson\n",
      "coastal-carolina\n",
      "colorado\n",
      "colorado-state\n",
      "duke\n",
      "east-carolina\n",
      "eastern-michigan\n",
      "florida\n",
      "florida-atlantic\n",
      "florida-international\n",
      "florida-state\n",
      "fresno-state\n",
      "georgia\n",
      "georgia-southern\n",
      "georgia-state\n",
      "georgia-tech\n",
      "hawaii\n",
      "houston\n",
      "illinois\n",
      "indiana\n",
      "iowa\n",
      "iowa-state\n",
      "kansas\n",
      "kansas-state\n",
      "kent-state\n",
      "kentucky\n",
      "liberty\n",
      "louisiana\n",
      "louisiana-monroe\n",
      "louisiana-tech\n",
      "louisville\n",
      "lsu\n",
      "marshall\n",
      "maryland\n",
      "massachusetts\n",
      "memphis\n",
      "miami\n",
      "michigan\n",
      "michigan-state\n",
      "middle-tennessee-state\n",
      "minnesota\n",
      "mississippi-state\n",
      "missouri\n",
      "navy\n",
      "nebraska\n",
      "nevada\n",
      "new-mexico\n",
      "new-mexico-state\n",
      "north-carolina\n",
      "north-carolina-state\n",
      "north-texas\n",
      "northern-illinois\n",
      "northwestern\n",
      "notre-dame\n",
      "ohio\n",
      "ohio-state\n",
      "oklahoma\n",
      "oklahoma-state\n",
      "old-dominion\n",
      "ole-miss\n",
      "oregon\n",
      "oregon-state\n",
      "penn-state\n",
      "pittsburgh\n",
      "purdue\n",
      "rice\n",
      "rutgers\n",
      "san-diego-state\n",
      "san-jose-state\n",
      "smu\n",
      "south-alabama\n",
      "south-carolina\n",
      "south-florida\n",
      "southern-mississippi\n",
      "stanford\n",
      "syracuse\n",
      "tcu\n",
      "temple\n",
      "tennessee\n",
      "texas\n",
      "texas-am\n",
      "texas-state\n",
      "texas-tech\n",
      "toledo\n",
      "troy\n",
      "tulane\n",
      "tulsa\n",
      "ucla\n",
      "uconn\n",
      "unlv\n",
      "usc\n",
      "utah\n",
      "utah-state\n",
      "utep\n",
      "utsa\n",
      "vanderbilt\n",
      "virginia\n",
      "virginia-tech\n",
      "wake-forest\n",
      "washington\n",
      "washington-state\n",
      "west-virginia\n",
      "western-kentucky\n",
      "western-michigan\n",
      "wisconsin\n",
      "wyoming\n"
     ]
    }
   ],
   "source": [
    "#Output School List\n",
    "listSchools = []\n",
    "for i in schoolsList:\n",
    "    listSchools.append(i['id'])\n",
    "\n",
    "listSchools.sort()\n",
    "for i in listSchools:\n",
    "    print(i)"
   ]
  },
  {
   "cell_type": "code",
   "execution_count": null,
   "metadata": {},
   "outputs": [],
   "source": []
  }
 ],
 "metadata": {
  "kernelspec": {
   "display_name": "Python 3 (ipykernel)",
   "language": "python",
   "name": "python3"
  },
  "language_info": {
   "codemirror_mode": {
    "name": "ipython",
    "version": 3
   },
   "file_extension": ".py",
   "mimetype": "text/x-python",
   "name": "python",
   "nbconvert_exporter": "python",
   "pygments_lexer": "ipython3",
   "version": "3.8.12"
  }
 },
 "nbformat": 4,
 "nbformat_minor": 2
}
