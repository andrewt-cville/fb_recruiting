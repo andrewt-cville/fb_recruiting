{
 "cells": [
  {
   "cell_type": "markdown",
   "metadata": {},
   "source": [
    "# Source: Sports Reference - NFL Data"
   ]
  },
  {
   "cell_type": "code",
   "execution_count": 1,
   "metadata": {},
   "outputs": [],
   "source": [
    "#hide\n",
    "import json\n",
    "import core_constants as cc\n",
    "import functions as fx\n",
    "import pandas as pd\n",
    "import sqlite3 as sql\n",
    "import recordlinkage"
   ]
  },
  {
   "cell_type": "markdown",
   "metadata": {},
   "source": [
    "## Set Notebook Settings"
   ]
  },
  {
   "cell_type": "code",
   "execution_count": 2,
   "metadata": {},
   "outputs": [],
   "source": [
    "years = cc.get_defYears()\n",
    "headers= cc.get_header()\n",
    "schoolsList = cc.get_schoolsList()\n",
    "dataset = 'NFL'"
   ]
  },
  {
   "cell_type": "markdown",
   "metadata": {},
   "source": [
    "## Get, Process the NFL draft data from SR\n",
    "#### Source: https://www.pro-football-reference.com/years/2017/draft.htm\n",
    "> This page contains metadata of each draft pick, both in terms of draft position but also current pro stats."
   ]
  },
  {
   "cell_type": "code",
   "execution_count": null,
   "metadata": {},
   "outputs": [],
   "source": [
    "with open(\"..//scrapedData//nfldraft.json\", \"w\", encoding=\"utf-8\") as write_file:\n",
    "                write_file.write(json.dumps(fx.handle_nflData(years, headers, schoolsList)))"
   ]
  },
  {
   "cell_type": "markdown",
   "metadata": {},
   "source": [
    "## Clear DB\n",
    "> Useful for a clean start.  This removes all of the records for this dataset from the following structures: SourcedPlayers, RecordLinks.  All of the Views auto-cleanse themselves."
   ]
  },
  {
   "cell_type": "code",
   "execution_count": null,
   "metadata": {},
   "outputs": [],
   "source": [
    "fx.clearDB(dataset)"
   ]
  },
  {
   "cell_type": "markdown",
   "metadata": {},
   "source": [
    "## Save to DB"
   ]
  },
  {
   "cell_type": "code",
   "execution_count": null,
   "metadata": {},
   "outputs": [],
   "source": [
    "fx.toDB_NFLDraft()"
   ]
  },
  {
   "cell_type": "markdown",
   "metadata": {},
   "source": [
    "## Strict Matching\n",
    "> This saves it to RecordLinking where ID == ID, but returns IDYR as the matching target"
   ]
  },
  {
   "cell_type": "code",
   "execution_count": null,
   "metadata": {},
   "outputs": [],
   "source": [
    "fx.literalLinking(dataset)"
   ]
  },
  {
   "cell_type": "markdown",
   "metadata": {},
   "source": [
    "## Fuzzy Matching w/ Threshold\n",
    "\n",
    "> This is automatically pushing fuzzy matches above a certain threshold into the DB without the need for review [last part isn't true!  not automatically writing currently]"
   ]
  },
  {
   "cell_type": "code",
   "execution_count": 3,
   "metadata": {},
   "outputs": [
    {
     "data": {
      "text/html": [
       "<div>\n",
       "<style scoped>\n",
       "    .dataframe tbody tr th:only-of-type {\n",
       "        vertical-align: middle;\n",
       "    }\n",
       "\n",
       "    .dataframe tbody tr th {\n",
       "        vertical-align: top;\n",
       "    }\n",
       "\n",
       "    .dataframe thead th {\n",
       "        text-align: right;\n",
       "    }\n",
       "</style>\n",
       "<table border=\"1\" class=\"dataframe\">\n",
       "  <thead>\n",
       "    <tr style=\"text-align: right;\">\n",
       "      <th></th>\n",
       "      <th>sourceID</th>\n",
       "      <th>targetID</th>\n",
       "      <th>ID</th>\n",
       "      <th>PlayerName</th>\n",
       "      <th>Year</th>\n",
       "      <th>sum</th>\n",
       "    </tr>\n",
       "  </thead>\n",
       "  <tbody>\n",
       "    <tr>\n",
       "      <th>(aaronlynch_southflorida, marlonmack_southflorida_2014)</th>\n",
       "      <td>aaronlynch_southflorida</td>\n",
       "      <td>marlonmack_southflorida_2014</td>\n",
       "      <td>0.739130</td>\n",
       "      <td>0.400000</td>\n",
       "      <td>0.25</td>\n",
       "      <td>0.463043</td>\n",
       "    </tr>\n",
       "    <tr>\n",
       "      <th>(aaronmerz_california, aaronrodgers_california_2003)</th>\n",
       "      <td>aaronmerz_california</td>\n",
       "      <td>aaronrodgers_california_2003</td>\n",
       "      <td>0.782609</td>\n",
       "      <td>0.583333</td>\n",
       "      <td>0.00</td>\n",
       "      <td>0.455314</td>\n",
       "    </tr>\n",
       "    <tr>\n",
       "      <th>(adamjennings_fresnostate, andyjennings_fresnostate_2009)</th>\n",
       "      <td>adamjennings_fresnostate</td>\n",
       "      <td>andyjennings_fresnostate_2009</td>\n",
       "      <td>0.875000</td>\n",
       "      <td>0.750000</td>\n",
       "      <td>0.00</td>\n",
       "      <td>0.541667</td>\n",
       "    </tr>\n",
       "    <tr>\n",
       "      <th>(adamkieft_centralmichigan, adamantonides_centralmichigan_2005)</th>\n",
       "      <td>adamkieft_centralmichigan</td>\n",
       "      <td>adamantonides_centralmichigan_2005</td>\n",
       "      <td>0.724138</td>\n",
       "      <td>0.384615</td>\n",
       "      <td>0.25</td>\n",
       "      <td>0.452918</td>\n",
       "    </tr>\n",
       "    <tr>\n",
       "      <th>(adamseward_unlv, adammeyer_unlv_2018)</th>\n",
       "      <td>adamseward_unlv</td>\n",
       "      <td>adammeyer_unlv_2018</td>\n",
       "      <td>0.733333</td>\n",
       "      <td>0.600000</td>\n",
       "      <td>0.00</td>\n",
       "      <td>0.444444</td>\n",
       "    </tr>\n",
       "    <tr>\n",
       "      <th>...</th>\n",
       "      <td>...</td>\n",
       "      <td>...</td>\n",
       "      <td>...</td>\n",
       "      <td>...</td>\n",
       "      <td>...</td>\n",
       "      <td>...</td>\n",
       "    </tr>\n",
       "    <tr>\n",
       "      <th>(williebeavers_westernmichigan, williepope_westernmichigan_2002)</th>\n",
       "      <td>williebeavers_westernmichigan</td>\n",
       "      <td>williepope_westernmichigan_2002</td>\n",
       "      <td>0.793103</td>\n",
       "      <td>0.538462</td>\n",
       "      <td>0.00</td>\n",
       "      <td>0.443855</td>\n",
       "    </tr>\n",
       "    <tr>\n",
       "      <th>(williereid_floridastate, willsecord_floridastate_2009)</th>\n",
       "      <td>williereid_floridastate</td>\n",
       "      <td>willsecord_floridastate_2009</td>\n",
       "      <td>0.826087</td>\n",
       "      <td>0.600000</td>\n",
       "      <td>0.00</td>\n",
       "      <td>0.475362</td>\n",
       "    </tr>\n",
       "    <tr>\n",
       "      <th>(willsvitek_stanford, willpowers_stanford_2005)</th>\n",
       "      <td>willsvitek_stanford</td>\n",
       "      <td>willpowers_stanford_2005</td>\n",
       "      <td>0.684211</td>\n",
       "      <td>0.400000</td>\n",
       "      <td>0.25</td>\n",
       "      <td>0.444737</td>\n",
       "    </tr>\n",
       "    <tr>\n",
       "      <th>(xaviercrawford_centralmichigan, joshuacrawford_centralmichigan_2019)</th>\n",
       "      <td>xaviercrawford_centralmichigan</td>\n",
       "      <td>joshuacrawford_centralmichigan_2019</td>\n",
       "      <td>0.800000</td>\n",
       "      <td>0.571429</td>\n",
       "      <td>0.25</td>\n",
       "      <td>0.540476</td>\n",
       "    </tr>\n",
       "    <tr>\n",
       "      <th>(zachmiller_arizonastate, brentmiller_arizonastate_2003)</th>\n",
       "      <td>zachmiller_arizonastate</td>\n",
       "      <td>brentmiller_arizonastate_2003</td>\n",
       "      <td>0.791667</td>\n",
       "      <td>0.545455</td>\n",
       "      <td>0.00</td>\n",
       "      <td>0.445707</td>\n",
       "    </tr>\n",
       "  </tbody>\n",
       "</table>\n",
       "<p>391 rows × 6 columns</p>\n",
       "</div>"
      ],
      "text/plain": [
       "                                                                          sourceID  \\\n",
       "(aaronlynch_southflorida, marlonmack_southflori...         aaronlynch_southflorida   \n",
       "(aaronmerz_california, aaronrodgers_california_...            aaronmerz_california   \n",
       "(adamjennings_fresnostate, andyjennings_fresnos...        adamjennings_fresnostate   \n",
       "(adamkieft_centralmichigan, adamantonides_centr...       adamkieft_centralmichigan   \n",
       "(adamseward_unlv, adammeyer_unlv_2018)                             adamseward_unlv   \n",
       "...                                                                            ...   \n",
       "(williebeavers_westernmichigan, williepope_west...   williebeavers_westernmichigan   \n",
       "(williereid_floridastate, willsecord_floridasta...         williereid_floridastate   \n",
       "(willsvitek_stanford, willpowers_stanford_2005)                willsvitek_stanford   \n",
       "(xaviercrawford_centralmichigan, joshuacrawford...  xaviercrawford_centralmichigan   \n",
       "(zachmiller_arizonastate, brentmiller_arizonast...         zachmiller_arizonastate   \n",
       "\n",
       "                                                                               targetID  \\\n",
       "(aaronlynch_southflorida, marlonmack_southflori...         marlonmack_southflorida_2014   \n",
       "(aaronmerz_california, aaronrodgers_california_...         aaronrodgers_california_2003   \n",
       "(adamjennings_fresnostate, andyjennings_fresnos...        andyjennings_fresnostate_2009   \n",
       "(adamkieft_centralmichigan, adamantonides_centr...   adamantonides_centralmichigan_2005   \n",
       "(adamseward_unlv, adammeyer_unlv_2018)                              adammeyer_unlv_2018   \n",
       "...                                                                                 ...   \n",
       "(williebeavers_westernmichigan, williepope_west...      williepope_westernmichigan_2002   \n",
       "(williereid_floridastate, willsecord_floridasta...         willsecord_floridastate_2009   \n",
       "(willsvitek_stanford, willpowers_stanford_2005)                willpowers_stanford_2005   \n",
       "(xaviercrawford_centralmichigan, joshuacrawford...  joshuacrawford_centralmichigan_2019   \n",
       "(zachmiller_arizonastate, brentmiller_arizonast...        brentmiller_arizonastate_2003   \n",
       "\n",
       "                                                          ID  PlayerName  \\\n",
       "(aaronlynch_southflorida, marlonmack_southflori...  0.739130    0.400000   \n",
       "(aaronmerz_california, aaronrodgers_california_...  0.782609    0.583333   \n",
       "(adamjennings_fresnostate, andyjennings_fresnos...  0.875000    0.750000   \n",
       "(adamkieft_centralmichigan, adamantonides_centr...  0.724138    0.384615   \n",
       "(adamseward_unlv, adammeyer_unlv_2018)              0.733333    0.600000   \n",
       "...                                                      ...         ...   \n",
       "(williebeavers_westernmichigan, williepope_west...  0.793103    0.538462   \n",
       "(williereid_floridastate, willsecord_floridasta...  0.826087    0.600000   \n",
       "(willsvitek_stanford, willpowers_stanford_2005)     0.684211    0.400000   \n",
       "(xaviercrawford_centralmichigan, joshuacrawford...  0.800000    0.571429   \n",
       "(zachmiller_arizonastate, brentmiller_arizonast...  0.791667    0.545455   \n",
       "\n",
       "                                                    Year       sum  \n",
       "(aaronlynch_southflorida, marlonmack_southflori...  0.25  0.463043  \n",
       "(aaronmerz_california, aaronrodgers_california_...  0.00  0.455314  \n",
       "(adamjennings_fresnostate, andyjennings_fresnos...  0.00  0.541667  \n",
       "(adamkieft_centralmichigan, adamantonides_centr...  0.25  0.452918  \n",
       "(adamseward_unlv, adammeyer_unlv_2018)              0.00  0.444444  \n",
       "...                                                  ...       ...  \n",
       "(williebeavers_westernmichigan, williepope_west...  0.00  0.443855  \n",
       "(williereid_floridastate, willsecord_floridasta...  0.00  0.475362  \n",
       "(willsvitek_stanford, willpowers_stanford_2005)     0.25  0.444737  \n",
       "(xaviercrawford_centralmichigan, joshuacrawford...  0.25  0.540476  \n",
       "(zachmiller_arizonastate, brentmiller_arizonast...  0.00  0.445707  \n",
       "\n",
       "[391 rows x 6 columns]"
      ]
     },
     "execution_count": 3,
     "metadata": {},
     "output_type": "execute_result"
    }
   ],
   "source": [
    "fuzzyDF = fx.doFuzzyMatching(dataset, 'Sports247')\n",
    "fuzzyDF"
   ]
  },
  {
   "cell_type": "markdown",
   "metadata": {},
   "source": [
    "## Create the Annotation File\n",
    "\n",
    "> This changes the dataframe into a MultiIndex data frame that the annotation function requires"
   ]
  },
  {
   "cell_type": "code",
   "execution_count": null,
   "metadata": {},
   "outputs": [],
   "source": [
    "conn = sql.connect(cc.databaseName) \n",
    "          \n",
    "sql_query = pd.read_sql_query ('''\n",
    "                               SELECT\n",
    "                               *\n",
    "                               FROM SourcedPlayers\n",
    "                               WHERE KeyDataSet = 1\n",
    "                               ''', conn)\n",
    "\n",
    "df_247 = pd.DataFrame(sql_query, columns = ['IDYR', 'College', 'Year', 'Position'])\n",
    "df_247.set_index('IDYR', append=False, inplace=True)\n",
    "sql_query = pd.read_sql_query ('''\n",
    "                               SELECT\n",
    "                               *\n",
    "                               FROM UnlinkedNFL\n",
    "                               ''', conn)\n",
    "\n",
    "df_NFL = pd.DataFrame(sql_query, columns = ['ID', 'College'])\n",
    "df_NFL.set_index('ID', append=False, inplace=True)\n",
    "\n",
    "fuzzyMI = pd.MultiIndex.from_frame(fuzzyDF)\n",
    "recordlinkage.write_annotation_file(\n",
    "    \"../Annotations/Annotations/annotation_nfl.json\",\n",
    "    fuzzyMI[0:300],\n",
    "    df_NFL,\n",
    "    df_247,\n",
    "    dataset_a_name=\"NFL\",\n",
    "    dataset_b_name=\"Master\"\n",
    ")"
   ]
  },
  {
   "cell_type": "markdown",
   "metadata": {},
   "source": [
    "## Read in the Annotation File\n",
    "> Take the resulting Annotation file after handling the processing and insert it into the right table"
   ]
  },
  {
   "cell_type": "code",
   "execution_count": null,
   "metadata": {},
   "outputs": [],
   "source": [
    "annotation = recordlinkage.read_annotation_file(\"..//Annotations//Results//nfl_annotations.json\")\n",
    "try:\n",
    "    annotation_dict = (annotation.links).to_flat_index()\n",
    "except Exception as e:\n",
    "    print(e)"
   ]
  },
  {
   "cell_type": "markdown",
   "metadata": {},
   "source": [
    "## Insert Annotations to RecordLinks"
   ]
  },
  {
   "cell_type": "code",
   "execution_count": null,
   "metadata": {},
   "outputs": [],
   "source": [
    "for record in annotation_dict:\n",
    "    #MAKE SURE YOU UPDATE THE THIRD VALUE TO THE CORRECT KEYDATASET!!\n",
    "    Values = [record[0], record[1], 3, 1, 1]\n",
    "    query = '''INSERT INTO RecordLinks(MasterID, TargetID, KeyDataSet, KeyLinkType, LinkConfidence)\n",
    "        VALUES (?,?,?,?,?)'''\n",
    "    \n",
    "    conn = sql.connect(cc.databaseName)\n",
    "    c = conn.cursor()\n",
    "    \n",
    "    c.execute(query, Values)\n",
    "    conn.commit()\n",
    "    \n",
    "conn.close()"
   ]
  },
  {
   "cell_type": "code",
   "execution_count": null,
   "metadata": {},
   "outputs": [],
   "source": []
  }
 ],
 "metadata": {
  "kernelspec": {
   "display_name": "Python 3 (ipykernel)",
   "language": "python",
   "name": "python3"
  },
  "language_info": {
   "codemirror_mode": {
    "name": "ipython",
    "version": 3
   },
   "file_extension": ".py",
   "mimetype": "text/x-python",
   "name": "python",
   "nbconvert_exporter": "python",
   "pygments_lexer": "ipython3",
   "version": "3.8.12"
  }
 },
 "nbformat": 4,
 "nbformat_minor": 2
}
