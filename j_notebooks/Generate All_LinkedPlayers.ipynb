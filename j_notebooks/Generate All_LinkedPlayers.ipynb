{
 "cells": [
  {
   "cell_type": "code",
   "execution_count": 1,
   "id": "1349113d",
   "metadata": {},
   "outputs": [],
   "source": [
    "import queries\n",
    "import csv\n",
    "import functions as fx\n",
    "import pandas as pd\n",
    "import core_constants as cc\n",
    "import sqlite3 as sql"
   ]
  },
  {
   "cell_type": "markdown",
   "id": "df7009b0",
   "metadata": {},
   "source": [
    "## What does this do?\n",
    "> This script merges all of the linked data into a single table.  This used to be handled through a bunch of views but those broke the database UI so I needed to move those out of there\n",
    "\n",
    "> When thinking about linked players, think left to right: 247 - Rivals - NFL Draft - All Conference - NCAA - All American.  If a player has a 247 record then we start there and join it out with every other data souce recorded link available.  But some records are unique to the later sources - so we want to combine each originating source with each recorded link available to the right of it.  \n",
    "\n",
    "> You end with 6 different dataframes containing all of the unique sourced players with any or none available links.  "
   ]
  },
  {
   "cell_type": "code",
   "execution_count": 2,
   "id": "a18244ae",
   "metadata": {},
   "outputs": [],
   "source": [
    "# Last year of freshman recruits you want to return\n",
    "recruitMaxYear = 2016\n",
    "# First year of NFL Draft results, All Conference or All American awards you want to return\n",
    "nflMinYear = 2005\n",
    "acMinYear = 2004\n",
    "aaMinYear = 2004"
   ]
  },
  {
   "cell_type": "code",
   "execution_count": 3,
   "id": "9bc51617",
   "metadata": {},
   "outputs": [],
   "source": [
    "query = queries.getLinks247(recruitMaxYear, nflMinYear, acMinYear, aaMinYear)\n",
    "links247 = fx.connDBAndReturnDF(query)"
   ]
  },
  {
   "cell_type": "code",
   "execution_count": 4,
   "id": "584fb8fa",
   "metadata": {},
   "outputs": [],
   "source": [
    "query = queries.getLinksRivals(recruitMaxYear, nflMinYear, acMinYear, aaMinYear)\n",
    "linksRivals = fx.connDBAndReturnDF(query)"
   ]
  },
  {
   "cell_type": "code",
   "execution_count": 5,
   "id": "36e71a05",
   "metadata": {},
   "outputs": [],
   "source": [
    "query = queries.getLinksNFL(nflMinYear, acMinYear, aaMinYear)\n",
    "linksNFL = fx.connDBAndReturnDF(query)"
   ]
  },
  {
   "cell_type": "code",
   "execution_count": 6,
   "id": "4dbb4a3f",
   "metadata": {},
   "outputs": [],
   "source": [
    "query = queries.getLinksAC(acMinYear, aaMinYear)\n",
    "linksAC = fx.connDBAndReturnDF(query)"
   ]
  },
  {
   "cell_type": "code",
   "execution_count": 7,
   "id": "c5008f5f",
   "metadata": {},
   "outputs": [],
   "source": [
    "query = queries.getLinksNCAA(aaMinYear)\n",
    "linksNCAA = fx.connDBAndReturnDF(query)"
   ]
  },
  {
   "cell_type": "code",
   "execution_count": 8,
   "id": "05116ee1",
   "metadata": {},
   "outputs": [],
   "source": [
    "query = queries.getLinksAA(aaMinYear)\n",
    "linksAA = fx.connDBAndReturnDF(query)"
   ]
  },
  {
   "cell_type": "code",
   "execution_count": 9,
   "id": "31deb439",
   "metadata": {},
   "outputs": [],
   "source": [
    "dataframes = [links247, linksRivals, linksNFL, linksAC, linksNCAA, linksAA]\n",
    "all_links = pd.concat(dataframes)"
   ]
  },
  {
   "cell_type": "markdown",
   "id": "24e9ee6a",
   "metadata": {},
   "source": [
    "## Write to the Database\n",
    "> This wipes and re-writes the rows to the Linked Players table.  It removes the index field and uses the default sqlite3 rowid"
   ]
  },
  {
   "cell_type": "code",
   "execution_count": 10,
   "id": "a2413efe",
   "metadata": {},
   "outputs": [
    {
     "data": {
      "text/plain": [
       "71045"
      ]
     },
     "execution_count": 10,
     "metadata": {},
     "output_type": "execute_result"
    }
   ],
   "source": [
    "conn = sql.connect(cc.databaseName)\n",
    "all_links.to_sql('All_LinkedPlayers', conn, if_exists='replace', index=False)"
   ]
  },
  {
   "cell_type": "code",
   "execution_count": null,
   "id": "f37b7281",
   "metadata": {},
   "outputs": [],
   "source": []
  }
 ],
 "metadata": {
  "kernelspec": {
   "display_name": "Python 3 (ipykernel)",
   "language": "python",
   "name": "python3"
  },
  "language_info": {
   "codemirror_mode": {
    "name": "ipython",
    "version": 3
   },
   "file_extension": ".py",
   "mimetype": "text/x-python",
   "name": "python",
   "nbconvert_exporter": "python",
   "pygments_lexer": "ipython3",
   "version": "3.8.16"
  }
 },
 "nbformat": 4,
 "nbformat_minor": 5
}
