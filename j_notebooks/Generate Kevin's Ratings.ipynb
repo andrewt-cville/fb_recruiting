{
 "cells": [
  {
   "cell_type": "code",
   "execution_count": 5,
   "id": "5b22eb92",
   "metadata": {},
   "outputs": [],
   "source": [
    "import queries\n",
    "import csv\n",
    "import functions as fx\n",
    "import pandas as pd"
   ]
  },
  {
   "cell_type": "code",
   "execution_count": 6,
   "id": "45119494",
   "metadata": {},
   "outputs": [
    {
     "name": "stdout",
     "output_type": "stream",
     "text": [
      "Five Stars: 1000\n",
      "Four Stars: 3257\n",
      "Three Stars: 11031\n",
      "Two Stars: 12823\n",
      "One Star: 48571\n"
     ]
    }
   ],
   "source": [
    "rankings = [5,4,3,2,1]\n",
    "for ranking in rankings:\n",
    "    query = queries.get_query_KevinRating(ranking)\n",
    "    temp = (fx.connDBAndReturnDF(query))\n",
    "    if (ranking == 5):\n",
    "        fivestars = temp\n",
    "        print('Five Stars: ' + str(fivestars.shape[0]))\n",
    "    elif (ranking == 4):\n",
    "        fourstars = temp.query(\"ID not in @fivestars.ID\")\n",
    "        print('Four Stars: ' + str(fourstars.shape[0]))\n",
    "    elif (ranking == 3):\n",
    "        threestars = temp.query(\"ID not in @fourstars.ID\")\n",
    "        print('Three Stars: ' + str(threestars.shape[0]))\n",
    "    elif (ranking == 2):\n",
    "        twostars = temp.query(\"ID not in @threestars.ID\")\n",
    "        print('Two Stars: ' + str(twostars.shape[0]))\n",
    "    elif (ranking == 1):\n",
    "        onestar = temp.query(\"ID not in @twostars.ID\")\n",
    "        print('One Star: ' + str(onestar.shape[0]))\n",
    "    del temp"
   ]
  },
  {
   "cell_type": "code",
   "execution_count": 7,
   "id": "e19955ab",
   "metadata": {},
   "outputs": [
    {
     "name": "stdout",
     "output_type": "stream",
     "text": [
      "Total Players: 76682\n"
     ]
    }
   ],
   "source": [
    "frames = [fivestars, fourstars, threestars, twostars, onestar]\n",
    "allplayers = pd.concat(frames)\n",
    "print('Total Players: ' + str(allplayers.shape[0]))"
   ]
  },
  {
   "cell_type": "code",
   "execution_count": 8,
   "id": "73a6e08e",
   "metadata": {},
   "outputs": [],
   "source": [
    "allplayers.to_csv(path_or_buf = 'allplayers.csv', sep = ',')"
   ]
  },
  {
   "cell_type": "code",
   "execution_count": null,
   "id": "1e53819e",
   "metadata": {},
   "outputs": [],
   "source": []
  }
 ],
 "metadata": {
  "kernelspec": {
   "display_name": "Python 3 (ipykernel)",
   "language": "python",
   "name": "python3"
  },
  "language_info": {
   "codemirror_mode": {
    "name": "ipython",
    "version": 3
   },
   "file_extension": ".py",
   "mimetype": "text/x-python",
   "name": "python",
   "nbconvert_exporter": "python",
   "pygments_lexer": "ipython3",
   "version": "3.8.12"
  }
 },
 "nbformat": 4,
 "nbformat_minor": 5
}
