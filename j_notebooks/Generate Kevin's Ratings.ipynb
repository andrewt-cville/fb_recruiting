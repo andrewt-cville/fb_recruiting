{
 "cells": [
  {
   "cell_type": "code",
   "execution_count": 1,
   "id": "5b22eb92",
   "metadata": {},
   "outputs": [],
   "source": [
    "import queries\n",
    "import csv\n",
    "import functions as fx\n",
    "import pandas as pd"
   ]
  },
  {
   "cell_type": "code",
   "execution_count": 2,
   "id": "45119494",
   "metadata": {},
   "outputs": [
    {
     "name": "stdout",
     "output_type": "stream",
     "text": [
      "974\n",
      "3280\n",
      "11030\n",
      "12824\n",
      "48617\n"
     ]
    }
   ],
   "source": [
    "rankings = [5,4,3,2,1]\n",
    "for ranking in rankings:\n",
    "    query = queries.get_query_KevinRating(ranking)\n",
    "    temp = (fx.connDBAndReturnDF(query))\n",
    "    if (ranking == 5):\n",
    "        fivestars = temp\n",
    "        print(fivestars.shape[0])\n",
    "    elif (ranking == 4):\n",
    "        fourstars = temp.query(\"ID not in @fivestars.ID\")\n",
    "        print(fourstars.shape[0])\n",
    "    elif (ranking == 3):\n",
    "        threestars = temp.query(\"ID not in @fourstars.ID\")\n",
    "        print(threestars.shape[0])\n",
    "    elif (ranking == 2):\n",
    "        twostars = temp.query(\"ID not in @threestars.ID\")\n",
    "        print(twostars.shape[0])\n",
    "    elif (ranking == 1):\n",
    "        onestar = temp.query(\"ID not in @twostars.ID\")\n",
    "        print(onestar.shape[0])\n",
    "    del temp"
   ]
  },
  {
   "cell_type": "code",
   "execution_count": 3,
   "id": "e19955ab",
   "metadata": {},
   "outputs": [
    {
     "name": "stdout",
     "output_type": "stream",
     "text": [
      "76725\n"
     ]
    }
   ],
   "source": [
    "frames = [fivestars, fourstars, threestars, twostars, onestar]\n",
    "allplayers = pd.concat(frames)\n",
    "print(allplayers.shape[0])"
   ]
  },
  {
   "cell_type": "code",
   "execution_count": 5,
   "id": "73a6e08e",
   "metadata": {},
   "outputs": [],
   "source": [
    "allplayers.to_csv(path_or_buf = 'allplayers.csv', sep = ',')"
   ]
  },
  {
   "cell_type": "code",
   "execution_count": null,
   "id": "1e53819e",
   "metadata": {},
   "outputs": [],
   "source": []
  }
 ],
 "metadata": {
  "kernelspec": {
   "display_name": "Python 3 (ipykernel)",
   "language": "python",
   "name": "python3"
  },
  "language_info": {
   "codemirror_mode": {
    "name": "ipython",
    "version": 3
   },
   "file_extension": ".py",
   "mimetype": "text/x-python",
   "name": "python",
   "nbconvert_exporter": "python",
   "pygments_lexer": "ipython3",
   "version": "3.8.12"
  }
 },
 "nbformat": 4,
 "nbformat_minor": 5
}
