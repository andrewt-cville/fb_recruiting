{
 "cells": [
  {
   "cell_type": "code",
   "execution_count": 1,
   "id": "47435c8c",
   "metadata": {},
   "outputs": [],
   "source": [
    "import lux\n",
    "import pandas as pd\n",
    "import functions as fx"
   ]
  },
  {
   "cell_type": "code",
   "execution_count": 4,
   "id": "9ca73ee3",
   "metadata": {},
   "outputs": [
    {
     "name": "stderr",
     "output_type": "stream",
     "text": [
      "/opt/anaconda3/lib/python3.8/site-packages/lux/executor/PandasExecutor.py:256: UserWarning:\n",
      "Lux detects that the attribute 'CompositeRating' maybe contain mixed type.\n",
      "To visualize this attribute, you may want to convert the 'CompositeRating' into a uniform type as follows:\n",
      "\tdf['CompositeRating'] = df['CompositeRating'].astype(str)\n",
      "/opt/anaconda3/lib/python3.8/site-packages/lux/executor/PandasExecutor.py:256: UserWarning:\n",
      "Lux detects that the attribute 'NFLGamesPlayed' maybe contain mixed type.\n",
      "To visualize this attribute, you may want to convert the 'NFLGamesPlayed' into a uniform type as follows:\n",
      "\tdf['NFLGamesPlayed'] = df['NFLGamesPlayed'].astype(str)\n",
      "/opt/anaconda3/lib/python3.8/site-packages/lux/executor/PandasExecutor.py:256: UserWarning:\n",
      "Lux detects that the attribute 'AllConferenceTeam' maybe contain mixed type.\n",
      "To visualize this attribute, you may want to convert the 'AllConferenceTeam' into a uniform type as follows:\n",
      "\tdf['AllConferenceTeam'] = df['AllConferenceTeam'].astype(str)\n",
      "/opt/anaconda3/lib/python3.8/site-packages/lux/executor/PandasExecutor.py:256: UserWarning:\n",
      "Lux detects that the attribute 'AllConferenceTeam' maybe contain mixed type.\n",
      "To visualize this attribute, you may want to convert the 'AllConferenceTeam' into a uniform type as follows:\n",
      "\tdf['AllConferenceTeam'] = df['AllConferenceTeam'].astype(str)\n",
      "/opt/anaconda3/lib/python3.8/site-packages/lux/executor/PandasExecutor.py:256: UserWarning:\n",
      "Lux detects that the attribute 'NFLGamesPlayed' maybe contain mixed type.\n",
      "To visualize this attribute, you may want to convert the 'NFLGamesPlayed' into a uniform type as follows:\n",
      "\tdf['NFLGamesPlayed'] = df['NFLGamesPlayed'].astype(str)\n",
      "/opt/anaconda3/lib/python3.8/site-packages/lux/executor/PandasExecutor.py:256: UserWarning:\n",
      "Lux detects that the attribute 'CompositeRating' maybe contain mixed type.\n",
      "To visualize this attribute, you may want to convert the 'CompositeRating' into a uniform type as follows:\n",
      "\tdf['CompositeRating'] = df['CompositeRating'].astype(str)\n"
     ]
    },
    {
     "data": {
      "application/vnd.jupyter.widget-view+json": {
       "model_id": "d5ed9bd6db934d878e60cb0f8e1f00f8",
       "version_major": 2,
       "version_minor": 0
      },
      "text/plain": [
       "Button(description='Toggle Pandas/Lux', layout=Layout(top='5px', width='140px'), style=ButtonStyle())"
      ]
     },
     "metadata": {},
     "output_type": "display_data"
    },
    {
     "data": {
      "application/vnd.jupyter.widget-view+json": {
       "model_id": "da5b9f24fc1640469b556b65ec7d6c06",
       "version_major": 2,
       "version_minor": 0
      },
      "text/plain": [
       "Output()"
      ]
     },
     "metadata": {},
     "output_type": "display_data"
    }
   ],
   "source": [
    "SQL = '''SELECT * FROM LinkedPlayers'''\n",
    "df = fx.connDBAndReturnDF(SQL)\n",
    "df['Year'] = pd.to_datetime(df['Year'], format='%Y')\n",
    "df"
   ]
  },
  {
   "cell_type": "code",
   "execution_count": null,
   "id": "73acef18",
   "metadata": {},
   "outputs": [],
   "source": []
  }
 ],
 "metadata": {
  "kernelspec": {
   "display_name": "Python 3 (ipykernel)",
   "language": "python",
   "name": "python3"
  },
  "language_info": {
   "codemirror_mode": {
    "name": "ipython",
    "version": 3
   },
   "file_extension": ".py",
   "mimetype": "text/x-python",
   "name": "python",
   "nbconvert_exporter": "python",
   "pygments_lexer": "ipython3",
   "version": "3.8.12"
  }
 },
 "nbformat": 4,
 "nbformat_minor": 5
}
