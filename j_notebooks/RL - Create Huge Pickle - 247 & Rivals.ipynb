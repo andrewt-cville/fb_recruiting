{
 "cells": [
  {
   "cell_type": "markdown",
   "metadata": {},
   "source": [
    "# RecordLinkage Linking - 247 & Rivals\n",
    "\n",
    "> Leveraging the RL library to determine approximate matching over a range of fields using various string methods methods.  This specifically focuses on 247 & Rivals first."
   ]
  },
  {
   "cell_type": "code",
   "execution_count": 1,
   "metadata": {},
   "outputs": [],
   "source": [
    "import json\n",
    "import pandas\n",
    "import time\n",
    "import os\n",
    "import recordlinkage\n",
    "import csv\n",
    "import core_constants as cc\n",
    "import functions as fx\n",
    "\n",
    "#not currently using jellyfish\n",
    "import jellyfish as jf"
   ]
  },
  {
   "cell_type": "markdown",
   "metadata": {},
   "source": [
    "### I don't like having all of this here - should push to functions"
   ]
  },
  {
   "cell_type": "code",
   "execution_count": 2,
   "metadata": {},
   "outputs": [],
   "source": [
    "outputDir = '..//scrapedData//'\n",
    "field_agg = \"_\"\n",
    "\n",
    "## Load the source file dict\n",
    "sourceFiles = json.loads(open('..//config//sourceFiles.json', \"r\").read())\n",
    "\n",
    "## Load the id config\n",
    "idConfig = json.loads(open('..//config//idConfigLink.json', \"r\").read())"
   ]
  },
  {
   "cell_type": "markdown",
   "metadata": {},
   "source": [
    "## Load and Merge Source Files Then Create a List of Dicts for each Dataset\n",
    "> This was originally set up for all of the keys in the sourcefiles.json config.  Since this file is currently only going to serve 247 & Rivals, I've hardcoded the keys to fetch"
   ]
  },
  {
   "cell_type": "code",
   "execution_count": 3,
   "metadata": {},
   "outputs": [],
   "source": [
    "dataset_keys = ['sports247', 'rivals']\n",
    "dfs = []\n",
    "for key in dataset_keys:\n",
    "    vars()[key] = fx.mergeSourceFiles (key, outputDir, sourceFiles)    \n",
    "    dfs.append(vars()[key])"
   ]
  },
  {
   "cell_type": "markdown",
   "metadata": {},
   "source": [
    "## Create New IDs\n",
    "> This isn't elegant and I'd love to basically preprocess these collections prior to this notebook"
   ]
  },
  {
   "cell_type": "code",
   "execution_count": 4,
   "metadata": {},
   "outputs": [
    {
     "name": "stdout",
     "output_type": "stream",
     "text": [
      "['playerName', 'school', 'year']\n",
      "['playerName', 'school', 'year']\n"
     ]
    }
   ],
   "source": [
    "fx.createNewID(idConfig['sports247'], sports247, field_agg)\n",
    "fx.createNewID(idConfig['rivals'], rivals, field_agg)"
   ]
  },
  {
   "cell_type": "markdown",
   "metadata": {},
   "source": [
    "## Create Dataframes\n",
    "> I might move these to their own pickles so I don't constantly have to recreate these each time"
   ]
  },
  {
   "cell_type": "code",
   "execution_count": 5,
   "metadata": {},
   "outputs": [],
   "source": [
    "df_sports247 = pandas.DataFrame(sports247).set_index('ID')\n",
    "df_rivals = pandas.DataFrame(rivals).set_index('ID')"
   ]
  },
  {
   "cell_type": "markdown",
   "metadata": {},
   "source": [
    "## Rename the indexes to something readable and predictable\n",
    "> Otherwise these become 'index' and 'level_0', etc when you start to merge these."
   ]
  },
  {
   "cell_type": "code",
   "execution_count": 6,
   "metadata": {},
   "outputs": [],
   "source": [
    "df_sports247.index.name = '247_ID'\n",
    "df_sports247['ID'] = df_sports247.index\n",
    "df_rivals.index.name = 'rivals_ID'\n",
    "df_rivals['ID'] = df_rivals.index"
   ]
  },
  {
   "cell_type": "markdown",
   "metadata": {},
   "source": [
    "## Create Blockers\n",
    "> I swear this isn't working.  And honestly I guess I'm ok with it not working since I'm doing string operations later on this script.  This usually takes 20+ minutes - so it is doing something..."
   ]
  },
  {
   "cell_type": "code",
   "execution_count": 7,
   "metadata": {},
   "outputs": [],
   "source": [
    "indexer = recordlinkage.BlockIndex(on=['school', 'year'])\n",
    "candidate_links = indexer.index(df_sports247, df_rivals)"
   ]
  },
  {
   "cell_type": "markdown",
   "metadata": {},
   "source": [
    "## Define Features & Generate Comparison Vector Set\n",
    "\n",
    "> These are all pretty straightforward.  The toughest one to assess is position - since the services don't always categorize players in the same way or have the same abbreviation for a single position.  Since this is often only a 2 or 3 letter string, I decided to do an exact match."
   ]
  },
  {
   "cell_type": "code",
   "execution_count": 8,
   "metadata": {},
   "outputs": [],
   "source": [
    "c = recordlinkage.Compare()\n",
    "\n",
    "c.exact('ID', 'ID', label='ID')\n",
    "c.string('playerName', 'playerName', method='damerau_levenshtein', label='playerName')\n",
    "# don't need this since you are now blocking on it\n",
    "#c.string('school', 'school', label='college')\n",
    "c.string('city', 'city', label='city')\n",
    "c.exact('state', 'state', label='state')\n",
    "c.string('highSchool', 'highSchool', label='highSchool')\n",
    "c.exact('position', 'position', label='position')\n",
    "#c.exact('year', 'year', label='year')\n",
    "\n",
    "features = c.compute(candidate_links, df_sports247, df_rivals)"
   ]
  },
  {
   "cell_type": "markdown",
   "metadata": {},
   "source": [
    "## Create Sum\n",
    "> Final value will be between 0 and 1.  Sum represents a %confidence% level during fuzzy matching. Since an exact match on ID dictates a 100% confident match, I've removed that column from the sum."
   ]
  },
  {
   "cell_type": "code",
   "execution_count": 9,
   "metadata": {},
   "outputs": [],
   "source": [
    "features['sum'] = (features['playerName'] + features['city'] + features['state'] + features['highSchool']  + features['position'])/5"
   ]
  },
  {
   "cell_type": "markdown",
   "metadata": {},
   "source": [
    "## Save to Pickle File"
   ]
  },
  {
   "cell_type": "code",
   "execution_count": 10,
   "metadata": {},
   "outputs": [],
   "source": [
    "features.to_pickle(\"features.pkl\")"
   ]
  },
  {
   "cell_type": "markdown",
   "metadata": {},
   "source": [
    "## Optional: Visualize the Feature dataset"
   ]
  },
  {
   "cell_type": "code",
   "execution_count": null,
   "metadata": {},
   "outputs": [],
   "source": [
    "# Nice to see the structured outputs\n",
    "features.describe()"
   ]
  },
  {
   "cell_type": "code",
   "execution_count": null,
   "metadata": {},
   "outputs": [],
   "source": [
    "# Fun to run but not necessary\n",
    "features.boxplot(column=['playerName', 'city', 'state', 'highSchool', 'position'])"
   ]
  },
  {
   "cell_type": "code",
   "execution_count": 11,
   "metadata": {},
   "outputs": [
    {
     "data": {
      "text/html": [
       "<div>\n",
       "<style scoped>\n",
       "    .dataframe tbody tr th:only-of-type {\n",
       "        vertical-align: middle;\n",
       "    }\n",
       "\n",
       "    .dataframe tbody tr th {\n",
       "        vertical-align: top;\n",
       "    }\n",
       "\n",
       "    .dataframe thead th {\n",
       "        text-align: right;\n",
       "    }\n",
       "</style>\n",
       "<table border=\"1\" class=\"dataframe\">\n",
       "  <thead>\n",
       "    <tr style=\"text-align: right;\">\n",
       "      <th></th>\n",
       "      <th></th>\n",
       "      <th>ID</th>\n",
       "      <th>playerName</th>\n",
       "      <th>city</th>\n",
       "      <th>state</th>\n",
       "      <th>highSchool</th>\n",
       "      <th>position</th>\n",
       "      <th>sum</th>\n",
       "    </tr>\n",
       "    <tr>\n",
       "      <th>247_ID</th>\n",
       "      <th>rivals_ID</th>\n",
       "      <th></th>\n",
       "      <th></th>\n",
       "      <th></th>\n",
       "      <th></th>\n",
       "      <th></th>\n",
       "      <th></th>\n",
       "      <th></th>\n",
       "    </tr>\n",
       "  </thead>\n",
       "  <tbody>\n",
       "    <tr>\n",
       "      <th rowspan=\"5\" valign=\"top\">paulthurston_nebraska_2012</th>\n",
       "      <th>tommyarmstrong_nebraska_2012</th>\n",
       "      <td>0</td>\n",
       "      <td>0.285714</td>\n",
       "      <td>0.000000</td>\n",
       "      <td>0</td>\n",
       "      <td>0.090909</td>\n",
       "      <td>0</td>\n",
       "      <td>0.075325</td>\n",
       "    </tr>\n",
       "    <tr>\n",
       "      <th>alonzomoore_nebraska_2012</th>\n",
       "      <td>0</td>\n",
       "      <td>0.166667</td>\n",
       "      <td>0.000000</td>\n",
       "      <td>0</td>\n",
       "      <td>0.125000</td>\n",
       "      <td>0</td>\n",
       "      <td>0.058333</td>\n",
       "    </tr>\n",
       "    <tr>\n",
       "      <th>leroyalexander_nebraska_2012</th>\n",
       "      <td>0</td>\n",
       "      <td>0.000000</td>\n",
       "      <td>0.166667</td>\n",
       "      <td>0</td>\n",
       "      <td>0.090909</td>\n",
       "      <td>0</td>\n",
       "      <td>0.051515</td>\n",
       "    </tr>\n",
       "    <tr>\n",
       "      <th>jaredafalava_nebraska_2012</th>\n",
       "      <td>0</td>\n",
       "      <td>0.083333</td>\n",
       "      <td>0.166667</td>\n",
       "      <td>0</td>\n",
       "      <td>0.090909</td>\n",
       "      <td>0</td>\n",
       "      <td>0.068182</td>\n",
       "    </tr>\n",
       "    <tr>\n",
       "      <th>mohammedseisay_nebraska_2012</th>\n",
       "      <td>0</td>\n",
       "      <td>0.071429</td>\n",
       "      <td>0.000000</td>\n",
       "      <td>0</td>\n",
       "      <td>0.066667</td>\n",
       "      <td>0</td>\n",
       "      <td>0.027619</td>\n",
       "    </tr>\n",
       "  </tbody>\n",
       "</table>\n",
       "</div>"
      ],
      "text/plain": [
       "                                                         ID  playerName  \\\n",
       "247_ID                     rivals_ID                                      \n",
       "paulthurston_nebraska_2012 tommyarmstrong_nebraska_2012   0    0.285714   \n",
       "                           alonzomoore_nebraska_2012      0    0.166667   \n",
       "                           leroyalexander_nebraska_2012   0    0.000000   \n",
       "                           jaredafalava_nebraska_2012     0    0.083333   \n",
       "                           mohammedseisay_nebraska_2012   0    0.071429   \n",
       "\n",
       "                                                             city  state  \\\n",
       "247_ID                     rivals_ID                                       \n",
       "paulthurston_nebraska_2012 tommyarmstrong_nebraska_2012  0.000000      0   \n",
       "                           alonzomoore_nebraska_2012     0.000000      0   \n",
       "                           leroyalexander_nebraska_2012  0.166667      0   \n",
       "                           jaredafalava_nebraska_2012    0.166667      0   \n",
       "                           mohammedseisay_nebraska_2012  0.000000      0   \n",
       "\n",
       "                                                         highSchool  position  \\\n",
       "247_ID                     rivals_ID                                            \n",
       "paulthurston_nebraska_2012 tommyarmstrong_nebraska_2012    0.090909         0   \n",
       "                           alonzomoore_nebraska_2012       0.125000         0   \n",
       "                           leroyalexander_nebraska_2012    0.090909         0   \n",
       "                           jaredafalava_nebraska_2012      0.090909         0   \n",
       "                           mohammedseisay_nebraska_2012    0.066667         0   \n",
       "\n",
       "                                                              sum  \n",
       "247_ID                     rivals_ID                               \n",
       "paulthurston_nebraska_2012 tommyarmstrong_nebraska_2012  0.075325  \n",
       "                           alonzomoore_nebraska_2012     0.058333  \n",
       "                           leroyalexander_nebraska_2012  0.051515  \n",
       "                           jaredafalava_nebraska_2012    0.068182  \n",
       "                           mohammedseisay_nebraska_2012  0.027619  "
      ]
     },
     "execution_count": 11,
     "metadata": {},
     "output_type": "execute_result"
    }
   ],
   "source": [
    "features.head()"
   ]
  },
  {
   "cell_type": "code",
   "execution_count": 13,
   "metadata": {},
   "outputs": [],
   "source": [
    "count = 0\n",
    "filteredList = []\n",
    "noMatch = []\n",
    "\n",
    "features['247_ID'] = features.index.get_level_values(0)\n",
    "features['rivals'] = features.index.get_level_values(1)\n",
    "\n",
    "for idx, data in features.groupby(level=0):\n",
    "    data = data.loc[data['sum'].idxmax()]\n",
    "    if (data['ID'] == 1):\n",
    "        filteredList.append(data)\n",
    "    elif (data['ID'] != 1 and data['sum'] > .6943):\n",
    "        filteredList.append(data)\n",
    "    else:\n",
    "        noMatch.append(data)"
   ]
  },
  {
   "cell_type": "code",
   "execution_count": 14,
   "metadata": {},
   "outputs": [],
   "source": [
    "dfFinal = pandas.DataFrame()\n",
    "dfFinal = dfFinal.append(filteredList)"
   ]
  },
  {
   "cell_type": "code",
   "execution_count": 15,
   "metadata": {},
   "outputs": [],
   "source": [
    "dfFinal.to_csv('final_review.csv')  \n",
    "dfFinal.to_pickle('final_review.pkl')"
   ]
  },
  {
   "cell_type": "code",
   "execution_count": null,
   "metadata": {},
   "outputs": [],
   "source": []
  }
 ],
 "metadata": {
  "kernelspec": {
   "display_name": "Python 3",
   "language": "python",
   "name": "python3"
  },
  "language_info": {
   "codemirror_mode": {
    "name": "ipython",
    "version": 3
   },
   "file_extension": ".py",
   "mimetype": "text/x-python",
   "name": "python",
   "nbconvert_exporter": "python",
   "pygments_lexer": "ipython3",
   "version": "3.8.5"
  }
 },
 "nbformat": 4,
 "nbformat_minor": 4
}
