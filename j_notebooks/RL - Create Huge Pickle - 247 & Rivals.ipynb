{
 "cells": [
  {
   "cell_type": "markdown",
   "metadata": {},
   "source": [
    "# RecordLinkage Linking - 247 & Rivals\n",
    "\n",
    "> Leveraging the RL library to determine approximate matching over a range of fields using various string methods methods.  This specifically focuses on 247 & Rivals first."
   ]
  },
  {
   "cell_type": "code",
   "execution_count": 1,
   "metadata": {},
   "outputs": [],
   "source": [
    "import json\n",
    "import pandas\n",
    "import time\n",
    "import os\n",
    "import recordlinkage\n",
    "import csv\n",
    "import core_constants as cc\n",
    "import functions as fx\n",
    "\n",
    "#not currently using jellyfish\n",
    "import jellyfish as jf"
   ]
  },
  {
   "cell_type": "markdown",
   "metadata": {},
   "source": [
    "### I don't like having all of this here - should push to functions"
   ]
  },
  {
   "cell_type": "code",
   "execution_count": 2,
   "metadata": {},
   "outputs": [],
   "source": [
    "outputDir = '..//scrapedData//'\n",
    "field_agg = \"_\"\n",
    "\n",
    "## Load the source file dict\n",
    "sourceFiles = json.loads(open('..//config//sourceFiles.json', \"r\").read())\n",
    "\n",
    "## Load the id config\n",
    "idConfig = json.loads(open('..//config//idConfigLink.json', \"r\").read())"
   ]
  },
  {
   "cell_type": "markdown",
   "metadata": {},
   "source": [
    "## Load and Merge Source Files Then Create a List of Dicts for each Dataset\n",
    "> This was originally set up for all of the keys in the sourcefiles.json config.  Since this file is currently only going to serve 247 & Rivals, I've hardcoded the keys to fetch"
   ]
  },
  {
   "cell_type": "code",
   "execution_count": 3,
   "metadata": {},
   "outputs": [],
   "source": [
    "dataset_keys = ['sports247', 'rivals']\n",
    "dfs = []\n",
    "for key in dataset_keys:\n",
    "    vars()[key] = fx.mergeSourceFiles (key, outputDir, sourceFiles)    \n",
    "    dfs.append(vars()[key])"
   ]
  },
  {
   "cell_type": "markdown",
   "metadata": {},
   "source": [
    "## Create New IDs\n",
    "> This isn't elegant and I'd love to basically preprocess these collections prior to this notebook"
   ]
  },
  {
   "cell_type": "code",
   "execution_count": 4,
   "metadata": {},
   "outputs": [],
   "source": [
    "fx.createNewID(idConfig['sports247'], sports247, field_agg)\n",
    "fx.createNewID(idConfig['rivals'], rivals, field_agg)"
   ]
  },
  {
   "cell_type": "markdown",
   "metadata": {},
   "source": [
    "## Create Dataframes\n",
    "> I might move these to their own pickles so I don't constantly have to recreate these each time"
   ]
  },
  {
   "cell_type": "code",
   "execution_count": 5,
   "metadata": {},
   "outputs": [],
   "source": [
    "df_sports247 = pandas.DataFrame(sports247).set_index('ID')\n",
    "df_rivals = pandas.DataFrame(rivals).set_index('ID')"
   ]
  },
  {
   "cell_type": "markdown",
   "metadata": {},
   "source": [
    "## Rename the indexes to something readable and predictable\n",
    "> Otherwise these become 'index' and 'level_0', etc when you start to merge these."
   ]
  },
  {
   "cell_type": "code",
   "execution_count": 6,
   "metadata": {},
   "outputs": [],
   "source": [
    "df_sports247.index.name = '247_ID'\n",
    "df_sports247['ID'] = df_sports247.index\n",
    "df_rivals.index.name = 'rivals_ID'\n",
    "df_rivals['ID'] = df_rivals.index"
   ]
  },
  {
   "cell_type": "markdown",
   "metadata": {},
   "source": [
    "## Create Blockers\n",
    "> I swear this isn't working.  And honestly I guess I'm ok with it not working since I'm doing string operations later on this script.  This usually takes 20+ minutes - so it is doing something..."
   ]
  },
  {
   "cell_type": "code",
   "execution_count": 7,
   "metadata": {},
   "outputs": [],
   "source": [
    "indexer = recordlinkage.BlockIndex(on=['school', 'year'])\n",
    "candidate_links = indexer.index(df_sports247, df_rivals)"
   ]
  },
  {
   "cell_type": "markdown",
   "metadata": {},
   "source": [
    "## Define Features & Generate Comparison Vector Set\n",
    "\n",
    "> These are all pretty straightforward.  The toughest one to assess is position - since the services don't always categorize players in the same way or have the same abbreviation for a single position.  Since this is often only a 2 or 3 letter string, I decided to do an exact match."
   ]
  },
  {
   "cell_type": "code",
   "execution_count": 8,
   "metadata": {},
   "outputs": [],
   "source": [
    "c = recordlinkage.Compare()\n",
    "\n",
    "c.exact('ID', 'ID', label='ID')\n",
    "c.string('playerName', 'playerName', method='damerau_levenshtein', label='playerName')\n",
    "c.string('school', 'school', label='college')\n",
    "c.string('city', 'city', label='city')\n",
    "c.exact('state', 'state', label='state')\n",
    "c.string('highSchool', 'highSchool', label='highSchool')\n",
    "c.exact('position', 'position', label='position')\n",
    "c.exact('year', 'year', label='year')\n",
    "\n",
    "features = c.compute(candidate_links, df_sports247, df_rivals)"
   ]
  },
  {
   "cell_type": "markdown",
   "metadata": {},
   "source": [
    "## Create Sum\n",
    "> Final value will be between 0 and 1.  Sum represents a %confidence% level during fuzzy matching. Since an exact match on ID dictates a 100% confident match, I've removed that column from the sum."
   ]
  },
  {
   "cell_type": "code",
   "execution_count": 9,
   "metadata": {},
   "outputs": [],
   "source": [
    "features['sum'] = (features['playerName'] + features['college'] + features['city'] + features['state'] + features['highSchool'] + features['year'] + features['position'])/7"
   ]
  },
  {
   "cell_type": "markdown",
   "metadata": {},
   "source": [
    "## Save to Pickle File"
   ]
  },
  {
   "cell_type": "code",
   "execution_count": 10,
   "metadata": {},
   "outputs": [],
   "source": [
    "features.to_pickle(\"features.pkl\")"
   ]
  },
  {
   "cell_type": "markdown",
   "metadata": {},
   "source": [
    "## Optional: Visualize the Feature dataset"
   ]
  },
  {
   "cell_type": "code",
   "execution_count": 11,
   "metadata": {},
   "outputs": [
    {
     "data": {
      "text/html": [
       "<div>\n",
       "<style scoped>\n",
       "    .dataframe tbody tr th:only-of-type {\n",
       "        vertical-align: middle;\n",
       "    }\n",
       "\n",
       "    .dataframe tbody tr th {\n",
       "        vertical-align: top;\n",
       "    }\n",
       "\n",
       "    .dataframe thead th {\n",
       "        text-align: right;\n",
       "    }\n",
       "</style>\n",
       "<table border=\"1\" class=\"dataframe\">\n",
       "  <thead>\n",
       "    <tr style=\"text-align: right;\">\n",
       "      <th></th>\n",
       "      <th>ID</th>\n",
       "      <th>playerName</th>\n",
       "      <th>college</th>\n",
       "      <th>city</th>\n",
       "      <th>state</th>\n",
       "      <th>highSchool</th>\n",
       "      <th>position</th>\n",
       "      <th>year</th>\n",
       "      <th>sum</th>\n",
       "    </tr>\n",
       "  </thead>\n",
       "  <tbody>\n",
       "    <tr>\n",
       "      <th>count</th>\n",
       "      <td>1.052773e+06</td>\n",
       "      <td>1.052773e+06</td>\n",
       "      <td>1052773.0</td>\n",
       "      <td>1.052773e+06</td>\n",
       "      <td>1.052773e+06</td>\n",
       "      <td>1.052773e+06</td>\n",
       "      <td>1.052773e+06</td>\n",
       "      <td>1052773.0</td>\n",
       "      <td>1.052773e+06</td>\n",
       "    </tr>\n",
       "    <tr>\n",
       "      <th>mean</th>\n",
       "      <td>3.848123e-02</td>\n",
       "      <td>1.866900e-01</td>\n",
       "      <td>1.0</td>\n",
       "      <td>1.728699e-01</td>\n",
       "      <td>2.988754e-01</td>\n",
       "      <td>1.604008e-01</td>\n",
       "      <td>3.860186e-02</td>\n",
       "      <td>1.0</td>\n",
       "      <td>4.082054e-01</td>\n",
       "    </tr>\n",
       "    <tr>\n",
       "      <th>std</th>\n",
       "      <td>1.923550e-01</td>\n",
       "      <td>1.888341e-01</td>\n",
       "      <td>0.0</td>\n",
       "      <td>2.131293e-01</td>\n",
       "      <td>4.577653e-01</td>\n",
       "      <td>1.874413e-01</td>\n",
       "      <td>1.926442e-01</td>\n",
       "      <td>0.0</td>\n",
       "      <td>1.221815e-01</td>\n",
       "    </tr>\n",
       "    <tr>\n",
       "      <th>min</th>\n",
       "      <td>0.000000e+00</td>\n",
       "      <td>0.000000e+00</td>\n",
       "      <td>1.0</td>\n",
       "      <td>0.000000e+00</td>\n",
       "      <td>0.000000e+00</td>\n",
       "      <td>0.000000e+00</td>\n",
       "      <td>0.000000e+00</td>\n",
       "      <td>1.0</td>\n",
       "      <td>2.857143e-01</td>\n",
       "    </tr>\n",
       "    <tr>\n",
       "      <th>25%</th>\n",
       "      <td>0.000000e+00</td>\n",
       "      <td>8.333333e-02</td>\n",
       "      <td>1.0</td>\n",
       "      <td>7.692308e-02</td>\n",
       "      <td>0.000000e+00</td>\n",
       "      <td>7.142857e-02</td>\n",
       "      <td>0.000000e+00</td>\n",
       "      <td>1.0</td>\n",
       "      <td>3.344156e-01</td>\n",
       "    </tr>\n",
       "    <tr>\n",
       "      <th>50%</th>\n",
       "      <td>0.000000e+00</td>\n",
       "      <td>1.538462e-01</td>\n",
       "      <td>1.0</td>\n",
       "      <td>1.250000e-01</td>\n",
       "      <td>0.000000e+00</td>\n",
       "      <td>1.250000e-01</td>\n",
       "      <td>0.000000e+00</td>\n",
       "      <td>1.0</td>\n",
       "      <td>3.572503e-01</td>\n",
       "    </tr>\n",
       "    <tr>\n",
       "      <th>75%</th>\n",
       "      <td>0.000000e+00</td>\n",
       "      <td>2.142857e-01</td>\n",
       "      <td>1.0</td>\n",
       "      <td>2.000000e-01</td>\n",
       "      <td>1.000000e+00</td>\n",
       "      <td>1.875000e-01</td>\n",
       "      <td>0.000000e+00</td>\n",
       "      <td>1.0</td>\n",
       "      <td>4.710884e-01</td>\n",
       "    </tr>\n",
       "    <tr>\n",
       "      <th>max</th>\n",
       "      <td>1.000000e+00</td>\n",
       "      <td>1.000000e+00</td>\n",
       "      <td>1.0</td>\n",
       "      <td>1.000000e+00</td>\n",
       "      <td>1.000000e+00</td>\n",
       "      <td>1.000000e+00</td>\n",
       "      <td>1.000000e+00</td>\n",
       "      <td>1.0</td>\n",
       "      <td>1.000000e+00</td>\n",
       "    </tr>\n",
       "  </tbody>\n",
       "</table>\n",
       "</div>"
      ],
      "text/plain": [
       "                 ID    playerName    college          city         state  \\\n",
       "count  1.052773e+06  1.052773e+06  1052773.0  1.052773e+06  1.052773e+06   \n",
       "mean   3.848123e-02  1.866900e-01        1.0  1.728699e-01  2.988754e-01   \n",
       "std    1.923550e-01  1.888341e-01        0.0  2.131293e-01  4.577653e-01   \n",
       "min    0.000000e+00  0.000000e+00        1.0  0.000000e+00  0.000000e+00   \n",
       "25%    0.000000e+00  8.333333e-02        1.0  7.692308e-02  0.000000e+00   \n",
       "50%    0.000000e+00  1.538462e-01        1.0  1.250000e-01  0.000000e+00   \n",
       "75%    0.000000e+00  2.142857e-01        1.0  2.000000e-01  1.000000e+00   \n",
       "max    1.000000e+00  1.000000e+00        1.0  1.000000e+00  1.000000e+00   \n",
       "\n",
       "         highSchool      position       year           sum  \n",
       "count  1.052773e+06  1.052773e+06  1052773.0  1.052773e+06  \n",
       "mean   1.604008e-01  3.860186e-02        1.0  4.082054e-01  \n",
       "std    1.874413e-01  1.926442e-01        0.0  1.221815e-01  \n",
       "min    0.000000e+00  0.000000e+00        1.0  2.857143e-01  \n",
       "25%    7.142857e-02  0.000000e+00        1.0  3.344156e-01  \n",
       "50%    1.250000e-01  0.000000e+00        1.0  3.572503e-01  \n",
       "75%    1.875000e-01  0.000000e+00        1.0  4.710884e-01  \n",
       "max    1.000000e+00  1.000000e+00        1.0  1.000000e+00  "
      ]
     },
     "execution_count": 11,
     "metadata": {},
     "output_type": "execute_result"
    }
   ],
   "source": [
    "# Nice to see the structured outputs\n",
    "features.describe()"
   ]
  },
  {
   "cell_type": "code",
   "execution_count": 12,
   "metadata": {},
   "outputs": [
    {
     "data": {
      "text/plain": [
       "<AxesSubplot:>"
      ]
     },
     "execution_count": 12,
     "metadata": {},
     "output_type": "execute_result"
    },
    {
     "data": {
      "image/png": "[encoded data removed]",
      "text/plain": [
       "<Figure size 432x288 with 1 Axes>"
      ]
     },
     "metadata": {
      "needs_background": "light"
     },
     "output_type": "display_data"
    }
   ],
   "source": [
    "# Fun to run but not necessary\n",
    "features.boxplot(column=['playerName', 'college', 'city', 'state', 'highSchool', 'position', 'year'])"
   ]
  }
 ],
 "metadata": {
  "kernelspec": {
   "display_name": "Python 3",
   "language": "python",
   "name": "python3"
  },
  "language_info": {
   "codemirror_mode": {
    "name": "ipython",
    "version": 3
   },
   "file_extension": ".py",
   "mimetype": "text/x-python",
   "name": "python",
   "nbconvert_exporter": "python",
   "pygments_lexer": "ipython3",
   "version": "3.8.5"
  }
 },
 "nbformat": 4,
 "nbformat_minor": 4
}
