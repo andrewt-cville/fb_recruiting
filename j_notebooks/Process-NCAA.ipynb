{
 "cells": [
  {
   "cell_type": "code",
   "execution_count": null,
   "metadata": {},
   "outputs": [],
   "source": [
    "from bs4 import BeautifulSoup\n",
    "import requests\n",
    "import lxml\n",
    "import time\n",
    "import json\n",
    "import os\n",
    "from os import path\n",
    "import io"
   ]
  },
  {
   "cell_type": "code",
   "execution_count": null,
   "metadata": {},
   "outputs": [],
   "source": [
    "#available conferences: bigtwelve, bigten, sec\n",
    "#don't need to include schools.json here cause schools['json'] = schools['id']\n",
    "conferences = ['bigten', 'bigtwelve', 'sec', 'acc', 'pactwelve']"
   ]
  },
  {
   "cell_type": "code",
   "execution_count": null,
   "metadata": {},
   "outputs": [],
   "source": [
    "all_players = []\n",
    "for conf in conferences:\n",
    "    rosterDir = \"..//html//ncaa//\" + conf + \"//rosters//\"\n",
    "    for file in os.listdir(rosterDir):\n",
    "        gameSoup = BeautifulSoup(open(rosterDir + file, \"r\", encoding='utf-8').read(), 'lxml')\n",
    "        for x in gameSoup.find_all(\"tr\", class_=\"\"): \n",
    "            count = 0\n",
    "            player={}\n",
    "            player['team'] = file.split(\"_\")[0]\n",
    "            player['year'] = file.split(\"_\")[1].split(\".\")[0]\n",
    "            for z in x.find_all(\"td\"):\n",
    "                if (count == 1):\n",
    "                    player['name'] = z.text.strip()\n",
    "                elif (count == 2):\n",
    "                    player['position'] = z.text.strip()\n",
    "                elif (count == 4):\n",
    "                    player['gamesPlayed'] = z.text.strip()\n",
    "                elif (count == 5):\n",
    "                    player['gamesStarted'] = z.text.strip()\n",
    "                count = count + 1\n",
    "            all_players.append(player)"
   ]
  },
  {
   "cell_type": "code",
   "execution_count": null,
   "metadata": {},
   "outputs": [
    {
     "name": "stderr",
     "output_type": "stream",
     "text": [
      "IOPub data rate exceeded.\n",
      "The notebook server will temporarily stop sending output\n",
      "to the client in order to avoid crashing it.\n",
      "To change this limit, set the config variable\n",
      "`--NotebookApp.iopub_data_rate_limit`.\n",
      "\n",
      "Current values:\n",
      "NotebookApp.iopub_data_rate_limit=1000000.0 (bytes/sec)\n",
      "NotebookApp.rate_limit_window=3.0 (secs)\n",
      "\n"
     ]
    }
   ],
   "source": [
    "for player in all_players:\n",
    "    newName = player['name'].split(',')\n",
    "    player['name'] = newName[1].strip() + ' ' + newName[0].strip()\n",
    "\n",
    "print(all_players)"
   ]
  },
  {
   "cell_type": "code",
   "execution_count": null,
   "metadata": {},
   "outputs": [],
   "source": [
    "with open(\"..//scrapedData//ncaa.json\", \"w\", encoding=\"utf-8\") as write_file:\n",
    "                write_file.write(json.dumps(all_players))"
   ]
  },
  {
   "cell_type": "code",
   "execution_count": null,
   "metadata": {},
   "outputs": [],
   "source": []
  }
 ],
 "metadata": {
  "kernelspec": {
   "display_name": "Python 3",
   "language": "python",
   "name": "python3"
  }
 },
 "nbformat": 4,
 "nbformat_minor": 4
}
