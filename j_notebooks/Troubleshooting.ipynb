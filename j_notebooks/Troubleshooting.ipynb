{
 "cells": [
  {
   "cell_type": "code",
   "execution_count": 4,
   "id": "24aa7cf1",
   "metadata": {},
   "outputs": [],
   "source": [
    "#hide\n",
    "import core_constants as cc\n",
    "import functions as fx\n",
    "import requests\n",
    "from bs4 import BeautifulSoup\n",
    "import lxml\n",
    "import time\n",
    "import json\n",
    "import pandas as pd\n",
    "import sqlite3 as sql\n",
    "import recordlinkage\n",
    "import csv"
   ]
  },
  {
   "cell_type": "code",
   "execution_count": 5,
   "id": "0600d0c2",
   "metadata": {},
   "outputs": [],
   "source": [
    "def handle_allAmerican(years, headers, sleepyTime=5):\n",
    "    all_players = []\n",
    "    for y in years: \n",
    "        url = 'https://en.wikipedia.org/wiki/{}_College_Football_All-America_Team'.format(y)\n",
    "        r = requests.get(url, headers=headers)\n",
    "        aaSoup = BeautifulSoup(r.text, 'lxml')\n",
    "        for x in aaSoup.find_all(\"li\", class_=\"\"):\n",
    "            try:\n",
    "                print(x)\n",
    "                player = []\n",
    "                if ((\",\") in x.text and (\"(\") in x.text and (\")\") in x.text and (\"{\") not in x.text \\\n",
    "                    and (\"Archived\") not in x.text and (\"Gridiron\") not in x.text and (\"edited\") not in x.text \\\n",
    "                    and (\"all-purpose\") not in x.text and (\"Football\") not in x.text and (\"Foundation\") not in x.text):\n",
    "                    playerInfo = x.text.split(\",\", 1)\n",
    "                    #year\n",
    "                    player.append(int(y))\n",
    "                    #Name\n",
    "                    player.append(playerInfo[0])\n",
    "                    playerLocationAwards = playerInfo[1].split(\"(\",1)\n",
    "\n",
    "                    #School\n",
    "                    if (\"CONSENSUS\" in x.text):\n",
    "                        playerLocationAwards[0] = playerLocationAwards[0].replace(\"-- CONSENSUS --\", \"\")\n",
    "                    elif (\"UNANIMOUS\" in x.text):\n",
    "                        playerLocationAwards[0] = playerLocationAwards[0].replace(\"-- UNANIMOUS --\", \"\")\n",
    "                    playerLocationAwards[0] = playerLocationAwards[0].lower()\n",
    "                    if ('miami' in playerLocationAwards[0]):\n",
    "                        playerLocationAwards[0] = 'miamifl'\n",
    "                    player.append(playerLocationAwards[0].strip().replace(',',''))\n",
    "                    #Awards String\n",
    "                    awardString = playerLocationAwards[1]\n",
    "                    # This sets AllAmericanBest = 1\n",
    "                    player.append(1)\n",
    "                    # No one cares about which All American team they made - and new categories are randomly added\n",
    "                    # Commenting out the below in case you ever want to bring it back.\n",
    "                    #coaches (AFCA)\n",
    "                    \n",
    "            except:\n",
    "                print('Error: ' + x)\n",
    "    time.sleep(sleepyTime)\n",
    "\n",
    "    final_aaSelections = []\n",
    "    aa_keys = ['Year', 'PlayerName', 'College', 'AllAmericanBest']\n",
    "\n",
    "    for list in all_players:\n",
    "        newdict = {aa_keys[i]: list[i] for i in range(len(aa_keys))}\n",
    "        newdict['College'] = normalizeAACollege(newdict['College'], cc.get_schoolsList())\n",
    "\n",
    "        final_aaSelections.append(newdict)\n",
    "        newdict = {}\n",
    "    \n",
    "    \n",
    "    return final_aaSelections"
   ]
  },
  {
   "cell_type": "code",
   "execution_count": 6,
   "id": "9d178249",
   "metadata": {},
   "outputs": [],
   "source": [
    "aa = handle_allAmerican(['2021'], cc.get_header())"
   ]
  },
  {
   "cell_type": "code",
   "execution_count": 7,
   "id": "259449f0",
   "metadata": {},
   "outputs": [
    {
     "name": "stdout",
     "output_type": "stream",
     "text": [
      "[]\n"
     ]
    }
   ],
   "source": [
    "print(aa)"
   ]
  },
  {
   "cell_type": "code",
   "execution_count": null,
   "id": "df67e09c",
   "metadata": {},
   "outputs": [],
   "source": []
  }
 ],
 "metadata": {
  "kernelspec": {
   "display_name": "Python 3 (ipykernel)",
   "language": "python",
   "name": "python3"
  },
  "language_info": {
   "codemirror_mode": {
    "name": "ipython",
    "version": 3
   },
   "file_extension": ".py",
   "mimetype": "text/x-python",
   "name": "python",
   "nbconvert_exporter": "python",
   "pygments_lexer": "ipython3",
   "version": "3.8.12"
  }
 },
 "nbformat": 4,
 "nbformat_minor": 5
}
