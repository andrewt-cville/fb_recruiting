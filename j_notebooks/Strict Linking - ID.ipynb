{
 "cells": [
  {
   "cell_type": "markdown",
   "metadata": {},
   "source": [
    "# Strict Linking - ID\n",
    "\n",
    "> This is very simple linking based on exact ID match between all of the datasets."
   ]
  },
  {
   "cell_type": "code",
   "execution_count": 1,
   "metadata": {},
   "outputs": [],
   "source": [
    "import json\n",
    "import pandas\n",
    "import time\n",
    "import os\n",
    "import csv\n",
    "from functools import reduce\n",
    "import functions as fx\n",
    "import core_constants as cc\n",
    "import pandas as pd\n",
    "import sqlite3 as sql"
   ]
  },
  {
   "cell_type": "markdown",
   "metadata": {},
   "source": [
    "### Load the Summarized Files\n",
    "\n",
    "> These are files that only return ID + the fields that I want in the final printout"
   ]
  },
  {
   "cell_type": "code",
   "execution_count": null,
   "metadata": {},
   "outputs": [],
   "source": [
    "summarizedDir = '..//summarizedData//'\n",
    "\n",
    "## Load the source file dict\n",
    "summarizedFiles = json.loads(open('..//config//summarizedFiles.json', \"r\").read())"
   ]
  },
  {
   "cell_type": "markdown",
   "metadata": {},
   "source": [
    "### Process the Summarized Files\n",
    "\n",
    "> We are going to put these files into a DataFrame and then add them all to a single list.  The print out then is all of the keys we are processing per the summarizedFiles.json file."
   ]
  },
  {
   "cell_type": "markdown",
   "metadata": {},
   "source": [
    "1. Load IDs of target dataset, along with keydataset into separate dataframes\n",
    "2. Use the code below to join the dataframes - there will be column name collisions\n",
    "3. Take the dictionary - append the manual KeyLinkType, KeyDataSet, possibly a set Confidence level?\n",
    "4. Insert the dictionary into the RecordLinks database table\n",
    "5. Remove the CSV write\n",
    "6. Figure out how Views work and make sure to trigger a rewrite of the view with all of the expected views of the final dataset"
   ]
  },
  {
   "cell_type": "markdown",
   "metadata": {},
   "source": [
    "dfs = []\n",
    "keys = ['Sports247', 'AllConference', 'AllAmerican', 'NFL', 'NCAA']\n",
    "for item in keys:\n",
    "    SQL_Query = 'SELECT ID, school FROM ' + item\n",
    "    vars()[item] = fx.connDBAndReturnDF(SQL_Query)\n",
    "    dfs.append(vars()[item])"
   ]
  },
  {
   "cell_type": "code",
   "execution_count": null,
   "metadata": {},
   "outputs": [
    {
     "data": {
      "text/html": [
       "<div>\n",
       "<style scoped>\n",
       "    .dataframe tbody tr th:only-of-type {\n",
       "        vertical-align: middle;\n",
       "    }\n",
       "\n",
       "    .dataframe tbody tr th {\n",
       "        vertical-align: top;\n",
       "    }\n",
       "\n",
       "    .dataframe thead th {\n",
       "        text-align: right;\n",
       "    }\n",
       "</style>\n",
       "<table border=\"1\" class=\"dataframe\">\n",
       "  <thead>\n",
       "    <tr style=\"text-align: right;\">\n",
       "      <th></th>\n",
       "      <th>ID</th>\n",
       "    </tr>\n",
       "  </thead>\n",
       "  <tbody>\n",
       "    <tr>\n",
       "      <th>0</th>\n",
       "      <td>paulthurston_nebraska</td>\n",
       "    </tr>\n",
       "    <tr>\n",
       "      <th>1</th>\n",
       "      <td>gregmcmullen_nebraska</td>\n",
       "    </tr>\n",
       "    <tr>\n",
       "      <th>2</th>\n",
       "      <td>jordanwesterkamp_nebraska</td>\n",
       "    </tr>\n",
       "    <tr>\n",
       "      <th>3</th>\n",
       "      <td>imanicross_nebraska</td>\n",
       "    </tr>\n",
       "    <tr>\n",
       "      <th>4</th>\n",
       "      <td>tommyarmstrong_nebraska</td>\n",
       "    </tr>\n",
       "  </tbody>\n",
       "</table>\n",
       "</div>"
      ],
      "text/plain": [
       "                          ID\n",
       "0      paulthurston_nebraska\n",
       "1      gregmcmullen_nebraska\n",
       "2  jordanwesterkamp_nebraska\n",
       "3        imanicross_nebraska\n",
       "4    tommyarmstrong_nebraska"
      ]
     },
     "execution_count": null,
     "metadata": {},
     "output_type": "execute_result"
    }
   ],
   "source": [
    "Sports247.head()"
   ]
  },
  {
   "cell_type": "markdown",
   "metadata": {},
   "source": [
    "dfs = []\n",
    "for key in summarizedFiles.keys():\n",
    "    vars()[key] = pandas.DataFrame(json.loads(open(summarizedDir + summarizedFiles[key][0], \"r\", encoding=\"utf-8\").read()))\n",
    "    dfs.append(vars()[key])\n",
    "    "
   ]
  },
  {
   "cell_type": "markdown",
   "metadata": {},
   "source": [
    "### Run the Strict Linking on ID\n",
    "\n",
    "> This is so cool - first time I've ever used lambda as well.  Compares each DFS by a similar field then joins them all into a single DF.  \n",
    "\n",
    "###### Src: https://stackoverflow.com/questions/23668427/pandas-three-way-joining-multiple-dataframes-on-columns"
   ]
  },
  {
   "cell_type": "code",
   "execution_count": null,
   "metadata": {},
   "outputs": [],
   "source": [
    "df_final = reduce(lambda left,right: pandas.merge(left,right,how=\"left\", on='ID'), dfs)\n",
    "df_final.head()"
   ]
  },
  {
   "cell_type": "code",
   "execution_count": null,
   "metadata": {},
   "outputs": [],
   "source": []
  },
  {
   "cell_type": "markdown",
   "metadata": {},
   "source": [
    "### Save it to a CSV\n",
    "\n",
    "> Ideally this will all write to a db eventually but for now we are writing out to a CSV file for import to a stats program"
   ]
  },
  {
   "cell_type": "code",
   "execution_count": null,
   "metadata": {},
   "outputs": [],
   "source": [
    "with open(\"..//linkedPlayers.csv\", \"w\", encoding=\"utf-8\") as write_file:\n",
    "                write_file.write(df_final.to_csv())"
   ]
  },
  {
   "cell_type": "markdown",
   "metadata": {},
   "source": [
    "# SCRATCHPAD!\n",
    "\n",
    "> The below needs to be cleaned up but it works and successfully writes out all fo the records to the RecordLinks table."
   ]
  },
  {
   "cell_type": "code",
   "execution_count": 5,
   "metadata": {},
   "outputs": [
    {
     "name": "stdout",
     "output_type": "stream",
     "text": [
      "Connected to SQLite\n",
      "(5,)\n",
      "24949\n"
     ]
    }
   ],
   "source": [
    "\n",
    "conn = sql.connect(cc.databaseName)\n",
    "c = conn.cursor()\n",
    "print(\"Connected to SQLite\")\n",
    "\n",
    "\n",
    "keys = ['NCAA']\n",
    "for key in keys:\n",
    "    ## Get the KeyDataSet\n",
    "    d_tuple = [key]\n",
    "    dataset = c.execute('select KeyDataSet from DataSet where DataSet = ?', d_tuple)\n",
    "    keydataset = c.fetchone()\n",
    "    ## Load all of the IDs\n",
    "    dataset_tuple = [keydataset[0]]\n",
    "    print(keydataset)\n",
    "    if(keydataset[0] != 5):\n",
    "        fetchIds = c.execute('SELECT a.ID from SourcedPlayers a inner join SourcedPlayers b on (a.ID = b.ID and b.KeyDataSet = 1) where a.KeyDataSet = ?', dataset_tuple)\n",
    "    else:\n",
    "        fetchIds = c.execute('SELECT DISTINCT a.ID from SummarizedNCAAData a inner join SourcedPlayers b on (a.ID = b.ID and b.KeyDataSet = 1)')\n",
    "    records = c.fetchall()\n",
    "    print(len(records))\n",
    "    \n",
    "    ## Insert records into the RecordLinks table, \n",
    "    for record in records:\n",
    "        sqlite_insert_query = \"\"\"INSERT INTO RecordLinks\n",
    "                              (MasterID, TargetID, KeyDataSet, KeyLinkType, LinkConfidence) \n",
    "                               VALUES \n",
    "                              (?,?,?,2,1);\"\"\"\n",
    "        data_tuple = [record[0],record[0],keydataset[0]]\n",
    "        count = c.execute(sqlite_insert_query, data_tuple)\n",
    "        conn.commit()\n"
   ]
  },
  {
   "cell_type": "code",
   "execution_count": null,
   "metadata": {},
   "outputs": [],
   "source": []
  }
 ],
 "metadata": {
  "kernelspec": {
   "display_name": "Python 3 (ipykernel)",
   "language": "python",
   "name": "python3"
  },
  "language_info": {
   "codemirror_mode": {
    "name": "ipython",
    "version": 3
   },
   "file_extension": ".py",
   "mimetype": "text/x-python",
   "name": "python",
   "nbconvert_exporter": "python",
   "pygments_lexer": "ipython3",
   "version": "3.8.12"
  }
 },
 "nbformat": 4,
 "nbformat_minor": 4
}
