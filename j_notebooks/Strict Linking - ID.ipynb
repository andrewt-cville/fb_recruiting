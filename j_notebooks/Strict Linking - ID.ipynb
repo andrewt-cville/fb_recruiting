{
 "cells": [
  {
   "cell_type": "markdown",
   "metadata": {},
   "source": [
    "# Strict Linking - ID\n",
    "\n",
    "> This is very simple linking based on exact ID match between all of the datasets."
   ]
  },
  {
   "cell_type": "code",
   "execution_count": null,
   "metadata": {},
   "outputs": [],
   "source": [
    "import json\n",
    "import pandas\n",
    "import time\n",
    "import os\n",
    "import csv\n",
    "from functools import reduce"
   ]
  },
  {
   "cell_type": "markdown",
   "metadata": {},
   "source": [
    "### Load the Summarized Files\n",
    "\n",
    "> These are files that only return ID + the fields that I want in the final printout"
   ]
  },
  {
   "cell_type": "code",
   "execution_count": null,
   "metadata": {},
   "outputs": [],
   "source": [
    "summarizedDir = '..//summarizedData//'\n",
    "\n",
    "## Load the source file dict\n",
    "summarizedFiles = json.loads(open('..//config//summarizedFiles.json', \"r\").read())"
   ]
  },
  {
   "cell_type": "markdown",
   "metadata": {},
   "source": [
    "### Process the Summarized Files\n",
    "\n",
    "> We are going to put these files into a DataFrame and then add them all to a single list.  The print out then is all of the keys we are processing per the summarizedFiles.json file."
   ]
  },
  {
   "cell_type": "code",
   "execution_count": null,
   "metadata": {},
   "outputs": [],
   "source": [
    "dfs = []\n",
    "for key in summarizedFiles.keys():\n",
    "    print(key)\n",
    "    vars()[key] = pandas.DataFrame(json.loads(open(summarizedDir + summarizedFiles[key][0], \"r\", encoding=\"utf-8\").read()))\n",
    "    dfs.append(vars()[key])\n",
    "    "
   ]
  },
  {
   "cell_type": "markdown",
   "metadata": {},
   "source": [
    "### Run the Strict Linking on ID\n",
    "\n",
    "> This is so cool - first time I've ever used lambda as well.  Compares each DFS by a similar field then joins them all into a single DF.  \n",
    "\n",
    "###### Src: https://stackoverflow.com/questions/23668427/pandas-three-way-joining-multiple-dataframes-on-columns"
   ]
  },
  {
   "cell_type": "code",
   "execution_count": null,
   "metadata": {},
   "outputs": [],
   "source": [
    "df_final = reduce(lambda left,right: pandas.merge(left,right,how=\"left\", on='ID'), dfs)\n",
    "df_final.head()"
   ]
  },
  {
   "cell_type": "markdown",
   "metadata": {},
   "source": [
    "### Save it to a CSV\n",
    "\n",
    "> Ideally this will all write to a db eventually but for now we are writing out to a CSV file for import to a stats program"
   ]
  },
  {
   "cell_type": "code",
   "execution_count": null,
   "metadata": {},
   "outputs": [],
   "source": [
    "with open(\"..//linkedPlayers.csv\", \"w\", encoding=\"utf-8\") as write_file:\n",
    "                write_file.write(df_final.to_csv())"
   ]
  }
 ],
 "metadata": {
  "kernelspec": {
   "display_name": "Python 3",
   "language": "python",
   "name": "python3"
  }
 },
 "nbformat": 4,
 "nbformat_minor": 4
}
