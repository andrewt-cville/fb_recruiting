{
 "cells": [
  {
   "cell_type": "markdown",
   "id": "b01e97c0",
   "metadata": {},
   "source": [
    "# NFL Transfers"
   ]
  },
  {
   "cell_type": "code",
   "execution_count": null,
   "id": "ddc56a97",
   "metadata": {},
   "outputs": [],
   "source": [
    "import json\n",
    "import core_constants as cc\n",
    "import functions as fx\n",
    "import pandas as pd\n",
    "import sqlite3 as sql\n",
    "import recordlinkage\n",
    "import queries"
   ]
  },
  {
   "cell_type": "markdown",
   "id": "d4c67d2a",
   "metadata": {},
   "source": [
    "## Build out DataFrames"
   ]
  },
  {
   "cell_type": "code",
   "execution_count": null,
   "id": "3e74a98f",
   "metadata": {},
   "outputs": [],
   "source": [
    "ranked = False\n",
    "query = queries.get_query_Transfers247(ranked)\n",
    "df_247 = (fx.connDBAndReturnDF(query)).set_index('IDYR')\n",
    "df_247.index.name = '247_IDYR'\n",
    "df_247"
   ]
  },
  {
   "cell_type": "code",
   "execution_count": null,
   "id": "20d33762",
   "metadata": {},
   "outputs": [],
   "source": [
    "year = '2004'\n",
    "query = queries.get_query_UnlinkedNFL(year)\n",
    "df_nfl = (fx.connDBAndReturnDF(query)).set_index('ID')\n",
    "df_nfl.index.name = 'NFL_ID'\n",
    "df_nfl"
   ]
  },
  {
   "cell_type": "code",
   "execution_count": null,
   "id": "81454b85",
   "metadata": {},
   "outputs": [],
   "source": [
    "indexer = recordlinkage.Index()\n",
    "indexer = recordlinkage.BlockIndex(on=['KeyPositionGroup'])"
   ]
  },
  {
   "cell_type": "code",
   "execution_count": null,
   "id": "6ee0870b",
   "metadata": {},
   "outputs": [],
   "source": [
    "pairs = indexer.index(df_nfl, df_247)"
   ]
  },
  {
   "cell_type": "code",
   "execution_count": null,
   "id": "fd228f06",
   "metadata": {},
   "outputs": [],
   "source": [
    "from functions import YearNFL\n",
    "\n",
    "sumFields = []\n",
    "c = recordlinkage.Compare()\n",
    "c.string('PlayerName', 'PlayerName', method='damerau_levenshtein', label='PlayerName')\n",
    "sumFields.append('PlayerName')\n",
    "c.exact('StandardizedPosition', 'StandardizedPosition', label='StandardizedPosition')\n",
    "sumFields.append('StandardizedPosition')\n",
    "c.exact('KeyPositionGroup', 'KeyPositionGroup', label='KeyPositionGroup')\n",
    "sumFields.append('KeyPositionGroup')\n",
    "c.add(YearNFL('Year', 'Year', label='Year'))\n",
    "sumFields.append('Year')"
   ]
  },
  {
   "cell_type": "code",
   "execution_count": null,
   "id": "57a86b44",
   "metadata": {},
   "outputs": [],
   "source": [
    "features = c.compute(pairs, df_nfl, df_247)"
   ]
  },
  {
   "cell_type": "code",
   "execution_count": null,
   "id": "5c84d2c8",
   "metadata": {},
   "outputs": [],
   "source": [
    "sum = 0\n",
    "for field in sumFields:\n",
    "    sum = sum + features[field]\n",
    "\n",
    "features['Sum'] = sum / len(sumFields)\n",
    "\n",
    "features = features[features['Year'] == 1.0]\n",
    "\n",
    "features"
   ]
  },
  {
   "cell_type": "code",
   "execution_count": null,
   "id": "967c7dd6",
   "metadata": {},
   "outputs": [],
   "source": [
    "features.insert(0, 'sourceID', features.index.get_level_values(0))\n",
    "features.insert(1, 'targetID', features.index.get_level_values(1))\n",
    "\n",
    "filteredList = []\n",
    "for idx, data in features.groupby(level=0):\n",
    "    data = data.loc[data['Sum'].idxmax()]\n",
    "    if (data['Sum'] > .94):\n",
    "        filteredList.append(data)\n",
    "dfFinal = pd.DataFrame()\n",
    "dfFinal = dfFinal.append(filteredList)\n",
    "dfFinal.to_csv(\"resultsNFLTransfer.csv\")"
   ]
  },
  {
   "cell_type": "code",
   "execution_count": null,
   "id": "2ad2d415",
   "metadata": {},
   "outputs": [],
   "source": [
    "dfFinal"
   ]
  },
  {
   "cell_type": "code",
   "execution_count": null,
   "id": "35307a39",
   "metadata": {},
   "outputs": [],
   "source": [
    "fx.create_AnnotationFile(dfFinal, df_nfl, df_247)"
   ]
  },
  {
   "cell_type": "code",
   "execution_count": null,
   "id": "4378208a",
   "metadata": {},
   "outputs": [],
   "source": [
    "filename = \"..//Annotations//Results/result.json\"\n",
    "keydataset = 3\n",
    "targetkeydataset = 1\n",
    "transfer = 1\n",
    "\n",
    "fx.save_Annotations(filename, keydataset, targetkeydataset, transfer)"
   ]
  }
 ],
 "metadata": {
  "kernelspec": {
   "display_name": "Python 3 (ipykernel)",
   "language": "python",
   "name": "python3"
  },
  "language_info": {
   "codemirror_mode": {
    "name": "ipython",
    "version": 3
   },
   "file_extension": ".py",
   "mimetype": "text/x-python",
   "name": "python",
   "nbconvert_exporter": "python",
   "pygments_lexer": "ipython3",
   "version": "3.8.12"
  }
 },
 "nbformat": 4,
 "nbformat_minor": 5
}
