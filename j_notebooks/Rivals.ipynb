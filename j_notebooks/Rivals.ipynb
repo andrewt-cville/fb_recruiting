{
 "cells": [
  {
   "cell_type": "markdown",
   "metadata": {},
   "source": [
    "# Source: Rivals"
   ]
  },
  {
   "cell_type": "code",
   "execution_count": 1,
   "metadata": {},
   "outputs": [],
   "source": [
    "#hide\n",
    "import core_constants as cc\n",
    "import functions as fx\n",
    "import json\n",
    "import pandas as pd\n",
    "import sqlite3 as sql\n",
    "import os\n",
    "import recordlinkage"
   ]
  },
  {
   "cell_type": "markdown",
   "metadata": {},
   "source": [
    "## Set Notebook Settings"
   ]
  },
  {
   "cell_type": "code",
   "execution_count": 2,
   "metadata": {},
   "outputs": [],
   "source": [
    "conference = 'sunbelt'\n",
    "\n",
    "years = cc.get_defYears()\n",
    "headers= cc.get_header()\n",
    "schoolsList = cc.get_schoolsList()\n",
    "teamDirectory = cc.get_htmlDir('rivals', conference, 'teams')\n",
    "playerDirectory = cc.get_htmlDir('rivals', conference, 'recruits')\n",
    "resultsDirectory = '..//Annotations//Results/Rivals//'\n",
    "dataset = 'Rivals'"
   ]
  },
  {
   "cell_type": "markdown",
   "metadata": {},
   "source": [
    "## Get & Save the Teams & Players Page HTML\n",
    "#### Source: https://maryland.rivals.com/commitments/football/2012\n",
    "> This page contains metadata of each player along with the Rivals ranking and stars.  Unlike 247Sports, we process the fetch and save of both pages directly from a single function"
   ]
  },
  {
   "cell_type": "code",
   "execution_count": 3,
   "metadata": {},
   "outputs": [
    {
     "name": "stdout",
     "output_type": "stream",
     "text": [
      "bigten maryland\n",
      "bigten illinois\n",
      "bigten indiana\n",
      "bigten iowa\n",
      "bigten michigan\n",
      "bigten michiganstate\n",
      "bigten minnesota\n",
      "bigten nebraska\n",
      "bigten northwestern\n",
      "bigten ohiostate\n",
      "bigten bwi\n",
      "bigten purdue\n",
      "bigten rutgers\n",
      "bigten wisconsin\n",
      "sec alabama\n",
      "sec arkansas\n",
      "sec auburn\n",
      "sec florida\n",
      "sec uga\n",
      "sec kentucky\n",
      "sec lsu\n",
      "sec olemiss\n",
      "sec mississippistate\n",
      "sec missouri\n",
      "sec southcarolina\n",
      "sec tennessee\n",
      "sec tamu\n",
      "sec vanderbilt\n",
      "bigtwelve baylor\n",
      "bigtwelve iowastate\n",
      "bigtwelve kansas\n",
      "bigtwelve kansasstate\n",
      "bigtwelve oklahoma\n",
      "bigtwelve oklahomastate\n",
      "bigtwelve tcu\n",
      "bigtwelve texas\n",
      "bigtwelve texastech\n",
      "bigtwelve westvirginia\n",
      "acc bostoncollege\n",
      "acc clemson\n",
      "acc duke\n",
      "acc floridastate\n",
      "acc georgiatech\n",
      "acc louisville\n",
      "acc miami\n",
      "acc ncstate\n",
      "acc northcarolina\n",
      "acc pittsburgh\n",
      "acc syracuse\n",
      "acc virginia\n",
      "acc virginiatech\n",
      "acc wakeforest\n",
      "pactwelve arizonastate\n",
      "pactwelve arizona\n",
      "pactwelve cal\n",
      "pactwelve colorado\n",
      "pactwelve oregon\n",
      "pactwelve oregonstate\n",
      "pactwelve stanford\n",
      "pactwelve ucla\n",
      "pactwelve usc\n",
      "pactwelve utah\n",
      "pactwelve washington\n",
      "pactwelve washingtonstate\n",
      "american cincinnati\n",
      "american eastcarolina\n",
      "american houston\n",
      "american memphis\n",
      "american navy\n",
      "american smu\n",
      "american usf\n",
      "american temple\n",
      "american tulane\n",
      "american tulsa\n",
      "american ucf\n",
      "independents army\n",
      "independents byu\n",
      "independents connecticut\n"
     ]
    },
    {
     "ename": "TypeError",
     "evalue": "can only concatenate str (not \"NoneType\") to str",
     "output_type": "error",
     "traceback": [
      "\u001b[0;31m---------------------------------------------------------------------------\u001b[0m",
      "\u001b[0;31mTypeError\u001b[0m                                 Traceback (most recent call last)",
      "\u001b[0;32m/var/folders/2m/km0nycs128lb7lhq3l_z9cq00000gn/T/ipykernel_40880/975565295.py\u001b[0m in \u001b[0;36m<module>\u001b[0;34m\u001b[0m\n\u001b[0;32m----> 1\u001b[0;31m \u001b[0mfx\u001b[0m\u001b[0;34m.\u001b[0m\u001b[0mget_Rivals\u001b[0m\u001b[0;34m(\u001b[0m\u001b[0mconference\u001b[0m\u001b[0;34m,\u001b[0m \u001b[0myears\u001b[0m\u001b[0;34m,\u001b[0m \u001b[0mheaders\u001b[0m\u001b[0;34m,\u001b[0m \u001b[0msleepyTime\u001b[0m\u001b[0;34m=\u001b[0m\u001b[0;36m6\u001b[0m\u001b[0;34m)\u001b[0m\u001b[0;34m\u001b[0m\u001b[0;34m\u001b[0m\u001b[0m\n\u001b[0m",
      "\u001b[0;32m~/GitHub/fb_recruiting/j_notebooks/functions.py\u001b[0m in \u001b[0;36mget_Rivals\u001b[0;34m(conference, years, headers, sleepyTime, schools)\u001b[0m\n\u001b[1;32m    718\u001b[0m     \u001b[0;32mfor\u001b[0m \u001b[0my\u001b[0m \u001b[0;32min\u001b[0m \u001b[0myears\u001b[0m\u001b[0;34m:\u001b[0m\u001b[0;34m\u001b[0m\u001b[0;34m\u001b[0m\u001b[0m\n\u001b[1;32m    719\u001b[0m         \u001b[0;32mfor\u001b[0m \u001b[0mschool\u001b[0m \u001b[0;32min\u001b[0m \u001b[0mschools\u001b[0m\u001b[0;34m:\u001b[0m\u001b[0;34m\u001b[0m\u001b[0;34m\u001b[0m\u001b[0m\n\u001b[0;32m--> 720\u001b[0;31m             \u001b[0mprint\u001b[0m\u001b[0;34m(\u001b[0m\u001b[0mschool\u001b[0m\u001b[0;34m[\u001b[0m\u001b[0;34m'conference'\u001b[0m\u001b[0;34m]\u001b[0m \u001b[0;34m+\u001b[0m \u001b[0;34m' '\u001b[0m \u001b[0;34m+\u001b[0m \u001b[0mschool\u001b[0m\u001b[0;34m[\u001b[0m\u001b[0;34m'rivals'\u001b[0m\u001b[0;34m]\u001b[0m\u001b[0;34m)\u001b[0m\u001b[0;34m\u001b[0m\u001b[0;34m\u001b[0m\u001b[0m\n\u001b[0m\u001b[1;32m    721\u001b[0m             '''if ('rivals' in school.keys()):\n\u001b[1;32m    722\u001b[0m                 \u001b[0mteamFile\u001b[0m \u001b[0;34m=\u001b[0m \u001b[0;34m\"..//html//rivals//\"\u001b[0m \u001b[0;34m+\u001b[0m \u001b[0mconference\u001b[0m \u001b[0;34m+\u001b[0m \u001b[0;34m\"//teams//\"\u001b[0m \u001b[0;34m+\u001b[0m \u001b[0mschool\u001b[0m\u001b[0;34m[\u001b[0m\u001b[0;34m'rivals'\u001b[0m\u001b[0;34m]\u001b[0m \u001b[0;34m+\u001b[0m \u001b[0;34m\"_\"\u001b[0m \u001b[0;34m+\u001b[0m \u001b[0my\u001b[0m \u001b[0;34m+\u001b[0m \u001b[0;34m\".html\"\u001b[0m\u001b[0;34m\u001b[0m\u001b[0;34m\u001b[0m\u001b[0m\n",
      "\u001b[0;31mTypeError\u001b[0m: can only concatenate str (not \"NoneType\") to str"
     ]
    }
   ],
   "source": [
    "fx.get_Rivals(conference, years, headers, sleepyTime=6)"
   ]
  },
  {
   "cell_type": "markdown",
   "metadata": {},
   "source": [
    "## Process Local Rivals HTML Files\n",
    "\n",
    "> All of this processing is done locally, using the files saved in the previous few steps.  This creates an exhaustive store of all the fields grabbed from the scrapes.\n",
    "\n",
    ">WARN: There is a different process_rivals scrip tin the functions.py file, and it probably needs to be integrated into process_Rivals before you re-run this."
   ]
  },
  {
   "cell_type": "code",
   "execution_count": null,
   "metadata": {},
   "outputs": [],
   "source": [
    "cc.save_records('scrapedData', 'rivals_' + conference, fx.process_Rivals(playerDirectory, conference))"
   ]
  },
  {
   "cell_type": "markdown",
   "metadata": {},
   "source": [
    "## Clear DB\n",
    "> Useful for a clean start.  This removes all of the records for this dataset from the following structures: SourcedPlayers, RecordLinks.  All of the Views auto-cleanse themselves."
   ]
  },
  {
   "cell_type": "code",
   "execution_count": null,
   "metadata": {},
   "outputs": [],
   "source": [
    "fx.clearDB(dataset)"
   ]
  },
  {
   "cell_type": "markdown",
   "metadata": {},
   "source": [
    "## Save to Database"
   ]
  },
  {
   "cell_type": "code",
   "execution_count": null,
   "metadata": {},
   "outputs": [],
   "source": [
    "fx.toDB_Rivals()"
   ]
  },
  {
   "cell_type": "markdown",
   "metadata": {},
   "source": [
    "## Strict Matching\n",
    "> This saves it to RecordLinking where ID == ID, but returns IDYR as the matching target"
   ]
  },
  {
   "cell_type": "code",
   "execution_count": null,
   "metadata": {},
   "outputs": [],
   "source": [
    "fx.literalLinking(dataset)"
   ]
  },
  {
   "cell_type": "markdown",
   "metadata": {},
   "source": [
    "## Fuzzy Matching w/ Threshold\n",
    "\n",
    "> This is automatically pushing fuzzy matches above a certain threshold into the DB without the need for review [last part isn't true!  not automatically writing currently]"
   ]
  },
  {
   "cell_type": "code",
   "execution_count": null,
   "metadata": {},
   "outputs": [],
   "source": [
    "fuzzyDF = fx.doFuzzyMatching(dataset, 'Sports247')"
   ]
  },
  {
   "cell_type": "markdown",
   "metadata": {},
   "source": [
    "## Create the Annotation File\n",
    "\n",
    "> This changes the dataframe into a MultiIndex data frame that the annotation function requires\n",
    "\n",
    "> !Important - this needs to be updated to reflect the shape/size of the number of Rivals records to annotate"
   ]
  },
  {
   "cell_type": "code",
   "execution_count": null,
   "metadata": {},
   "outputs": [],
   "source": [
    "conn = sql.connect(cc.databaseName) \n",
    "          \n",
    "sql_query = pd.read_sql_query ('''\n",
    "                               SELECT\n",
    "                               *\n",
    "                               FROM SourcedPlayers\n",
    "                               WHERE KeyDataSet = 1\n",
    "                               ''', conn)\n",
    "\n",
    "df_247 = pd.DataFrame(sql_query, columns = ['IDYR', 'College', 'Year', 'Position'])\n",
    "df_247.set_index('IDYR', append=False, inplace=True)\n",
    "sql_query = pd.read_sql_query ('''\n",
    "                               SELECT\n",
    "                               *\n",
    "                               FROM UnlinkedRivals\n",
    "                               ''', conn)\n",
    "\n",
    "df_rivals = pd.DataFrame(sql_query, columns = ['IDYR', 'College', 'Year', 'Position'])\n",
    "df_rivals.set_index('IDYR', append=False, inplace=True)\n",
    "\n",
    "fuzzyMI = pd.MultiIndex.from_frame(fuzzyDF)\n",
    "recordlinkage.write_annotation_file(\n",
    "    \"../Annotations/Annotations/annotation_RIVALS_92522.json\",\n",
    "    fuzzyMI[0:300],\n",
    "    df_rivals,\n",
    "    df_247,\n",
    "    dataset_a_name=\"Rivals\",\n",
    "    dataset_b_name=\"Master\"\n",
    ")"
   ]
  },
  {
   "cell_type": "markdown",
   "metadata": {},
   "source": [
    "## Read in the Annotation File\n",
    "> Take the resulting Annotation file after handling the processing and insert it into the right table"
   ]
  },
  {
   "cell_type": "code",
   "execution_count": null,
   "metadata": {},
   "outputs": [],
   "source": [
    "for filename in os.listdir(resultsDirectory):\n",
    "    \n",
    "    f = os.path.join(resultsDirectory, filename)\n",
    "    if os.path.isfile(f):\n",
    "        annotation = recordlinkage.read_annotation_file(f)\n",
    "        try:\n",
    "            annotation_dict = {}\n",
    "            if (annotation.links is not None):\n",
    "                annotation_dict = (annotation.links).to_flat_index()\n",
    "                for record in annotation_dict:\n",
    "                    Values = [record[0], record[1], 2, 1, 1]\n",
    "                    query = '''INSERT INTO RecordLinks(MasterID, TargetID, KeyDataSet, KeyLinkType, LinkConfidence)\n",
    "            VALUES (?,?,?,?,?)'''\n",
    "\n",
    "                    conn = sql.connect(cc.databaseName)\n",
    "                    c = conn.cursor()\n",
    "\n",
    "                    c.execute(query, Values)\n",
    "                    conn.commit()\n",
    "\n",
    "        except Exception as e:\n",
    "            print(e)\n",
    "conn.close()"
   ]
  },
  {
   "cell_type": "markdown",
   "metadata": {},
   "source": [
    "## Insert Annotations to RecordLinks"
   ]
  },
  {
   "cell_type": "code",
   "execution_count": null,
   "metadata": {},
   "outputs": [],
   "source": [
    "fuzzylist = fuzzyDF.values.tolist()"
   ]
  },
  {
   "cell_type": "code",
   "execution_count": null,
   "metadata": {},
   "outputs": [],
   "source": [
    "fuzzylist[0]"
   ]
  },
  {
   "cell_type": "code",
   "execution_count": null,
   "metadata": {},
   "outputs": [],
   "source": [
    "for record in fuzzylist:\n",
    "    #MAKE SURE YOU UPDATE THE THIRD VALUE TO THE CORRECT KEYDATASET!!\n",
    "    Values = [record[0], record[1], 2, 1, 1, record[9],0]\n",
    "    query = '''INSERT INTO RecordLinks(MasterID, TargetID, KeyDataSet, TargetKeyDataSet, KeyLinkType, LinkConfidence, Transfer)\n",
    "        VALUES (?,?,?,?,?,?,?)'''\n",
    "    \n",
    "    conn = sql.connect(cc.databaseName)\n",
    "    c = conn.cursor()\n",
    "    \n",
    "    c.execute(query, Values)\n",
    "    conn.commit()\n",
    "    \n",
    "conn.close()"
   ]
  },
  {
   "cell_type": "code",
   "execution_count": null,
   "metadata": {},
   "outputs": [],
   "source": []
  }
 ],
 "metadata": {
  "kernelspec": {
   "display_name": "Python 3 (ipykernel)",
   "language": "python",
   "name": "python3"
  },
  "language_info": {
   "codemirror_mode": {
    "name": "ipython",
    "version": 3
   },
   "file_extension": ".py",
   "mimetype": "text/x-python",
   "name": "python",
   "nbconvert_exporter": "python",
   "pygments_lexer": "ipython3",
   "version": "3.8.12"
  }
 },
 "nbformat": 4,
 "nbformat_minor": 2
}
