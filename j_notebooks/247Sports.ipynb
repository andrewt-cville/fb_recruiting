{
 "cells": [
  {
   "cell_type": "markdown",
   "metadata": {},
   "source": [
    "# Source: 247Sports"
   ]
  },
  {
   "cell_type": "code",
   "execution_count": 1,
   "metadata": {},
   "outputs": [],
   "source": [
    "#hide\n",
    "import json\n",
    "import core_constants as cc\n",
    "import functions as fx\n",
    "import pandas as pd\n",
    "import sqlite3 as sql"
   ]
  },
  {
   "cell_type": "markdown",
   "metadata": {},
   "source": [
    "## Set Notebook Settings"
   ]
  },
  {
   "cell_type": "code",
   "execution_count": 2,
   "metadata": {},
   "outputs": [],
   "source": [
    "conference = 'sunbelt'\n",
    "\n",
    "years = cc.get_defYears()\n",
    "headers= cc.get_header()\n",
    "schoolsList = cc.get_schoolsList()\n",
    "teamDirectory = cc.get_htmlDir('247', conference, 'teams')\n",
    "playerDirectory = cc.get_htmlDir('247', conference, 'recruits') #rename the folder please\n",
    "prospectDirectory = cc.get_htmlDir('247', conference, 'prospects') #rename the folder please"
   ]
  },
  {
   "cell_type": "markdown",
   "metadata": {},
   "source": [
    "## Get & Save the Teams Page HTML\n",
    "#### Source: https://247sports.com/college/maryland/Season/2020-Football/Commits/\n",
    "> This page contains metadata of each player along with the Composite Recruiting Rankings for the player. It then saves all of the HTML files locally within a gitignored HTML folder.  If the file already exists, you will see a log message indicating as such, and you will not reprocess the request"
   ]
  },
  {
   "cell_type": "code",
   "execution_count": null,
   "metadata": {},
   "outputs": [],
   "source": [
    "fx.get_247Teams(conference, schoolsList, years, headers)"
   ]
  },
  {
   "cell_type": "markdown",
   "metadata": {},
   "source": [
    "## Get & Save the Player Page HTML\n",
    "\n",
    "#### Source: https://247sports.com/player/stefon-diggs-818/\n",
    "\n",
    "> We don't care about anything unique here that we didn't get above.  But this is our only bridge to their prospect profile (prospect id isn't the same as player id).  And 247 places their own rating only on the prospect page.  Same as above - HTML is saved locally and if the file already exists, we won't make the request."
   ]
  },
  {
   "cell_type": "code",
   "execution_count": null,
   "metadata": {},
   "outputs": [],
   "source": [
    "fx.get_247PlayerProfiles(conference, teamDirectory, headers)"
   ]
  },
  {
   "cell_type": "markdown",
   "metadata": {},
   "source": [
    "## Get & Save the Recruit Profile Page HTML\n",
    "\n",
    "#### Source: https://247sports.com/Player/Stefon-Diggs-818/high-school-2742/\n",
    "\n",
    "> This is where we will eventually get the 247 rating from.  As above, we are saving the HTML file locally and logging a message if the file already exists"
   ]
  },
  {
   "cell_type": "code",
   "execution_count": null,
   "metadata": {},
   "outputs": [],
   "source": [
    "fx.get_247ProspectProfiles(conference, playerDirectory, headers)"
   ]
  },
  {
   "cell_type": "markdown",
   "metadata": {},
   "source": [
    "## Process Local 247 HTML Files\n",
    "#### Output: JSON File into \\scrapedData\\ \n",
    "> All of this processing is done locally, using the files saved in the previous few steps.  This creates an exhaustive store of all the fields grabbed from the scrapes."
   ]
  },
  {
   "cell_type": "code",
   "execution_count": null,
   "metadata": {},
   "outputs": [],
   "source": [
    "cc.save_records('scrapedData', '247_' + conference, fx.process_247Sports(prospectDirectory, teamDirectory))"
   ]
  },
  {
   "cell_type": "markdown",
   "metadata": {},
   "source": [
    "### For Processing Conferences in Batch"
   ]
  },
  {
   "cell_type": "code",
   "execution_count": 3,
   "metadata": {},
   "outputs": [
    {
     "name": "stdout",
     "output_type": "stream",
     "text": [
      "working on - bigten\n",
      "working on - bigtwelve\n",
      "working on - acc\n",
      "working on - sec\n",
      "working on - pactwelve\n",
      "working on - american\n",
      "working on - independents\n",
      "working on - cusa\n",
      "working on - mac\n",
      "working on - mwc\n",
      "working on - sunbelt\n"
     ]
    }
   ],
   "source": [
    "conferences = cc.get_availableConferences()\n",
    "\n",
    "for conf in conferences:\n",
    "    print (\"working on - \" + conf)\n",
    "    conference = conf\n",
    "    years = cc.get_defYears()\n",
    "    headers= cc.get_header()\n",
    "    schoolsList = cc.get_schoolsList()\n",
    "    teamDirectory = cc.get_htmlDir('247', conference, 'teams')\n",
    "    playerDirectory = cc.get_htmlDir('247', conference, 'recruits') #rename the folder please\n",
    "    prospectDirectory = cc.get_htmlDir('247', conference, 'prospects') #rename the folder please\n",
    "    \n",
    "    cc.save_records('scrapedData', '247_' + conf, fx.process_247Sports(prospectDirectory, teamDirectory))"
   ]
  },
  {
   "cell_type": "markdown",
   "metadata": {},
   "source": [
    "## Save to DB"
   ]
  },
  {
   "cell_type": "code",
   "execution_count": 4,
   "metadata": {},
   "outputs": [],
   "source": [
    "fx.toDB_247Sports()"
   ]
  },
  {
   "cell_type": "code",
   "execution_count": null,
   "metadata": {},
   "outputs": [],
   "source": []
  }
 ],
 "metadata": {
  "kernelspec": {
   "display_name": "Python 3",
   "language": "python",
   "name": "python3"
  },
  "language_info": {
   "codemirror_mode": {
    "name": "ipython",
    "version": 3
   },
   "file_extension": ".py",
   "mimetype": "text/x-python",
   "name": "python",
   "nbconvert_exporter": "python",
   "pygments_lexer": "ipython3",
   "version": "3.8.5"
  }
 },
 "nbformat": 4,
 "nbformat_minor": 2
}
